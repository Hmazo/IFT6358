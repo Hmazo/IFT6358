{
 "cells": [
  {
   "cell_type": "code",
   "execution_count": 2,
   "id": "33c1097c",
   "metadata": {},
   "outputs": [
    {
     "name": "stderr",
     "output_type": "stream",
     "text": [
      "/Users/yassine/anaconda3/lib/python3.11/site-packages/pandas/core/arrays/masked.py:60: UserWarning: Pandas requires version '1.3.6' or newer of 'bottleneck' (version '1.3.5' currently installed).\n",
      "  from pandas.core import (\n"
     ]
    }
   ],
   "source": [
    "import pandas as pd\n",
    "from sklearn.model_selection import train_test_split\n",
    "from sklearn.linear_model import LogisticRegression\n",
    "from sklearn.metrics import roc_curve, auc\n",
    "import numpy as np\n",
    "from matplotlib.ticker import FuncFormatter\n",
    "import matplotlib.pyplot as plt\n",
    "import scipy.stats as stats\n",
    "from sklearn.calibration import CalibrationDisplay\n",
    "from sklearn.tree import DecisionTreeClassifier\n",
    "from sklearn.model_selection import GridSearchCV\n",
    "from sklearn.model_selection import RandomizedSearchCV\n",
    "from sklearn.preprocessing import LabelEncoder\n",
    "import seaborn as sns\n",
    "from sklearn.metrics import accuracy_score, roc_auc_score, classification_report, f1_score, precision_score, recall_score, confusion_matrix\n",
    "from sklearn.metrics import roc_curve, auc\n",
    "import wandb"
   ]
  },
  {
   "cell_type": "code",
   "execution_count": 3,
   "id": "5211e5ac",
   "metadata": {},
   "outputs": [],
   "source": [
    "df_standard = pd.read_csv('dataframe/combined_shots_data.csv')\n",
    "df_enriched= pd.read_csv('dataframe/train_data_enriched.csv')"
   ]
  },
  {
   "cell_type": "code",
   "execution_count": 4,
   "id": "678f741a",
   "metadata": {},
   "outputs": [
    {
     "data": {
      "text/html": [
       "<div>\n",
       "<style scoped>\n",
       "    .dataframe tbody tr th:only-of-type {\n",
       "        vertical-align: middle;\n",
       "    }\n",
       "\n",
       "    .dataframe tbody tr th {\n",
       "        vertical-align: top;\n",
       "    }\n",
       "\n",
       "    .dataframe thead th {\n",
       "        text-align: right;\n",
       "    }\n",
       "</style>\n",
       "<table border=\"1\" class=\"dataframe\">\n",
       "  <thead>\n",
       "    <tr style=\"text-align: right;\">\n",
       "      <th></th>\n",
       "      <th>shot_distance</th>\n",
       "      <th>shot_angle</th>\n",
       "      <th>is_goal</th>\n",
       "      <th>empty_net</th>\n",
       "    </tr>\n",
       "  </thead>\n",
       "  <tbody>\n",
       "    <tr>\n",
       "      <th>0</th>\n",
       "      <td>51.429563</td>\n",
       "      <td>26.565051</td>\n",
       "      <td>0</td>\n",
       "      <td>0</td>\n",
       "    </tr>\n",
       "    <tr>\n",
       "      <th>1</th>\n",
       "      <td>30.083218</td>\n",
       "      <td>21.447736</td>\n",
       "      <td>0</td>\n",
       "      <td>0</td>\n",
       "    </tr>\n",
       "    <tr>\n",
       "      <th>2</th>\n",
       "      <td>13.000000</td>\n",
       "      <td>22.619865</td>\n",
       "      <td>0</td>\n",
       "      <td>0</td>\n",
       "    </tr>\n",
       "    <tr>\n",
       "      <th>3</th>\n",
       "      <td>33.060551</td>\n",
       "      <td>3.468229</td>\n",
       "      <td>0</td>\n",
       "      <td>0</td>\n",
       "    </tr>\n",
       "    <tr>\n",
       "      <th>4</th>\n",
       "      <td>38.078866</td>\n",
       "      <td>-13.671307</td>\n",
       "      <td>0</td>\n",
       "      <td>0</td>\n",
       "    </tr>\n",
       "  </tbody>\n",
       "</table>\n",
       "</div>"
      ],
      "text/plain": [
       "   shot_distance  shot_angle  is_goal  empty_net\n",
       "0      51.429563   26.565051        0          0\n",
       "1      30.083218   21.447736        0          0\n",
       "2      13.000000   22.619865        0          0\n",
       "3      33.060551    3.468229        0          0\n",
       "4      38.078866  -13.671307        0          0"
      ]
     },
     "execution_count": 4,
     "metadata": {},
     "output_type": "execute_result"
    }
   ],
   "source": [
    "df_standard.head(5)"
   ]
  },
  {
   "cell_type": "code",
   "execution_count": 5,
   "id": "e6691c22",
   "metadata": {},
   "outputs": [
    {
     "data": {
      "text/plain": [
       "Index(['game_id', 'game_seconds', 'game_period', 'x_coord', 'y_coord',\n",
       "       'shot_distance', 'shot_angle', 'shot_type', 'empty_net',\n",
       "       'last_event_type', 'last_event_x', 'last_event_y',\n",
       "       'time_since_last_event', 'distance_from_last_event', 'friendly_skaters',\n",
       "       'opposing_skaters', 'attacking_team_id', 'attacking_team_name',\n",
       "       'home_team', 'is_goal', 'rebound', 'shot_angle_change', 'speed'],\n",
       "      dtype='object')"
      ]
     },
     "execution_count": 5,
     "metadata": {},
     "output_type": "execute_result"
    }
   ],
   "source": [
    "df_enriched.columns"
   ]
  },
  {
   "cell_type": "code",
   "execution_count": 6,
   "id": "1cc2e2da",
   "metadata": {},
   "outputs": [
    {
     "data": {
      "text/html": [
       "<div>\n",
       "<style scoped>\n",
       "    .dataframe tbody tr th:only-of-type {\n",
       "        vertical-align: middle;\n",
       "    }\n",
       "\n",
       "    .dataframe tbody tr th {\n",
       "        vertical-align: top;\n",
       "    }\n",
       "\n",
       "    .dataframe thead th {\n",
       "        text-align: right;\n",
       "    }\n",
       "</style>\n",
       "<table border=\"1\" class=\"dataframe\">\n",
       "  <thead>\n",
       "    <tr style=\"text-align: right;\">\n",
       "      <th></th>\n",
       "      <th>game_id</th>\n",
       "      <th>game_seconds</th>\n",
       "      <th>game_period</th>\n",
       "      <th>x_coord</th>\n",
       "      <th>y_coord</th>\n",
       "      <th>shot_distance</th>\n",
       "      <th>shot_angle</th>\n",
       "      <th>shot_type</th>\n",
       "      <th>empty_net</th>\n",
       "      <th>last_event_type</th>\n",
       "      <th>...</th>\n",
       "      <th>distance_from_last_event</th>\n",
       "      <th>friendly_skaters</th>\n",
       "      <th>opposing_skaters</th>\n",
       "      <th>attacking_team_id</th>\n",
       "      <th>attacking_team_name</th>\n",
       "      <th>home_team</th>\n",
       "      <th>is_goal</th>\n",
       "      <th>rebound</th>\n",
       "      <th>shot_angle_change</th>\n",
       "      <th>speed</th>\n",
       "    </tr>\n",
       "  </thead>\n",
       "  <tbody>\n",
       "    <tr>\n",
       "      <th>0</th>\n",
       "      <td>2016020001</td>\n",
       "      <td>63</td>\n",
       "      <td>1</td>\n",
       "      <td>-43.0</td>\n",
       "      <td>23.0</td>\n",
       "      <td>51.429563</td>\n",
       "      <td>26.565051</td>\n",
       "      <td>NaN</td>\n",
       "      <td>1</td>\n",
       "      <td>takeaway</td>\n",
       "      <td>...</td>\n",
       "      <td>40.853396</td>\n",
       "      <td>5</td>\n",
       "      <td>5</td>\n",
       "      <td>10</td>\n",
       "      <td>Maple Leafs</td>\n",
       "      <td>Senators</td>\n",
       "      <td>0</td>\n",
       "      <td>False</td>\n",
       "      <td>0.000000</td>\n",
       "      <td>2.042670</td>\n",
       "    </tr>\n",
       "    <tr>\n",
       "      <th>1</th>\n",
       "      <td>2016020001</td>\n",
       "      <td>70</td>\n",
       "      <td>1</td>\n",
       "      <td>-61.0</td>\n",
       "      <td>11.0</td>\n",
       "      <td>30.083218</td>\n",
       "      <td>21.447736</td>\n",
       "      <td>NaN</td>\n",
       "      <td>1</td>\n",
       "      <td>blocked-shot</td>\n",
       "      <td>...</td>\n",
       "      <td>21.633308</td>\n",
       "      <td>5</td>\n",
       "      <td>5</td>\n",
       "      <td>10</td>\n",
       "      <td>Maple Leafs</td>\n",
       "      <td>Senators</td>\n",
       "      <td>0</td>\n",
       "      <td>False</td>\n",
       "      <td>0.000000</td>\n",
       "      <td>3.090473</td>\n",
       "    </tr>\n",
       "    <tr>\n",
       "      <th>2</th>\n",
       "      <td>2016020001</td>\n",
       "      <td>71</td>\n",
       "      <td>1</td>\n",
       "      <td>-77.0</td>\n",
       "      <td>5.0</td>\n",
       "      <td>13.000000</td>\n",
       "      <td>22.619865</td>\n",
       "      <td>wrist</td>\n",
       "      <td>0</td>\n",
       "      <td>blocked-shot</td>\n",
       "      <td>...</td>\n",
       "      <td>17.088007</td>\n",
       "      <td>5</td>\n",
       "      <td>5</td>\n",
       "      <td>10</td>\n",
       "      <td>Maple Leafs</td>\n",
       "      <td>Senators</td>\n",
       "      <td>0</td>\n",
       "      <td>False</td>\n",
       "      <td>0.000000</td>\n",
       "      <td>17.088007</td>\n",
       "    </tr>\n",
       "    <tr>\n",
       "      <th>3</th>\n",
       "      <td>2016020001</td>\n",
       "      <td>125</td>\n",
       "      <td>1</td>\n",
       "      <td>56.0</td>\n",
       "      <td>-2.0</td>\n",
       "      <td>33.060551</td>\n",
       "      <td>3.468229</td>\n",
       "      <td>NaN</td>\n",
       "      <td>1</td>\n",
       "      <td>shot-on-goal</td>\n",
       "      <td>...</td>\n",
       "      <td>133.184083</td>\n",
       "      <td>5</td>\n",
       "      <td>5</td>\n",
       "      <td>9</td>\n",
       "      <td>Senators</td>\n",
       "      <td>Senators</td>\n",
       "      <td>0</td>\n",
       "      <td>True</td>\n",
       "      <td>-19.151636</td>\n",
       "      <td>2.466372</td>\n",
       "    </tr>\n",
       "    <tr>\n",
       "      <th>4</th>\n",
       "      <td>2016020001</td>\n",
       "      <td>134</td>\n",
       "      <td>1</td>\n",
       "      <td>52.0</td>\n",
       "      <td>9.0</td>\n",
       "      <td>38.078866</td>\n",
       "      <td>-13.671307</td>\n",
       "      <td>wrist</td>\n",
       "      <td>0</td>\n",
       "      <td>blocked-shot</td>\n",
       "      <td>...</td>\n",
       "      <td>11.704700</td>\n",
       "      <td>5</td>\n",
       "      <td>5</td>\n",
       "      <td>9</td>\n",
       "      <td>Senators</td>\n",
       "      <td>Senators</td>\n",
       "      <td>0</td>\n",
       "      <td>False</td>\n",
       "      <td>0.000000</td>\n",
       "      <td>1.300522</td>\n",
       "    </tr>\n",
       "  </tbody>\n",
       "</table>\n",
       "<p>5 rows × 23 columns</p>\n",
       "</div>"
      ],
      "text/plain": [
       "      game_id  game_seconds  game_period  x_coord  y_coord  shot_distance  \\\n",
       "0  2016020001            63            1    -43.0     23.0      51.429563   \n",
       "1  2016020001            70            1    -61.0     11.0      30.083218   \n",
       "2  2016020001            71            1    -77.0      5.0      13.000000   \n",
       "3  2016020001           125            1     56.0     -2.0      33.060551   \n",
       "4  2016020001           134            1     52.0      9.0      38.078866   \n",
       "\n",
       "   shot_angle shot_type  empty_net last_event_type  ...  \\\n",
       "0   26.565051       NaN          1        takeaway  ...   \n",
       "1   21.447736       NaN          1    blocked-shot  ...   \n",
       "2   22.619865     wrist          0    blocked-shot  ...   \n",
       "3    3.468229       NaN          1    shot-on-goal  ...   \n",
       "4  -13.671307     wrist          0    blocked-shot  ...   \n",
       "\n",
       "   distance_from_last_event  friendly_skaters  opposing_skaters  \\\n",
       "0                 40.853396                 5                 5   \n",
       "1                 21.633308                 5                 5   \n",
       "2                 17.088007                 5                 5   \n",
       "3                133.184083                 5                 5   \n",
       "4                 11.704700                 5                 5   \n",
       "\n",
       "   attacking_team_id  attacking_team_name  home_team  is_goal rebound  \\\n",
       "0                 10          Maple Leafs   Senators        0   False   \n",
       "1                 10          Maple Leafs   Senators        0   False   \n",
       "2                 10          Maple Leafs   Senators        0   False   \n",
       "3                  9             Senators   Senators        0    True   \n",
       "4                  9             Senators   Senators        0   False   \n",
       "\n",
       "  shot_angle_change      speed  \n",
       "0          0.000000   2.042670  \n",
       "1          0.000000   3.090473  \n",
       "2          0.000000  17.088007  \n",
       "3        -19.151636   2.466372  \n",
       "4          0.000000   1.300522  \n",
       "\n",
       "[5 rows x 23 columns]"
      ]
     },
     "execution_count": 6,
     "metadata": {},
     "output_type": "execute_result"
    }
   ],
   "source": [
    "df_enriched.head(5)"
   ]
  },
  {
   "cell_type": "code",
   "execution_count": 7,
   "id": "e0b289f7",
   "metadata": {},
   "outputs": [],
   "source": [
    "# Categorical features\n",
    "data_categ = df_enriched.select_dtypes(include=['object'])\n",
    "\n",
    "# Numerical features\n",
    "data_numer = df_enriched.select_dtypes(include=['float64', 'int64'])\n",
    "\n",
    "# Bool features\n",
    "data_bool = df_enriched.select_dtypes(include=['bool'])"
   ]
  },
  {
   "cell_type": "code",
   "execution_count": 8,
   "id": "f17660c9",
   "metadata": {},
   "outputs": [],
   "source": [
    "data_categ = data_categ.drop(['attacking_team_name','home_team'], axis=1)"
   ]
  },
  {
   "cell_type": "code",
   "execution_count": 9,
   "id": "c6cd5d1f",
   "metadata": {},
   "outputs": [
    {
     "data": {
      "text/html": [
       "<div>\n",
       "<style scoped>\n",
       "    .dataframe tbody tr th:only-of-type {\n",
       "        vertical-align: middle;\n",
       "    }\n",
       "\n",
       "    .dataframe tbody tr th {\n",
       "        vertical-align: top;\n",
       "    }\n",
       "\n",
       "    .dataframe thead th {\n",
       "        text-align: right;\n",
       "    }\n",
       "</style>\n",
       "<table border=\"1\" class=\"dataframe\">\n",
       "  <thead>\n",
       "    <tr style=\"text-align: right;\">\n",
       "      <th></th>\n",
       "      <th>shot_type</th>\n",
       "      <th>last_event_type</th>\n",
       "    </tr>\n",
       "  </thead>\n",
       "  <tbody>\n",
       "    <tr>\n",
       "      <th>0</th>\n",
       "      <td>NaN</td>\n",
       "      <td>takeaway</td>\n",
       "    </tr>\n",
       "    <tr>\n",
       "      <th>1</th>\n",
       "      <td>NaN</td>\n",
       "      <td>blocked-shot</td>\n",
       "    </tr>\n",
       "    <tr>\n",
       "      <th>2</th>\n",
       "      <td>wrist</td>\n",
       "      <td>blocked-shot</td>\n",
       "    </tr>\n",
       "    <tr>\n",
       "      <th>3</th>\n",
       "      <td>NaN</td>\n",
       "      <td>shot-on-goal</td>\n",
       "    </tr>\n",
       "    <tr>\n",
       "      <th>4</th>\n",
       "      <td>wrist</td>\n",
       "      <td>blocked-shot</td>\n",
       "    </tr>\n",
       "    <tr>\n",
       "      <th>...</th>\n",
       "      <td>...</td>\n",
       "      <td>...</td>\n",
       "    </tr>\n",
       "    <tr>\n",
       "      <th>607061</th>\n",
       "      <td>NaN</td>\n",
       "      <td>blocked-shot</td>\n",
       "    </tr>\n",
       "    <tr>\n",
       "      <th>607062</th>\n",
       "      <td>wrist</td>\n",
       "      <td>faceoff</td>\n",
       "    </tr>\n",
       "    <tr>\n",
       "      <th>607063</th>\n",
       "      <td>wrist</td>\n",
       "      <td>shot-on-goal</td>\n",
       "    </tr>\n",
       "    <tr>\n",
       "      <th>607064</th>\n",
       "      <td>wrist</td>\n",
       "      <td>missed-shot</td>\n",
       "    </tr>\n",
       "    <tr>\n",
       "      <th>607065</th>\n",
       "      <td>wrist</td>\n",
       "      <td>shot-on-goal</td>\n",
       "    </tr>\n",
       "  </tbody>\n",
       "</table>\n",
       "<p>607066 rows × 2 columns</p>\n",
       "</div>"
      ],
      "text/plain": [
       "       shot_type last_event_type\n",
       "0            NaN        takeaway\n",
       "1            NaN    blocked-shot\n",
       "2          wrist    blocked-shot\n",
       "3            NaN    shot-on-goal\n",
       "4          wrist    blocked-shot\n",
       "...          ...             ...\n",
       "607061       NaN    blocked-shot\n",
       "607062     wrist         faceoff\n",
       "607063     wrist    shot-on-goal\n",
       "607064     wrist     missed-shot\n",
       "607065     wrist    shot-on-goal\n",
       "\n",
       "[607066 rows x 2 columns]"
      ]
     },
     "execution_count": 9,
     "metadata": {},
     "output_type": "execute_result"
    }
   ],
   "source": [
    "data_categ"
   ]
  },
  {
   "cell_type": "code",
   "execution_count": 10,
   "id": "6066b4f2",
   "metadata": {},
   "outputs": [
    {
     "data": {
      "text/html": [
       "<div>\n",
       "<style scoped>\n",
       "    .dataframe tbody tr th:only-of-type {\n",
       "        vertical-align: middle;\n",
       "    }\n",
       "\n",
       "    .dataframe tbody tr th {\n",
       "        vertical-align: top;\n",
       "    }\n",
       "\n",
       "    .dataframe thead th {\n",
       "        text-align: right;\n",
       "    }\n",
       "</style>\n",
       "<table border=\"1\" class=\"dataframe\">\n",
       "  <thead>\n",
       "    <tr style=\"text-align: right;\">\n",
       "      <th></th>\n",
       "      <th>game_id</th>\n",
       "      <th>game_seconds</th>\n",
       "      <th>game_period</th>\n",
       "      <th>x_coord</th>\n",
       "      <th>y_coord</th>\n",
       "      <th>shot_distance</th>\n",
       "      <th>shot_angle</th>\n",
       "      <th>empty_net</th>\n",
       "      <th>last_event_x</th>\n",
       "      <th>last_event_y</th>\n",
       "      <th>time_since_last_event</th>\n",
       "      <th>distance_from_last_event</th>\n",
       "      <th>friendly_skaters</th>\n",
       "      <th>opposing_skaters</th>\n",
       "      <th>attacking_team_id</th>\n",
       "      <th>is_goal</th>\n",
       "      <th>shot_angle_change</th>\n",
       "      <th>speed</th>\n",
       "    </tr>\n",
       "  </thead>\n",
       "  <tbody>\n",
       "    <tr>\n",
       "      <th>0</th>\n",
       "      <td>2016020001</td>\n",
       "      <td>63</td>\n",
       "      <td>1</td>\n",
       "      <td>-43.0</td>\n",
       "      <td>23.0</td>\n",
       "      <td>51.429563</td>\n",
       "      <td>26.565051</td>\n",
       "      <td>1</td>\n",
       "      <td>-81.0</td>\n",
       "      <td>38.0</td>\n",
       "      <td>20</td>\n",
       "      <td>40.853396</td>\n",
       "      <td>5</td>\n",
       "      <td>5</td>\n",
       "      <td>10</td>\n",
       "      <td>0</td>\n",
       "      <td>0.000000</td>\n",
       "      <td>2.042670</td>\n",
       "    </tr>\n",
       "    <tr>\n",
       "      <th>1</th>\n",
       "      <td>2016020001</td>\n",
       "      <td>70</td>\n",
       "      <td>1</td>\n",
       "      <td>-61.0</td>\n",
       "      <td>11.0</td>\n",
       "      <td>30.083218</td>\n",
       "      <td>21.447736</td>\n",
       "      <td>1</td>\n",
       "      <td>-43.0</td>\n",
       "      <td>23.0</td>\n",
       "      <td>7</td>\n",
       "      <td>21.633308</td>\n",
       "      <td>5</td>\n",
       "      <td>5</td>\n",
       "      <td>10</td>\n",
       "      <td>0</td>\n",
       "      <td>0.000000</td>\n",
       "      <td>3.090473</td>\n",
       "    </tr>\n",
       "    <tr>\n",
       "      <th>2</th>\n",
       "      <td>2016020001</td>\n",
       "      <td>71</td>\n",
       "      <td>1</td>\n",
       "      <td>-77.0</td>\n",
       "      <td>5.0</td>\n",
       "      <td>13.000000</td>\n",
       "      <td>22.619865</td>\n",
       "      <td>0</td>\n",
       "      <td>-61.0</td>\n",
       "      <td>11.0</td>\n",
       "      <td>1</td>\n",
       "      <td>17.088007</td>\n",
       "      <td>5</td>\n",
       "      <td>5</td>\n",
       "      <td>10</td>\n",
       "      <td>0</td>\n",
       "      <td>0.000000</td>\n",
       "      <td>17.088007</td>\n",
       "    </tr>\n",
       "    <tr>\n",
       "      <th>3</th>\n",
       "      <td>2016020001</td>\n",
       "      <td>125</td>\n",
       "      <td>1</td>\n",
       "      <td>56.0</td>\n",
       "      <td>-2.0</td>\n",
       "      <td>33.060551</td>\n",
       "      <td>3.468229</td>\n",
       "      <td>1</td>\n",
       "      <td>-77.0</td>\n",
       "      <td>5.0</td>\n",
       "      <td>54</td>\n",
       "      <td>133.184083</td>\n",
       "      <td>5</td>\n",
       "      <td>5</td>\n",
       "      <td>9</td>\n",
       "      <td>0</td>\n",
       "      <td>-19.151636</td>\n",
       "      <td>2.466372</td>\n",
       "    </tr>\n",
       "    <tr>\n",
       "      <th>4</th>\n",
       "      <td>2016020001</td>\n",
       "      <td>134</td>\n",
       "      <td>1</td>\n",
       "      <td>52.0</td>\n",
       "      <td>9.0</td>\n",
       "      <td>38.078866</td>\n",
       "      <td>-13.671307</td>\n",
       "      <td>0</td>\n",
       "      <td>56.0</td>\n",
       "      <td>-2.0</td>\n",
       "      <td>9</td>\n",
       "      <td>11.704700</td>\n",
       "      <td>5</td>\n",
       "      <td>5</td>\n",
       "      <td>9</td>\n",
       "      <td>0</td>\n",
       "      <td>0.000000</td>\n",
       "      <td>1.300522</td>\n",
       "    </tr>\n",
       "    <tr>\n",
       "      <th>...</th>\n",
       "      <td>...</td>\n",
       "      <td>...</td>\n",
       "      <td>...</td>\n",
       "      <td>...</td>\n",
       "      <td>...</td>\n",
       "      <td>...</td>\n",
       "      <td>...</td>\n",
       "      <td>...</td>\n",
       "      <td>...</td>\n",
       "      <td>...</td>\n",
       "      <td>...</td>\n",
       "      <td>...</td>\n",
       "      <td>...</td>\n",
       "      <td>...</td>\n",
       "      <td>...</td>\n",
       "      <td>...</td>\n",
       "      <td>...</td>\n",
       "      <td>...</td>\n",
       "    </tr>\n",
       "    <tr>\n",
       "      <th>607061</th>\n",
       "      <td>2019030416</td>\n",
       "      <td>3560</td>\n",
       "      <td>3</td>\n",
       "      <td>79.0</td>\n",
       "      <td>-2.0</td>\n",
       "      <td>10.198039</td>\n",
       "      <td>11.309932</td>\n",
       "      <td>1</td>\n",
       "      <td>75.0</td>\n",
       "      <td>-12.0</td>\n",
       "      <td>3</td>\n",
       "      <td>10.770330</td>\n",
       "      <td>6</td>\n",
       "      <td>5</td>\n",
       "      <td>25</td>\n",
       "      <td>0</td>\n",
       "      <td>0.000000</td>\n",
       "      <td>3.590110</td>\n",
       "    </tr>\n",
       "    <tr>\n",
       "      <th>607062</th>\n",
       "      <td>2019030416</td>\n",
       "      <td>3567</td>\n",
       "      <td>3</td>\n",
       "      <td>31.0</td>\n",
       "      <td>10.0</td>\n",
       "      <td>58.855756</td>\n",
       "      <td>-9.782407</td>\n",
       "      <td>0</td>\n",
       "      <td>69.0</td>\n",
       "      <td>-22.0</td>\n",
       "      <td>5</td>\n",
       "      <td>49.678969</td>\n",
       "      <td>6</td>\n",
       "      <td>5</td>\n",
       "      <td>25</td>\n",
       "      <td>0</td>\n",
       "      <td>0.000000</td>\n",
       "      <td>9.935794</td>\n",
       "    </tr>\n",
       "    <tr>\n",
       "      <th>607063</th>\n",
       "      <td>2019030416</td>\n",
       "      <td>3575</td>\n",
       "      <td>3</td>\n",
       "      <td>84.0</td>\n",
       "      <td>7.0</td>\n",
       "      <td>8.602325</td>\n",
       "      <td>-54.462322</td>\n",
       "      <td>0</td>\n",
       "      <td>31.0</td>\n",
       "      <td>10.0</td>\n",
       "      <td>8</td>\n",
       "      <td>53.084838</td>\n",
       "      <td>6</td>\n",
       "      <td>5</td>\n",
       "      <td>25</td>\n",
       "      <td>0</td>\n",
       "      <td>-44.679915</td>\n",
       "      <td>6.635605</td>\n",
       "    </tr>\n",
       "    <tr>\n",
       "      <th>607064</th>\n",
       "      <td>2019030416</td>\n",
       "      <td>3585</td>\n",
       "      <td>3</td>\n",
       "      <td>77.0</td>\n",
       "      <td>0.0</td>\n",
       "      <td>12.000000</td>\n",
       "      <td>-0.000000</td>\n",
       "      <td>0</td>\n",
       "      <td>84.0</td>\n",
       "      <td>7.0</td>\n",
       "      <td>10</td>\n",
       "      <td>9.899495</td>\n",
       "      <td>6</td>\n",
       "      <td>5</td>\n",
       "      <td>25</td>\n",
       "      <td>0</td>\n",
       "      <td>0.000000</td>\n",
       "      <td>0.989949</td>\n",
       "    </tr>\n",
       "    <tr>\n",
       "      <th>607065</th>\n",
       "      <td>2019030416</td>\n",
       "      <td>3590</td>\n",
       "      <td>3</td>\n",
       "      <td>71.0</td>\n",
       "      <td>11.0</td>\n",
       "      <td>21.095023</td>\n",
       "      <td>-31.429566</td>\n",
       "      <td>0</td>\n",
       "      <td>77.0</td>\n",
       "      <td>0.0</td>\n",
       "      <td>5</td>\n",
       "      <td>12.529964</td>\n",
       "      <td>6</td>\n",
       "      <td>5</td>\n",
       "      <td>25</td>\n",
       "      <td>0</td>\n",
       "      <td>-31.429566</td>\n",
       "      <td>2.505993</td>\n",
       "    </tr>\n",
       "  </tbody>\n",
       "</table>\n",
       "<p>607066 rows × 18 columns</p>\n",
       "</div>"
      ],
      "text/plain": [
       "           game_id  game_seconds  game_period  x_coord  y_coord  \\\n",
       "0       2016020001            63            1    -43.0     23.0   \n",
       "1       2016020001            70            1    -61.0     11.0   \n",
       "2       2016020001            71            1    -77.0      5.0   \n",
       "3       2016020001           125            1     56.0     -2.0   \n",
       "4       2016020001           134            1     52.0      9.0   \n",
       "...            ...           ...          ...      ...      ...   \n",
       "607061  2019030416          3560            3     79.0     -2.0   \n",
       "607062  2019030416          3567            3     31.0     10.0   \n",
       "607063  2019030416          3575            3     84.0      7.0   \n",
       "607064  2019030416          3585            3     77.0      0.0   \n",
       "607065  2019030416          3590            3     71.0     11.0   \n",
       "\n",
       "        shot_distance  shot_angle  empty_net  last_event_x  last_event_y  \\\n",
       "0           51.429563   26.565051          1         -81.0          38.0   \n",
       "1           30.083218   21.447736          1         -43.0          23.0   \n",
       "2           13.000000   22.619865          0         -61.0          11.0   \n",
       "3           33.060551    3.468229          1         -77.0           5.0   \n",
       "4           38.078866  -13.671307          0          56.0          -2.0   \n",
       "...               ...         ...        ...           ...           ...   \n",
       "607061      10.198039   11.309932          1          75.0         -12.0   \n",
       "607062      58.855756   -9.782407          0          69.0         -22.0   \n",
       "607063       8.602325  -54.462322          0          31.0          10.0   \n",
       "607064      12.000000   -0.000000          0          84.0           7.0   \n",
       "607065      21.095023  -31.429566          0          77.0           0.0   \n",
       "\n",
       "        time_since_last_event  distance_from_last_event  friendly_skaters  \\\n",
       "0                          20                 40.853396                 5   \n",
       "1                           7                 21.633308                 5   \n",
       "2                           1                 17.088007                 5   \n",
       "3                          54                133.184083                 5   \n",
       "4                           9                 11.704700                 5   \n",
       "...                       ...                       ...               ...   \n",
       "607061                      3                 10.770330                 6   \n",
       "607062                      5                 49.678969                 6   \n",
       "607063                      8                 53.084838                 6   \n",
       "607064                     10                  9.899495                 6   \n",
       "607065                      5                 12.529964                 6   \n",
       "\n",
       "        opposing_skaters  attacking_team_id  is_goal  shot_angle_change  \\\n",
       "0                      5                 10        0           0.000000   \n",
       "1                      5                 10        0           0.000000   \n",
       "2                      5                 10        0           0.000000   \n",
       "3                      5                  9        0         -19.151636   \n",
       "4                      5                  9        0           0.000000   \n",
       "...                  ...                ...      ...                ...   \n",
       "607061                 5                 25        0           0.000000   \n",
       "607062                 5                 25        0           0.000000   \n",
       "607063                 5                 25        0         -44.679915   \n",
       "607064                 5                 25        0           0.000000   \n",
       "607065                 5                 25        0         -31.429566   \n",
       "\n",
       "            speed  \n",
       "0        2.042670  \n",
       "1        3.090473  \n",
       "2       17.088007  \n",
       "3        2.466372  \n",
       "4        1.300522  \n",
       "...           ...  \n",
       "607061   3.590110  \n",
       "607062   9.935794  \n",
       "607063   6.635605  \n",
       "607064   0.989949  \n",
       "607065   2.505993  \n",
       "\n",
       "[607066 rows x 18 columns]"
      ]
     },
     "execution_count": 10,
     "metadata": {},
     "output_type": "execute_result"
    }
   ],
   "source": [
    "data_numer"
   ]
  },
  {
   "cell_type": "code",
   "execution_count": 11,
   "id": "ee88279c",
   "metadata": {},
   "outputs": [],
   "source": [
    "data_numer = data_numer.drop(['game_id','game_seconds','game_period','time_since_last_event','attacking_team_id'], axis=1)"
   ]
  },
  {
   "cell_type": "code",
   "execution_count": 12,
   "id": "a2bd6f54",
   "metadata": {},
   "outputs": [
    {
     "data": {
      "text/html": [
       "<div>\n",
       "<style scoped>\n",
       "    .dataframe tbody tr th:only-of-type {\n",
       "        vertical-align: middle;\n",
       "    }\n",
       "\n",
       "    .dataframe tbody tr th {\n",
       "        vertical-align: top;\n",
       "    }\n",
       "\n",
       "    .dataframe thead th {\n",
       "        text-align: right;\n",
       "    }\n",
       "</style>\n",
       "<table border=\"1\" class=\"dataframe\">\n",
       "  <thead>\n",
       "    <tr style=\"text-align: right;\">\n",
       "      <th></th>\n",
       "      <th>x_coord</th>\n",
       "      <th>y_coord</th>\n",
       "      <th>shot_distance</th>\n",
       "      <th>shot_angle</th>\n",
       "      <th>empty_net</th>\n",
       "      <th>last_event_x</th>\n",
       "      <th>last_event_y</th>\n",
       "      <th>distance_from_last_event</th>\n",
       "      <th>friendly_skaters</th>\n",
       "      <th>opposing_skaters</th>\n",
       "      <th>is_goal</th>\n",
       "      <th>shot_angle_change</th>\n",
       "      <th>speed</th>\n",
       "    </tr>\n",
       "  </thead>\n",
       "  <tbody>\n",
       "    <tr>\n",
       "      <th>0</th>\n",
       "      <td>-43.0</td>\n",
       "      <td>23.0</td>\n",
       "      <td>51.429563</td>\n",
       "      <td>26.565051</td>\n",
       "      <td>1</td>\n",
       "      <td>-81.0</td>\n",
       "      <td>38.0</td>\n",
       "      <td>40.853396</td>\n",
       "      <td>5</td>\n",
       "      <td>5</td>\n",
       "      <td>0</td>\n",
       "      <td>0.000000</td>\n",
       "      <td>2.042670</td>\n",
       "    </tr>\n",
       "    <tr>\n",
       "      <th>1</th>\n",
       "      <td>-61.0</td>\n",
       "      <td>11.0</td>\n",
       "      <td>30.083218</td>\n",
       "      <td>21.447736</td>\n",
       "      <td>1</td>\n",
       "      <td>-43.0</td>\n",
       "      <td>23.0</td>\n",
       "      <td>21.633308</td>\n",
       "      <td>5</td>\n",
       "      <td>5</td>\n",
       "      <td>0</td>\n",
       "      <td>0.000000</td>\n",
       "      <td>3.090473</td>\n",
       "    </tr>\n",
       "    <tr>\n",
       "      <th>2</th>\n",
       "      <td>-77.0</td>\n",
       "      <td>5.0</td>\n",
       "      <td>13.000000</td>\n",
       "      <td>22.619865</td>\n",
       "      <td>0</td>\n",
       "      <td>-61.0</td>\n",
       "      <td>11.0</td>\n",
       "      <td>17.088007</td>\n",
       "      <td>5</td>\n",
       "      <td>5</td>\n",
       "      <td>0</td>\n",
       "      <td>0.000000</td>\n",
       "      <td>17.088007</td>\n",
       "    </tr>\n",
       "    <tr>\n",
       "      <th>3</th>\n",
       "      <td>56.0</td>\n",
       "      <td>-2.0</td>\n",
       "      <td>33.060551</td>\n",
       "      <td>3.468229</td>\n",
       "      <td>1</td>\n",
       "      <td>-77.0</td>\n",
       "      <td>5.0</td>\n",
       "      <td>133.184083</td>\n",
       "      <td>5</td>\n",
       "      <td>5</td>\n",
       "      <td>0</td>\n",
       "      <td>-19.151636</td>\n",
       "      <td>2.466372</td>\n",
       "    </tr>\n",
       "    <tr>\n",
       "      <th>4</th>\n",
       "      <td>52.0</td>\n",
       "      <td>9.0</td>\n",
       "      <td>38.078866</td>\n",
       "      <td>-13.671307</td>\n",
       "      <td>0</td>\n",
       "      <td>56.0</td>\n",
       "      <td>-2.0</td>\n",
       "      <td>11.704700</td>\n",
       "      <td>5</td>\n",
       "      <td>5</td>\n",
       "      <td>0</td>\n",
       "      <td>0.000000</td>\n",
       "      <td>1.300522</td>\n",
       "    </tr>\n",
       "    <tr>\n",
       "      <th>...</th>\n",
       "      <td>...</td>\n",
       "      <td>...</td>\n",
       "      <td>...</td>\n",
       "      <td>...</td>\n",
       "      <td>...</td>\n",
       "      <td>...</td>\n",
       "      <td>...</td>\n",
       "      <td>...</td>\n",
       "      <td>...</td>\n",
       "      <td>...</td>\n",
       "      <td>...</td>\n",
       "      <td>...</td>\n",
       "      <td>...</td>\n",
       "    </tr>\n",
       "    <tr>\n",
       "      <th>607061</th>\n",
       "      <td>79.0</td>\n",
       "      <td>-2.0</td>\n",
       "      <td>10.198039</td>\n",
       "      <td>11.309932</td>\n",
       "      <td>1</td>\n",
       "      <td>75.0</td>\n",
       "      <td>-12.0</td>\n",
       "      <td>10.770330</td>\n",
       "      <td>6</td>\n",
       "      <td>5</td>\n",
       "      <td>0</td>\n",
       "      <td>0.000000</td>\n",
       "      <td>3.590110</td>\n",
       "    </tr>\n",
       "    <tr>\n",
       "      <th>607062</th>\n",
       "      <td>31.0</td>\n",
       "      <td>10.0</td>\n",
       "      <td>58.855756</td>\n",
       "      <td>-9.782407</td>\n",
       "      <td>0</td>\n",
       "      <td>69.0</td>\n",
       "      <td>-22.0</td>\n",
       "      <td>49.678969</td>\n",
       "      <td>6</td>\n",
       "      <td>5</td>\n",
       "      <td>0</td>\n",
       "      <td>0.000000</td>\n",
       "      <td>9.935794</td>\n",
       "    </tr>\n",
       "    <tr>\n",
       "      <th>607063</th>\n",
       "      <td>84.0</td>\n",
       "      <td>7.0</td>\n",
       "      <td>8.602325</td>\n",
       "      <td>-54.462322</td>\n",
       "      <td>0</td>\n",
       "      <td>31.0</td>\n",
       "      <td>10.0</td>\n",
       "      <td>53.084838</td>\n",
       "      <td>6</td>\n",
       "      <td>5</td>\n",
       "      <td>0</td>\n",
       "      <td>-44.679915</td>\n",
       "      <td>6.635605</td>\n",
       "    </tr>\n",
       "    <tr>\n",
       "      <th>607064</th>\n",
       "      <td>77.0</td>\n",
       "      <td>0.0</td>\n",
       "      <td>12.000000</td>\n",
       "      <td>-0.000000</td>\n",
       "      <td>0</td>\n",
       "      <td>84.0</td>\n",
       "      <td>7.0</td>\n",
       "      <td>9.899495</td>\n",
       "      <td>6</td>\n",
       "      <td>5</td>\n",
       "      <td>0</td>\n",
       "      <td>0.000000</td>\n",
       "      <td>0.989949</td>\n",
       "    </tr>\n",
       "    <tr>\n",
       "      <th>607065</th>\n",
       "      <td>71.0</td>\n",
       "      <td>11.0</td>\n",
       "      <td>21.095023</td>\n",
       "      <td>-31.429566</td>\n",
       "      <td>0</td>\n",
       "      <td>77.0</td>\n",
       "      <td>0.0</td>\n",
       "      <td>12.529964</td>\n",
       "      <td>6</td>\n",
       "      <td>5</td>\n",
       "      <td>0</td>\n",
       "      <td>-31.429566</td>\n",
       "      <td>2.505993</td>\n",
       "    </tr>\n",
       "  </tbody>\n",
       "</table>\n",
       "<p>607066 rows × 13 columns</p>\n",
       "</div>"
      ],
      "text/plain": [
       "        x_coord  y_coord  shot_distance  shot_angle  empty_net  last_event_x  \\\n",
       "0         -43.0     23.0      51.429563   26.565051          1         -81.0   \n",
       "1         -61.0     11.0      30.083218   21.447736          1         -43.0   \n",
       "2         -77.0      5.0      13.000000   22.619865          0         -61.0   \n",
       "3          56.0     -2.0      33.060551    3.468229          1         -77.0   \n",
       "4          52.0      9.0      38.078866  -13.671307          0          56.0   \n",
       "...         ...      ...            ...         ...        ...           ...   \n",
       "607061     79.0     -2.0      10.198039   11.309932          1          75.0   \n",
       "607062     31.0     10.0      58.855756   -9.782407          0          69.0   \n",
       "607063     84.0      7.0       8.602325  -54.462322          0          31.0   \n",
       "607064     77.0      0.0      12.000000   -0.000000          0          84.0   \n",
       "607065     71.0     11.0      21.095023  -31.429566          0          77.0   \n",
       "\n",
       "        last_event_y  distance_from_last_event  friendly_skaters  \\\n",
       "0               38.0                 40.853396                 5   \n",
       "1               23.0                 21.633308                 5   \n",
       "2               11.0                 17.088007                 5   \n",
       "3                5.0                133.184083                 5   \n",
       "4               -2.0                 11.704700                 5   \n",
       "...              ...                       ...               ...   \n",
       "607061         -12.0                 10.770330                 6   \n",
       "607062         -22.0                 49.678969                 6   \n",
       "607063          10.0                 53.084838                 6   \n",
       "607064           7.0                  9.899495                 6   \n",
       "607065           0.0                 12.529964                 6   \n",
       "\n",
       "        opposing_skaters  is_goal  shot_angle_change      speed  \n",
       "0                      5        0           0.000000   2.042670  \n",
       "1                      5        0           0.000000   3.090473  \n",
       "2                      5        0           0.000000  17.088007  \n",
       "3                      5        0         -19.151636   2.466372  \n",
       "4                      5        0           0.000000   1.300522  \n",
       "...                  ...      ...                ...        ...  \n",
       "607061                 5        0           0.000000   3.590110  \n",
       "607062                 5        0           0.000000   9.935794  \n",
       "607063                 5        0         -44.679915   6.635605  \n",
       "607064                 5        0           0.000000   0.989949  \n",
       "607065                 5        0         -31.429566   2.505993  \n",
       "\n",
       "[607066 rows x 13 columns]"
      ]
     },
     "execution_count": 12,
     "metadata": {},
     "output_type": "execute_result"
    }
   ],
   "source": [
    "data_numer"
   ]
  },
  {
   "cell_type": "code",
   "execution_count": 13,
   "id": "4c4fd3e2",
   "metadata": {},
   "outputs": [
    {
     "data": {
      "text/html": [
       "<div>\n",
       "<style scoped>\n",
       "    .dataframe tbody tr th:only-of-type {\n",
       "        vertical-align: middle;\n",
       "    }\n",
       "\n",
       "    .dataframe tbody tr th {\n",
       "        vertical-align: top;\n",
       "    }\n",
       "\n",
       "    .dataframe thead th {\n",
       "        text-align: right;\n",
       "    }\n",
       "</style>\n",
       "<table border=\"1\" class=\"dataframe\">\n",
       "  <thead>\n",
       "    <tr style=\"text-align: right;\">\n",
       "      <th></th>\n",
       "      <th>shot_type</th>\n",
       "      <th>last_event_type</th>\n",
       "      <th>x_coord</th>\n",
       "      <th>y_coord</th>\n",
       "      <th>shot_distance</th>\n",
       "      <th>shot_angle</th>\n",
       "      <th>empty_net</th>\n",
       "      <th>last_event_x</th>\n",
       "      <th>last_event_y</th>\n",
       "      <th>distance_from_last_event</th>\n",
       "      <th>friendly_skaters</th>\n",
       "      <th>opposing_skaters</th>\n",
       "      <th>is_goal</th>\n",
       "      <th>shot_angle_change</th>\n",
       "      <th>speed</th>\n",
       "      <th>rebound</th>\n",
       "    </tr>\n",
       "  </thead>\n",
       "  <tbody>\n",
       "    <tr>\n",
       "      <th>0</th>\n",
       "      <td>7</td>\n",
       "      <td>13</td>\n",
       "      <td>-43.0</td>\n",
       "      <td>23.0</td>\n",
       "      <td>51.429563</td>\n",
       "      <td>26.565051</td>\n",
       "      <td>1</td>\n",
       "      <td>-81.0</td>\n",
       "      <td>38.0</td>\n",
       "      <td>40.853396</td>\n",
       "      <td>5</td>\n",
       "      <td>5</td>\n",
       "      <td>0</td>\n",
       "      <td>0.000000</td>\n",
       "      <td>2.042670</td>\n",
       "      <td>False</td>\n",
       "    </tr>\n",
       "    <tr>\n",
       "      <th>1</th>\n",
       "      <td>7</td>\n",
       "      <td>0</td>\n",
       "      <td>-61.0</td>\n",
       "      <td>11.0</td>\n",
       "      <td>30.083218</td>\n",
       "      <td>21.447736</td>\n",
       "      <td>1</td>\n",
       "      <td>-43.0</td>\n",
       "      <td>23.0</td>\n",
       "      <td>21.633308</td>\n",
       "      <td>5</td>\n",
       "      <td>5</td>\n",
       "      <td>0</td>\n",
       "      <td>0.000000</td>\n",
       "      <td>3.090473</td>\n",
       "      <td>False</td>\n",
       "    </tr>\n",
       "    <tr>\n",
       "      <th>2</th>\n",
       "      <td>6</td>\n",
       "      <td>0</td>\n",
       "      <td>-77.0</td>\n",
       "      <td>5.0</td>\n",
       "      <td>13.000000</td>\n",
       "      <td>22.619865</td>\n",
       "      <td>0</td>\n",
       "      <td>-61.0</td>\n",
       "      <td>11.0</td>\n",
       "      <td>17.088007</td>\n",
       "      <td>5</td>\n",
       "      <td>5</td>\n",
       "      <td>0</td>\n",
       "      <td>0.000000</td>\n",
       "      <td>17.088007</td>\n",
       "      <td>False</td>\n",
       "    </tr>\n",
       "    <tr>\n",
       "      <th>3</th>\n",
       "      <td>7</td>\n",
       "      <td>11</td>\n",
       "      <td>56.0</td>\n",
       "      <td>-2.0</td>\n",
       "      <td>33.060551</td>\n",
       "      <td>3.468229</td>\n",
       "      <td>1</td>\n",
       "      <td>-77.0</td>\n",
       "      <td>5.0</td>\n",
       "      <td>133.184083</td>\n",
       "      <td>5</td>\n",
       "      <td>5</td>\n",
       "      <td>0</td>\n",
       "      <td>-19.151636</td>\n",
       "      <td>2.466372</td>\n",
       "      <td>True</td>\n",
       "    </tr>\n",
       "    <tr>\n",
       "      <th>4</th>\n",
       "      <td>6</td>\n",
       "      <td>0</td>\n",
       "      <td>52.0</td>\n",
       "      <td>9.0</td>\n",
       "      <td>38.078866</td>\n",
       "      <td>-13.671307</td>\n",
       "      <td>0</td>\n",
       "      <td>56.0</td>\n",
       "      <td>-2.0</td>\n",
       "      <td>11.704700</td>\n",
       "      <td>5</td>\n",
       "      <td>5</td>\n",
       "      <td>0</td>\n",
       "      <td>0.000000</td>\n",
       "      <td>1.300522</td>\n",
       "      <td>False</td>\n",
       "    </tr>\n",
       "    <tr>\n",
       "      <th>...</th>\n",
       "      <td>...</td>\n",
       "      <td>...</td>\n",
       "      <td>...</td>\n",
       "      <td>...</td>\n",
       "      <td>...</td>\n",
       "      <td>...</td>\n",
       "      <td>...</td>\n",
       "      <td>...</td>\n",
       "      <td>...</td>\n",
       "      <td>...</td>\n",
       "      <td>...</td>\n",
       "      <td>...</td>\n",
       "      <td>...</td>\n",
       "      <td>...</td>\n",
       "      <td>...</td>\n",
       "      <td>...</td>\n",
       "    </tr>\n",
       "    <tr>\n",
       "      <th>607061</th>\n",
       "      <td>7</td>\n",
       "      <td>0</td>\n",
       "      <td>79.0</td>\n",
       "      <td>-2.0</td>\n",
       "      <td>10.198039</td>\n",
       "      <td>11.309932</td>\n",
       "      <td>1</td>\n",
       "      <td>75.0</td>\n",
       "      <td>-12.0</td>\n",
       "      <td>10.770330</td>\n",
       "      <td>6</td>\n",
       "      <td>5</td>\n",
       "      <td>0</td>\n",
       "      <td>0.000000</td>\n",
       "      <td>3.590110</td>\n",
       "      <td>False</td>\n",
       "    </tr>\n",
       "    <tr>\n",
       "      <th>607062</th>\n",
       "      <td>6</td>\n",
       "      <td>2</td>\n",
       "      <td>31.0</td>\n",
       "      <td>10.0</td>\n",
       "      <td>58.855756</td>\n",
       "      <td>-9.782407</td>\n",
       "      <td>0</td>\n",
       "      <td>69.0</td>\n",
       "      <td>-22.0</td>\n",
       "      <td>49.678969</td>\n",
       "      <td>6</td>\n",
       "      <td>5</td>\n",
       "      <td>0</td>\n",
       "      <td>0.000000</td>\n",
       "      <td>9.935794</td>\n",
       "      <td>False</td>\n",
       "    </tr>\n",
       "    <tr>\n",
       "      <th>607063</th>\n",
       "      <td>6</td>\n",
       "      <td>11</td>\n",
       "      <td>84.0</td>\n",
       "      <td>7.0</td>\n",
       "      <td>8.602325</td>\n",
       "      <td>-54.462322</td>\n",
       "      <td>0</td>\n",
       "      <td>31.0</td>\n",
       "      <td>10.0</td>\n",
       "      <td>53.084838</td>\n",
       "      <td>6</td>\n",
       "      <td>5</td>\n",
       "      <td>0</td>\n",
       "      <td>-44.679915</td>\n",
       "      <td>6.635605</td>\n",
       "      <td>True</td>\n",
       "    </tr>\n",
       "    <tr>\n",
       "      <th>607064</th>\n",
       "      <td>6</td>\n",
       "      <td>7</td>\n",
       "      <td>77.0</td>\n",
       "      <td>0.0</td>\n",
       "      <td>12.000000</td>\n",
       "      <td>-0.000000</td>\n",
       "      <td>0</td>\n",
       "      <td>84.0</td>\n",
       "      <td>7.0</td>\n",
       "      <td>9.899495</td>\n",
       "      <td>6</td>\n",
       "      <td>5</td>\n",
       "      <td>0</td>\n",
       "      <td>0.000000</td>\n",
       "      <td>0.989949</td>\n",
       "      <td>False</td>\n",
       "    </tr>\n",
       "    <tr>\n",
       "      <th>607065</th>\n",
       "      <td>6</td>\n",
       "      <td>11</td>\n",
       "      <td>71.0</td>\n",
       "      <td>11.0</td>\n",
       "      <td>21.095023</td>\n",
       "      <td>-31.429566</td>\n",
       "      <td>0</td>\n",
       "      <td>77.0</td>\n",
       "      <td>0.0</td>\n",
       "      <td>12.529964</td>\n",
       "      <td>6</td>\n",
       "      <td>5</td>\n",
       "      <td>0</td>\n",
       "      <td>-31.429566</td>\n",
       "      <td>2.505993</td>\n",
       "      <td>True</td>\n",
       "    </tr>\n",
       "  </tbody>\n",
       "</table>\n",
       "<p>587390 rows × 16 columns</p>\n",
       "</div>"
      ],
      "text/plain": [
       "        shot_type  last_event_type  x_coord  y_coord  shot_distance  \\\n",
       "0               7               13    -43.0     23.0      51.429563   \n",
       "1               7                0    -61.0     11.0      30.083218   \n",
       "2               6                0    -77.0      5.0      13.000000   \n",
       "3               7               11     56.0     -2.0      33.060551   \n",
       "4               6                0     52.0      9.0      38.078866   \n",
       "...           ...              ...      ...      ...            ...   \n",
       "607061          7                0     79.0     -2.0      10.198039   \n",
       "607062          6                2     31.0     10.0      58.855756   \n",
       "607063          6               11     84.0      7.0       8.602325   \n",
       "607064          6                7     77.0      0.0      12.000000   \n",
       "607065          6               11     71.0     11.0      21.095023   \n",
       "\n",
       "        shot_angle  empty_net  last_event_x  last_event_y  \\\n",
       "0        26.565051          1         -81.0          38.0   \n",
       "1        21.447736          1         -43.0          23.0   \n",
       "2        22.619865          0         -61.0          11.0   \n",
       "3         3.468229          1         -77.0           5.0   \n",
       "4       -13.671307          0          56.0          -2.0   \n",
       "...            ...        ...           ...           ...   \n",
       "607061   11.309932          1          75.0         -12.0   \n",
       "607062   -9.782407          0          69.0         -22.0   \n",
       "607063  -54.462322          0          31.0          10.0   \n",
       "607064   -0.000000          0          84.0           7.0   \n",
       "607065  -31.429566          0          77.0           0.0   \n",
       "\n",
       "        distance_from_last_event  friendly_skaters  opposing_skaters  is_goal  \\\n",
       "0                      40.853396                 5                 5        0   \n",
       "1                      21.633308                 5                 5        0   \n",
       "2                      17.088007                 5                 5        0   \n",
       "3                     133.184083                 5                 5        0   \n",
       "4                      11.704700                 5                 5        0   \n",
       "...                          ...               ...               ...      ...   \n",
       "607061                 10.770330                 6                 5        0   \n",
       "607062                 49.678969                 6                 5        0   \n",
       "607063                 53.084838                 6                 5        0   \n",
       "607064                  9.899495                 6                 5        0   \n",
       "607065                 12.529964                 6                 5        0   \n",
       "\n",
       "        shot_angle_change      speed  rebound  \n",
       "0                0.000000   2.042670    False  \n",
       "1                0.000000   3.090473    False  \n",
       "2                0.000000  17.088007    False  \n",
       "3              -19.151636   2.466372     True  \n",
       "4                0.000000   1.300522    False  \n",
       "...                   ...        ...      ...  \n",
       "607061           0.000000   3.590110    False  \n",
       "607062           0.000000   9.935794    False  \n",
       "607063         -44.679915   6.635605     True  \n",
       "607064           0.000000   0.989949    False  \n",
       "607065         -31.429566   2.505993     True  \n",
       "\n",
       "[587390 rows x 16 columns]"
      ]
     },
     "execution_count": 13,
     "metadata": {},
     "output_type": "execute_result"
    }
   ],
   "source": [
    "# Label encoding\n",
    "le = LabelEncoder()\n",
    "data_categ = data_categ.apply(le.fit_transform)\n",
    "data_categ\n",
    "\n",
    "# Concatenate all features\n",
    "df_final= pd.concat([data_categ, data_numer, data_bool], axis=1)\n",
    "df_final = df_final.dropna()\n",
    "df_final"
   ]
  },
  {
   "cell_type": "code",
   "execution_count": 14,
   "id": "f5afdf7e",
   "metadata": {},
   "outputs": [],
   "source": [
    "X = df_final.drop(['is_goal'], axis =1)\n",
    "y = df_final['is_goal']\n",
    "X_train, X_test, y_train, y_test = train_test_split(X, y, test_size=0.30, random_state=0)"
   ]
  },
  {
   "cell_type": "code",
   "execution_count": 15,
   "id": "35fca1f9",
   "metadata": {},
   "outputs": [
    {
     "data": {
      "text/html": [
       "<div>\n",
       "<style scoped>\n",
       "    .dataframe tbody tr th:only-of-type {\n",
       "        vertical-align: middle;\n",
       "    }\n",
       "\n",
       "    .dataframe tbody tr th {\n",
       "        vertical-align: top;\n",
       "    }\n",
       "\n",
       "    .dataframe thead th {\n",
       "        text-align: right;\n",
       "    }\n",
       "</style>\n",
       "<table border=\"1\" class=\"dataframe\">\n",
       "  <thead>\n",
       "    <tr style=\"text-align: right;\">\n",
       "      <th></th>\n",
       "      <th>shot_type</th>\n",
       "      <th>last_event_type</th>\n",
       "      <th>x_coord</th>\n",
       "      <th>y_coord</th>\n",
       "      <th>shot_distance</th>\n",
       "      <th>shot_angle</th>\n",
       "      <th>empty_net</th>\n",
       "      <th>last_event_x</th>\n",
       "      <th>last_event_y</th>\n",
       "      <th>distance_from_last_event</th>\n",
       "      <th>friendly_skaters</th>\n",
       "      <th>opposing_skaters</th>\n",
       "      <th>shot_angle_change</th>\n",
       "      <th>speed</th>\n",
       "      <th>rebound</th>\n",
       "    </tr>\n",
       "  </thead>\n",
       "  <tbody>\n",
       "    <tr>\n",
       "      <th>0</th>\n",
       "      <td>7</td>\n",
       "      <td>13</td>\n",
       "      <td>-43.0</td>\n",
       "      <td>23.0</td>\n",
       "      <td>51.429563</td>\n",
       "      <td>26.565051</td>\n",
       "      <td>1</td>\n",
       "      <td>-81.0</td>\n",
       "      <td>38.0</td>\n",
       "      <td>40.853396</td>\n",
       "      <td>5</td>\n",
       "      <td>5</td>\n",
       "      <td>0.000000</td>\n",
       "      <td>2.042670</td>\n",
       "      <td>False</td>\n",
       "    </tr>\n",
       "    <tr>\n",
       "      <th>1</th>\n",
       "      <td>7</td>\n",
       "      <td>0</td>\n",
       "      <td>-61.0</td>\n",
       "      <td>11.0</td>\n",
       "      <td>30.083218</td>\n",
       "      <td>21.447736</td>\n",
       "      <td>1</td>\n",
       "      <td>-43.0</td>\n",
       "      <td>23.0</td>\n",
       "      <td>21.633308</td>\n",
       "      <td>5</td>\n",
       "      <td>5</td>\n",
       "      <td>0.000000</td>\n",
       "      <td>3.090473</td>\n",
       "      <td>False</td>\n",
       "    </tr>\n",
       "    <tr>\n",
       "      <th>2</th>\n",
       "      <td>6</td>\n",
       "      <td>0</td>\n",
       "      <td>-77.0</td>\n",
       "      <td>5.0</td>\n",
       "      <td>13.000000</td>\n",
       "      <td>22.619865</td>\n",
       "      <td>0</td>\n",
       "      <td>-61.0</td>\n",
       "      <td>11.0</td>\n",
       "      <td>17.088007</td>\n",
       "      <td>5</td>\n",
       "      <td>5</td>\n",
       "      <td>0.000000</td>\n",
       "      <td>17.088007</td>\n",
       "      <td>False</td>\n",
       "    </tr>\n",
       "    <tr>\n",
       "      <th>3</th>\n",
       "      <td>7</td>\n",
       "      <td>11</td>\n",
       "      <td>56.0</td>\n",
       "      <td>-2.0</td>\n",
       "      <td>33.060551</td>\n",
       "      <td>3.468229</td>\n",
       "      <td>1</td>\n",
       "      <td>-77.0</td>\n",
       "      <td>5.0</td>\n",
       "      <td>133.184083</td>\n",
       "      <td>5</td>\n",
       "      <td>5</td>\n",
       "      <td>-19.151636</td>\n",
       "      <td>2.466372</td>\n",
       "      <td>True</td>\n",
       "    </tr>\n",
       "    <tr>\n",
       "      <th>4</th>\n",
       "      <td>6</td>\n",
       "      <td>0</td>\n",
       "      <td>52.0</td>\n",
       "      <td>9.0</td>\n",
       "      <td>38.078866</td>\n",
       "      <td>-13.671307</td>\n",
       "      <td>0</td>\n",
       "      <td>56.0</td>\n",
       "      <td>-2.0</td>\n",
       "      <td>11.704700</td>\n",
       "      <td>5</td>\n",
       "      <td>5</td>\n",
       "      <td>0.000000</td>\n",
       "      <td>1.300522</td>\n",
       "      <td>False</td>\n",
       "    </tr>\n",
       "    <tr>\n",
       "      <th>...</th>\n",
       "      <td>...</td>\n",
       "      <td>...</td>\n",
       "      <td>...</td>\n",
       "      <td>...</td>\n",
       "      <td>...</td>\n",
       "      <td>...</td>\n",
       "      <td>...</td>\n",
       "      <td>...</td>\n",
       "      <td>...</td>\n",
       "      <td>...</td>\n",
       "      <td>...</td>\n",
       "      <td>...</td>\n",
       "      <td>...</td>\n",
       "      <td>...</td>\n",
       "      <td>...</td>\n",
       "    </tr>\n",
       "    <tr>\n",
       "      <th>607061</th>\n",
       "      <td>7</td>\n",
       "      <td>0</td>\n",
       "      <td>79.0</td>\n",
       "      <td>-2.0</td>\n",
       "      <td>10.198039</td>\n",
       "      <td>11.309932</td>\n",
       "      <td>1</td>\n",
       "      <td>75.0</td>\n",
       "      <td>-12.0</td>\n",
       "      <td>10.770330</td>\n",
       "      <td>6</td>\n",
       "      <td>5</td>\n",
       "      <td>0.000000</td>\n",
       "      <td>3.590110</td>\n",
       "      <td>False</td>\n",
       "    </tr>\n",
       "    <tr>\n",
       "      <th>607062</th>\n",
       "      <td>6</td>\n",
       "      <td>2</td>\n",
       "      <td>31.0</td>\n",
       "      <td>10.0</td>\n",
       "      <td>58.855756</td>\n",
       "      <td>-9.782407</td>\n",
       "      <td>0</td>\n",
       "      <td>69.0</td>\n",
       "      <td>-22.0</td>\n",
       "      <td>49.678969</td>\n",
       "      <td>6</td>\n",
       "      <td>5</td>\n",
       "      <td>0.000000</td>\n",
       "      <td>9.935794</td>\n",
       "      <td>False</td>\n",
       "    </tr>\n",
       "    <tr>\n",
       "      <th>607063</th>\n",
       "      <td>6</td>\n",
       "      <td>11</td>\n",
       "      <td>84.0</td>\n",
       "      <td>7.0</td>\n",
       "      <td>8.602325</td>\n",
       "      <td>-54.462322</td>\n",
       "      <td>0</td>\n",
       "      <td>31.0</td>\n",
       "      <td>10.0</td>\n",
       "      <td>53.084838</td>\n",
       "      <td>6</td>\n",
       "      <td>5</td>\n",
       "      <td>-44.679915</td>\n",
       "      <td>6.635605</td>\n",
       "      <td>True</td>\n",
       "    </tr>\n",
       "    <tr>\n",
       "      <th>607064</th>\n",
       "      <td>6</td>\n",
       "      <td>7</td>\n",
       "      <td>77.0</td>\n",
       "      <td>0.0</td>\n",
       "      <td>12.000000</td>\n",
       "      <td>-0.000000</td>\n",
       "      <td>0</td>\n",
       "      <td>84.0</td>\n",
       "      <td>7.0</td>\n",
       "      <td>9.899495</td>\n",
       "      <td>6</td>\n",
       "      <td>5</td>\n",
       "      <td>0.000000</td>\n",
       "      <td>0.989949</td>\n",
       "      <td>False</td>\n",
       "    </tr>\n",
       "    <tr>\n",
       "      <th>607065</th>\n",
       "      <td>6</td>\n",
       "      <td>11</td>\n",
       "      <td>71.0</td>\n",
       "      <td>11.0</td>\n",
       "      <td>21.095023</td>\n",
       "      <td>-31.429566</td>\n",
       "      <td>0</td>\n",
       "      <td>77.0</td>\n",
       "      <td>0.0</td>\n",
       "      <td>12.529964</td>\n",
       "      <td>6</td>\n",
       "      <td>5</td>\n",
       "      <td>-31.429566</td>\n",
       "      <td>2.505993</td>\n",
       "      <td>True</td>\n",
       "    </tr>\n",
       "  </tbody>\n",
       "</table>\n",
       "<p>587390 rows × 15 columns</p>\n",
       "</div>"
      ],
      "text/plain": [
       "        shot_type  last_event_type  x_coord  y_coord  shot_distance  \\\n",
       "0               7               13    -43.0     23.0      51.429563   \n",
       "1               7                0    -61.0     11.0      30.083218   \n",
       "2               6                0    -77.0      5.0      13.000000   \n",
       "3               7               11     56.0     -2.0      33.060551   \n",
       "4               6                0     52.0      9.0      38.078866   \n",
       "...           ...              ...      ...      ...            ...   \n",
       "607061          7                0     79.0     -2.0      10.198039   \n",
       "607062          6                2     31.0     10.0      58.855756   \n",
       "607063          6               11     84.0      7.0       8.602325   \n",
       "607064          6                7     77.0      0.0      12.000000   \n",
       "607065          6               11     71.0     11.0      21.095023   \n",
       "\n",
       "        shot_angle  empty_net  last_event_x  last_event_y  \\\n",
       "0        26.565051          1         -81.0          38.0   \n",
       "1        21.447736          1         -43.0          23.0   \n",
       "2        22.619865          0         -61.0          11.0   \n",
       "3         3.468229          1         -77.0           5.0   \n",
       "4       -13.671307          0          56.0          -2.0   \n",
       "...            ...        ...           ...           ...   \n",
       "607061   11.309932          1          75.0         -12.0   \n",
       "607062   -9.782407          0          69.0         -22.0   \n",
       "607063  -54.462322          0          31.0          10.0   \n",
       "607064   -0.000000          0          84.0           7.0   \n",
       "607065  -31.429566          0          77.0           0.0   \n",
       "\n",
       "        distance_from_last_event  friendly_skaters  opposing_skaters  \\\n",
       "0                      40.853396                 5                 5   \n",
       "1                      21.633308                 5                 5   \n",
       "2                      17.088007                 5                 5   \n",
       "3                     133.184083                 5                 5   \n",
       "4                      11.704700                 5                 5   \n",
       "...                          ...               ...               ...   \n",
       "607061                 10.770330                 6                 5   \n",
       "607062                 49.678969                 6                 5   \n",
       "607063                 53.084838                 6                 5   \n",
       "607064                  9.899495                 6                 5   \n",
       "607065                 12.529964                 6                 5   \n",
       "\n",
       "        shot_angle_change      speed  rebound  \n",
       "0                0.000000   2.042670    False  \n",
       "1                0.000000   3.090473    False  \n",
       "2                0.000000  17.088007    False  \n",
       "3              -19.151636   2.466372     True  \n",
       "4                0.000000   1.300522    False  \n",
       "...                   ...        ...      ...  \n",
       "607061           0.000000   3.590110    False  \n",
       "607062           0.000000   9.935794    False  \n",
       "607063         -44.679915   6.635605     True  \n",
       "607064           0.000000   0.989949    False  \n",
       "607065         -31.429566   2.505993     True  \n",
       "\n",
       "[587390 rows x 15 columns]"
      ]
     },
     "execution_count": 15,
     "metadata": {},
     "output_type": "execute_result"
    }
   ],
   "source": [
    "X"
   ]
  },
  {
   "cell_type": "code",
   "execution_count": 16,
   "id": "62637370",
   "metadata": {},
   "outputs": [
    {
     "data": {
      "text/plain": [
       "0         0\n",
       "1         0\n",
       "2         0\n",
       "3         0\n",
       "4         0\n",
       "         ..\n",
       "607061    0\n",
       "607062    0\n",
       "607063    0\n",
       "607064    0\n",
       "607065    0\n",
       "Name: is_goal, Length: 587390, dtype: int64"
      ]
     },
     "execution_count": 16,
     "metadata": {},
     "output_type": "execute_result"
    }
   ],
   "source": [
    "y"
   ]
  },
  {
   "cell_type": "code",
   "execution_count": 17,
   "id": "2ca2f8b5",
   "metadata": {},
   "outputs": [],
   "source": [
    "#param_dist = {\n",
    "    #'splitter': ['best', 'random'],\n",
    "    #'max_depth': stats.randint(1, 30),  # Search range for max depth\n",
    "    #'min_samples_split': stats.randint(2, 11),  # Minimum samples to split\n",
    "    #'min_samples_leaf': stats.randint(1, 9),  # Minimum samples per leaf\n",
    "    #'max_features': stats.randint(1, X_train.shape[1] + 1),  # Feature subset selection\n",
    "    #'criterion': ['gini', 'entropy', 'log_loss'],  # Added 'log_loss' criterion for better probability-based classification\n",
    "    #'ccp_alpha': stats.uniform(0, 0.05),  # Cost-complexity pruning parameter\n",
    "    #'class_weight': [None, 'balanced']  # Handle class imbalance\n",
    "#}\n",
    "\n",
    "# RandomizedSearchCV configuration\n",
    "#RSCV_variables = {\n",
    "    #'estimator': DecisionTreeClassifier(random_state=42),\n",
    "    #'param_distributions': param_dist,\n",
    "    #'n_iter': 50,  # Increased number of iterations for more comprehensive search\n",
    "    #'cv': 5,  # Cross-validation folds\n",
    "    #'scoring': 'f1',  # Changed to F1-score for better evaluation on class imbalance\n",
    "    #'random_state': 42,  # Reproducibility\n",
    "    #'n_jobs': -1  # Parallelize computations\n",
    "#}\n",
    "\n",
    "# Perform the search\n",
    "#rs1 = RandomizedSearchCV(**RSCV_variables)\n",
    "#rs1.fit(X_train, y_train)\n",
    "\n",
    "# Extract best parameters\n",
    "#opt_params1 = rs1.best_params_\n",
    "#print(\"Best Parameters:\", opt_params1)\n",
    "\n",
    "# Train the optimized model\n",
    "#optimized_tree_m1 = DecisionTreeClassifier(**opt_params1, random_state=42)\n",
    "#optimized_tree_m1.fit(X_train, y_train)"
   ]
  },
  {
   "cell_type": "code",
   "execution_count": 18,
   "id": "26900f84",
   "metadata": {},
   "outputs": [
    {
     "data": {
      "text/html": [
       "<style>#sk-container-id-1 {color: black;}#sk-container-id-1 pre{padding: 0;}#sk-container-id-1 div.sk-toggleable {background-color: white;}#sk-container-id-1 label.sk-toggleable__label {cursor: pointer;display: block;width: 100%;margin-bottom: 0;padding: 0.3em;box-sizing: border-box;text-align: center;}#sk-container-id-1 label.sk-toggleable__label-arrow:before {content: \"▸\";float: left;margin-right: 0.25em;color: #696969;}#sk-container-id-1 label.sk-toggleable__label-arrow:hover:before {color: black;}#sk-container-id-1 div.sk-estimator:hover label.sk-toggleable__label-arrow:before {color: black;}#sk-container-id-1 div.sk-toggleable__content {max-height: 0;max-width: 0;overflow: hidden;text-align: left;background-color: #f0f8ff;}#sk-container-id-1 div.sk-toggleable__content pre {margin: 0.2em;color: black;border-radius: 0.25em;background-color: #f0f8ff;}#sk-container-id-1 input.sk-toggleable__control:checked~div.sk-toggleable__content {max-height: 200px;max-width: 100%;overflow: auto;}#sk-container-id-1 input.sk-toggleable__control:checked~label.sk-toggleable__label-arrow:before {content: \"▾\";}#sk-container-id-1 div.sk-estimator input.sk-toggleable__control:checked~label.sk-toggleable__label {background-color: #d4ebff;}#sk-container-id-1 div.sk-label input.sk-toggleable__control:checked~label.sk-toggleable__label {background-color: #d4ebff;}#sk-container-id-1 input.sk-hidden--visually {border: 0;clip: rect(1px 1px 1px 1px);clip: rect(1px, 1px, 1px, 1px);height: 1px;margin: -1px;overflow: hidden;padding: 0;position: absolute;width: 1px;}#sk-container-id-1 div.sk-estimator {font-family: monospace;background-color: #f0f8ff;border: 1px dotted black;border-radius: 0.25em;box-sizing: border-box;margin-bottom: 0.5em;}#sk-container-id-1 div.sk-estimator:hover {background-color: #d4ebff;}#sk-container-id-1 div.sk-parallel-item::after {content: \"\";width: 100%;border-bottom: 1px solid gray;flex-grow: 1;}#sk-container-id-1 div.sk-label:hover label.sk-toggleable__label {background-color: #d4ebff;}#sk-container-id-1 div.sk-serial::before {content: \"\";position: absolute;border-left: 1px solid gray;box-sizing: border-box;top: 0;bottom: 0;left: 50%;z-index: 0;}#sk-container-id-1 div.sk-serial {display: flex;flex-direction: column;align-items: center;background-color: white;padding-right: 0.2em;padding-left: 0.2em;position: relative;}#sk-container-id-1 div.sk-item {position: relative;z-index: 1;}#sk-container-id-1 div.sk-parallel {display: flex;align-items: stretch;justify-content: center;background-color: white;position: relative;}#sk-container-id-1 div.sk-item::before, #sk-container-id-1 div.sk-parallel-item::before {content: \"\";position: absolute;border-left: 1px solid gray;box-sizing: border-box;top: 0;bottom: 0;left: 50%;z-index: -1;}#sk-container-id-1 div.sk-parallel-item {display: flex;flex-direction: column;z-index: 1;position: relative;background-color: white;}#sk-container-id-1 div.sk-parallel-item:first-child::after {align-self: flex-end;width: 50%;}#sk-container-id-1 div.sk-parallel-item:last-child::after {align-self: flex-start;width: 50%;}#sk-container-id-1 div.sk-parallel-item:only-child::after {width: 0;}#sk-container-id-1 div.sk-dashed-wrapped {border: 1px dashed gray;margin: 0 0.4em 0.5em 0.4em;box-sizing: border-box;padding-bottom: 0.4em;background-color: white;}#sk-container-id-1 div.sk-label label {font-family: monospace;font-weight: bold;display: inline-block;line-height: 1.2em;}#sk-container-id-1 div.sk-label-container {text-align: center;}#sk-container-id-1 div.sk-container {/* jupyter's `normalize.less` sets `[hidden] { display: none; }` but bootstrap.min.css set `[hidden] { display: none !important; }` so we also need the `!important` here to be able to override the default hidden behavior on the sphinx rendered scikit-learn.org. See: https://github.com/scikit-learn/scikit-learn/issues/21755 */display: inline-block !important;position: relative;}#sk-container-id-1 div.sk-text-repr-fallback {display: none;}</style><div id=\"sk-container-id-1\" class=\"sk-top-container\"><div class=\"sk-text-repr-fallback\"><pre>DecisionTreeClassifier(criterion=&#x27;entropy&#x27;, max_depth=15,\n",
       "                       max_features=0.17336465350777208, min_samples_split=5,\n",
       "                       splitter=&#x27;random&#x27;)</pre><b>In a Jupyter environment, please rerun this cell to show the HTML representation or trust the notebook. <br />On GitHub, the HTML representation is unable to render, please try loading this page with nbviewer.org.</b></div><div class=\"sk-container\" hidden><div class=\"sk-item\"><div class=\"sk-estimator sk-toggleable\"><input class=\"sk-toggleable__control sk-hidden--visually\" id=\"sk-estimator-id-1\" type=\"checkbox\" checked><label for=\"sk-estimator-id-1\" class=\"sk-toggleable__label sk-toggleable__label-arrow\">DecisionTreeClassifier</label><div class=\"sk-toggleable__content\"><pre>DecisionTreeClassifier(criterion=&#x27;entropy&#x27;, max_depth=15,\n",
       "                       max_features=0.17336465350777208, min_samples_split=5,\n",
       "                       splitter=&#x27;random&#x27;)</pre></div></div></div></div></div>"
      ],
      "text/plain": [
       "DecisionTreeClassifier(criterion='entropy', max_depth=15,\n",
       "                       max_features=0.17336465350777208, min_samples_split=5,\n",
       "                       splitter='random')"
      ]
     },
     "execution_count": 18,
     "metadata": {},
     "output_type": "execute_result"
    }
   ],
   "source": [
    "classifier = DecisionTreeClassifier()\n",
    "\n",
    "param_dist = {\n",
    "    'splitter': ['best', 'random'],\n",
    "    'max_depth': stats.randint(1, 30), \n",
    "    'min_samples_split': stats.randint(2, 11),  \n",
    "    'min_samples_leaf': stats.randint(1, 9),  \n",
    "    'max_features': stats.uniform(0, 1),  \n",
    "    'criterion': ['gini', 'entropy'],\n",
    "    'class_weight': [None, 'balanced']\n",
    "}\n",
    "\n",
    "RSCV_variables = {\n",
    "    'estimator': DecisionTreeClassifier(),\n",
    "    'param_distributions': param_dist,\n",
    "    'n_iter': 10,\n",
    "    'cv': 5,\n",
    "    'scoring': 'accuracy',\n",
    "    'random_state': 42\n",
    "}\n",
    "\n",
    "rs1 = RandomizedSearchCV(**RSCV_variables)\n",
    "rs1.fit(X_train, y_train)\n",
    "\n",
    "opt_params1 = rs1.best_params_\n",
    "\n",
    "optimized_tree_m1 = DecisionTreeClassifier(**opt_params1)\n",
    "optimized_tree_m1.fit(X_train, y_train)"
   ]
  },
  {
   "cell_type": "code",
   "execution_count": 19,
   "id": "40af1aa4",
   "metadata": {},
   "outputs": [],
   "source": [
    "y_pred = optimized_tree_m1.predict(X_test)"
   ]
  },
  {
   "cell_type": "code",
   "execution_count": 20,
   "id": "e2e0fbb0",
   "metadata": {},
   "outputs": [
    {
     "name": "stdout",
     "output_type": "stream",
     "text": [
      "Validation Accuracy: 94.75%\n",
      "Precision: 46.84%\n",
      "Recall: 1.76%\n",
      "F1-score: 3.40%\n",
      "ROC-AUC Score: 75.47%\n"
     ]
    }
   ],
   "source": [
    "prob = optimized_tree_m1.predict_proba(X_test)\n",
    "\n",
    "probs = prob[:, 1]\n",
    "\n",
    "accuracy = accuracy_score(y_test, y_pred)\n",
    "precision = precision_score(y_test, y_pred)\n",
    "recall = recall_score(y_test, y_pred)\n",
    "f1 = f1_score(y_test, y_pred)\n",
    "roc_auc = roc_auc_score(y_test, probs)\n",
    "\n",
    "print(f'Validation Accuracy: {accuracy*100:.2f}%')\n",
    "print(f'Precision: {precision*100:.2f}%')\n",
    "print(f'Recall: {recall*100:.2f}%')\n",
    "print(f'F1-score: {f1*100:.2f}%')\n",
    "print(f'ROC-AUC Score: {roc_auc*100:.2f}%')"
   ]
  },
  {
   "cell_type": "code",
   "execution_count": 21,
   "id": "85785617",
   "metadata": {},
   "outputs": [],
   "source": [
    "metrics = {\n",
    "        \"accuracy\": accuracy,\n",
    "        \"roc_auc\": roc_auc,\n",
    "        \"precision\": precision_score(y_test, y_pred),\n",
    "        \"recall\": recall_score(y_test, y_pred),\n",
    "        \"f1-score\": f1_score(y_test, y_pred),\n",
    "    }"
   ]
  },
  {
   "cell_type": "code",
   "execution_count": 22,
   "id": "e476b0e6",
   "metadata": {},
   "outputs": [
    {
     "data": {
      "text/plain": [
       "{'accuracy': 0.9474568287963137,\n",
       " 'roc_auc': 0.7547355988604366,\n",
       " 'precision': 0.46839080459770116,\n",
       " 'recall': 0.017646421998484357,\n",
       " 'f1-score': 0.03401147626499739}"
      ]
     },
     "execution_count": 22,
     "metadata": {},
     "output_type": "execute_result"
    }
   ],
   "source": [
    "metrics"
   ]
  },
  {
   "cell_type": "code",
   "execution_count": null,
   "id": "c9fed4e1",
   "metadata": {},
   "outputs": [],
   "source": []
  },
  {
   "cell_type": "code",
   "execution_count": 23,
   "id": "390434ed",
   "metadata": {},
   "outputs": [
    {
     "name": "stderr",
     "output_type": "stream",
     "text": [
      "\u001b[34m\u001b[1mwandb\u001b[0m: Using wandb-core as the SDK backend.  Please refer to https://wandb.me/wandb-core for more information.\n",
      "\u001b[34m\u001b[1mwandb\u001b[0m: Currently logged in as: \u001b[33myassine-faik\u001b[0m (\u001b[33mhicham-mazouzi-university-of-montreal\u001b[0m). Use \u001b[1m`wandb login --relogin`\u001b[0m to force relogin\n"
     ]
    },
    {
     "data": {
      "text/html": [
       "Tracking run with wandb version 0.18.7"
      ],
      "text/plain": [
       "<IPython.core.display.HTML object>"
      ]
     },
     "metadata": {},
     "output_type": "display_data"
    },
    {
     "data": {
      "text/html": [
       "Run data is saved locally in <code>/Users/yassine/Documents/IFT6758_M2/wandb/run-20241122_173012-Decision_Tree_Q6</code>"
      ],
      "text/plain": [
       "<IPython.core.display.HTML object>"
      ]
     },
     "metadata": {},
     "output_type": "display_data"
    },
    {
     "data": {
      "text/html": [
       "Syncing run <strong><a href='https://wandb.ai/hicham-mazouzi-university-of-montreal/IFT6758.2024-A/runs/Decision_Tree_Q6' target=\"_blank\">Decision_Tree_Q6</a></strong> to <a href='https://wandb.ai/hicham-mazouzi-university-of-montreal/IFT6758.2024-A' target=\"_blank\">Weights & Biases</a> (<a href='https://wandb.me/developer-guide' target=\"_blank\">docs</a>)<br/>"
      ],
      "text/plain": [
       "<IPython.core.display.HTML object>"
      ]
     },
     "metadata": {},
     "output_type": "display_data"
    },
    {
     "data": {
      "text/html": [
       " View project at <a href='https://wandb.ai/hicham-mazouzi-university-of-montreal/IFT6758.2024-A' target=\"_blank\">https://wandb.ai/hicham-mazouzi-university-of-montreal/IFT6758.2024-A</a>"
      ],
      "text/plain": [
       "<IPython.core.display.HTML object>"
      ]
     },
     "metadata": {},
     "output_type": "display_data"
    },
    {
     "data": {
      "text/html": [
       " View run at <a href='https://wandb.ai/hicham-mazouzi-university-of-montreal/IFT6758.2024-A/runs/Decision_Tree_Q6' target=\"_blank\">https://wandb.ai/hicham-mazouzi-university-of-montreal/IFT6758.2024-A/runs/Decision_Tree_Q6</a>"
      ],
      "text/plain": [
       "<IPython.core.display.HTML object>"
      ]
     },
     "metadata": {},
     "output_type": "display_data"
    },
    {
     "data": {
      "text/html": [
       "<button onClick=\"this.nextSibling.style.display='block';this.style.display='none';\">Display W&B run</button><iframe src='https://wandb.ai/hicham-mazouzi-university-of-montreal/IFT6758.2024-A/runs/Decision_Tree_Q6?jupyter=true' style='border:none;width:100%;height:420px;display:none;'></iframe>"
      ],
      "text/plain": [
       "<wandb.sdk.wandb_run.Run at 0x2ae5f27d0>"
      ]
     },
     "execution_count": 23,
     "metadata": {},
     "output_type": "execute_result"
    }
   ],
   "source": [
    "wandb.init(project=\"IFT6758.2024-A\", id=\"Decision_Tree_Q6\", resume=\"allow\")"
   ]
  },
  {
   "cell_type": "markdown",
   "id": "89ad2b2a",
   "metadata": {},
   "source": [
    "# Plots"
   ]
  },
  {
   "cell_type": "code",
   "execution_count": 24,
   "id": "1dd2b4ba",
   "metadata": {},
   "outputs": [
    {
     "data": {
      "image/png": "[encoded data removed]",
      "text/plain": [
       "<Figure size 1000x550 with 1 Axes>"
      ]
     },
     "metadata": {},
     "output_type": "display_data"
    }
   ],
   "source": [
    "fpr, tpr, thresholds = roc_curve(y_test, probs)\n",
    "auc_score = auc(fpr, tpr)\n",
    "def courbe_roc_auc(fpr,tpr,auc_score):\n",
    "    sns.set()\n",
    "\n",
    "    fig, ax = plt.subplots(figsize=(10, 5.5))\n",
    "\n",
    "    plt.plot(fpr, tpr, label='DecisionTree (AUC = {:.3f})'.format(auc_score), lw=3)\n",
    "    plt.plot([0, 1], [0, 1], 'k--', label='Ligne de base aléatoire (AUC = 0.500)', lw=3)\n",
    "\n",
    "    ax.set_ylabel('Taux de vrais positifs', fontsize=18)\n",
    "    ax.set_xlabel('Taux de faux positifs', fontsize=18)\n",
    "    ax.set_title(\"Courbes ROC\", fontsize=18)\n",
    "    ax.tick_params(labelsize=12)\n",
    "\n",
    "    plt.legend(loc='best')\n",
    "    plt.grid(color='gray', linestyle='--', linewidth=0.5)\n",
    "    #plt.show()\n",
    "    plot_filename = \"roc_curve_decison_tree.png\"\n",
    "    plt.savefig(plot_filename)\n",
    "    #return fig\n",
    "    return fig, plot_filename\n",
    "\n",
    "roc = courbe_roc_auc(fpr,tpr,auc_score)"
   ]
  },
  {
   "cell_type": "code",
   "execution_count": 25,
   "id": "9cf0a4e5",
   "metadata": {},
   "outputs": [
    {
     "data": {
      "text/html": [
       "Finishing last run (ID:Decision_Tree_Q6) before initializing another..."
      ],
      "text/plain": [
       "<IPython.core.display.HTML object>"
      ]
     },
     "metadata": {},
     "output_type": "display_data"
    },
    {
     "data": {
      "text/html": [
       " View run <strong style=\"color:#cdcd00\">Decision_Tree_Q6</strong> at: <a href='https://wandb.ai/hicham-mazouzi-university-of-montreal/IFT6758.2024-A/runs/Decision_Tree_Q6' target=\"_blank\">https://wandb.ai/hicham-mazouzi-university-of-montreal/IFT6758.2024-A/runs/Decision_Tree_Q6</a><br/> View project at: <a href='https://wandb.ai/hicham-mazouzi-university-of-montreal/IFT6758.2024-A' target=\"_blank\">https://wandb.ai/hicham-mazouzi-university-of-montreal/IFT6758.2024-A</a><br/>Synced 5 W&B file(s), 0 media file(s), 0 artifact file(s) and 0 other file(s)"
      ],
      "text/plain": [
       "<IPython.core.display.HTML object>"
      ]
     },
     "metadata": {},
     "output_type": "display_data"
    },
    {
     "data": {
      "text/html": [
       "Find logs at: <code>./wandb/run-20241122_173012-Decision_Tree_Q6/logs</code>"
      ],
      "text/plain": [
       "<IPython.core.display.HTML object>"
      ]
     },
     "metadata": {},
     "output_type": "display_data"
    },
    {
     "data": {
      "text/html": [
       "Successfully finished last run (ID:Decision_Tree_Q6). Initializing new run:<br/>"
      ],
      "text/plain": [
       "<IPython.core.display.HTML object>"
      ]
     },
     "metadata": {},
     "output_type": "display_data"
    },
    {
     "data": {
      "text/html": [
       "Tracking run with wandb version 0.18.7"
      ],
      "text/plain": [
       "<IPython.core.display.HTML object>"
      ]
     },
     "metadata": {},
     "output_type": "display_data"
    },
    {
     "data": {
      "text/html": [
       "Run data is saved locally in <code>/Users/yassine/Documents/IFT6758_M2/wandb/run-20241122_173023-Decision_Tree_Q6</code>"
      ],
      "text/plain": [
       "<IPython.core.display.HTML object>"
      ]
     },
     "metadata": {},
     "output_type": "display_data"
    },
    {
     "data": {
      "text/html": [
       "Resuming run <strong><a href='https://wandb.ai/hicham-mazouzi-university-of-montreal/IFT6758.2024-A/runs/Decision_Tree_Q6' target=\"_blank\">Decision_Tree_Q6</a></strong> to <a href='https://wandb.ai/hicham-mazouzi-university-of-montreal/IFT6758.2024-A' target=\"_blank\">Weights & Biases</a> (<a href='https://wandb.me/developer-guide' target=\"_blank\">docs</a>)<br/>"
      ],
      "text/plain": [
       "<IPython.core.display.HTML object>"
      ]
     },
     "metadata": {},
     "output_type": "display_data"
    },
    {
     "data": {
      "text/html": [
       " View project at <a href='https://wandb.ai/hicham-mazouzi-university-of-montreal/IFT6758.2024-A' target=\"_blank\">https://wandb.ai/hicham-mazouzi-university-of-montreal/IFT6758.2024-A</a>"
      ],
      "text/plain": [
       "<IPython.core.display.HTML object>"
      ]
     },
     "metadata": {},
     "output_type": "display_data"
    },
    {
     "data": {
      "text/html": [
       " View run at <a href='https://wandb.ai/hicham-mazouzi-university-of-montreal/IFT6758.2024-A/runs/Decision_Tree_Q6' target=\"_blank\">https://wandb.ai/hicham-mazouzi-university-of-montreal/IFT6758.2024-A/runs/Decision_Tree_Q6</a>"
      ],
      "text/plain": [
       "<IPython.core.display.HTML object>"
      ]
     },
     "metadata": {},
     "output_type": "display_data"
    },
    {
     "data": {
      "text/html": [
       " View run <strong style=\"color:#cdcd00\">Decision_Tree_Q6</strong> at: <a href='https://wandb.ai/hicham-mazouzi-university-of-montreal/IFT6758.2024-A/runs/Decision_Tree_Q6' target=\"_blank\">https://wandb.ai/hicham-mazouzi-university-of-montreal/IFT6758.2024-A/runs/Decision_Tree_Q6</a><br/> View project at: <a href='https://wandb.ai/hicham-mazouzi-university-of-montreal/IFT6758.2024-A' target=\"_blank\">https://wandb.ai/hicham-mazouzi-university-of-montreal/IFT6758.2024-A</a><br/>Synced 5 W&B file(s), 0 media file(s), 0 artifact file(s) and 1 other file(s)"
      ],
      "text/plain": [
       "<IPython.core.display.HTML object>"
      ]
     },
     "metadata": {},
     "output_type": "display_data"
    },
    {
     "data": {
      "text/html": [
       "Find logs at: <code>./wandb/run-20241122_173023-Decision_Tree_Q6/logs</code>"
      ],
      "text/plain": [
       "<IPython.core.display.HTML object>"
      ]
     },
     "metadata": {},
     "output_type": "display_data"
    },
    {
     "data": {
      "image/png": "[encoded data removed]",
      "text/plain": [
       "<Figure size 1000x550 with 1 Axes>"
      ]
     },
     "metadata": {},
     "output_type": "display_data"
    }
   ],
   "source": [
    "# Initialize Wandb\n",
    "#wandb.init(project=\"decision_tree_classification\", name=\"roc_curve_decision_tree\")\n",
    "wandb.init(project=\"IFT6758.2024-A\", id=\"Decision_Tree_Q6\", resume=\"allow\")\n",
    "# Generate and log the ROC plot\n",
    "roc_fig, roc_plot_filename = courbe_roc_auc(fpr,tpr,auc_score)\n",
    "\n",
    "# Log the plot to Wandb\n",
    "wandb.log({\"ROC Curve\": wandb.Image(roc_plot_filename)})\n",
    "\n",
    "# Finish Wandb logging\n",
    "wandb.finish()"
   ]
  },
  {
   "cell_type": "code",
   "execution_count": 26,
   "id": "c5052f42",
   "metadata": {},
   "outputs": [],
   "source": [
    "def percentage_formatter(x, pos):\n",
    "    return f'{x * 100:.0f}%'\n",
    "\n",
    "def plot_taux_reussite_but(df_prob=None, n_bins=20, quant=5, list_labels=None):\n",
    "    \n",
    "    palette_couleurs = ['darkorange', 'green', 'navy', 'red']\n",
    "\n",
    "    df_prob_1 = df_prob.copy()\n",
    "    cols = df_prob.columns[1:-1]\n",
    "\n",
    "    df_percentil, compteur_but, compteur_tir, goal_rate, pencentil = [], [], [], [], []\n",
    "\n",
    "    for col in cols:\n",
    "        df_prob_1['percentile'] = df_prob_1[col].rank(pct=True)\n",
    "        quantile_list = np.linspace(0, 1, n_bins * quant + 1).round(4).tolist()\n",
    "        q = df_prob_1.quantile(quantile_list)\n",
    "        for i in np.arange(quant, (quant * n_bins) + 1, quant):\n",
    "            df_percentil = df_prob_1[((df_prob_1[col] >= q[col][(i - quant) / 100]) & (df_prob_1[col] < q[col][i / 100]))]\n",
    "            compteur_but.append(df_percentil['IsGoal'].sum())\n",
    "            compteur_tir.append(df_percentil['compteur_tir'].sum())\n",
    "            if df_percentil['compteur_tir'].sum() > 0:\n",
    "                goal_rate.append(df_percentil['IsGoal'].sum() / df_percentil['compteur_tir'].sum())\n",
    "            else:\n",
    "                goal_rate.append(0)\n",
    "            pencentil.append(i)\n",
    "\n",
    "    # df pour plots\n",
    "    df_percentil_prop = pd.DataFrame(list(zip(compteur_but, compteur_tir, goal_rate, pencentil)),\n",
    "                                 columns=['compteur_but', \"sum_compteur_tir\", 'goal_rate', 'pencentil'])\n",
    "    df_percentil_prop.replace([np.inf, -np.inf], np.nan, inplace=True)\n",
    "    df_percentil_prop.dropna(inplace=True)\n",
    "\n",
    "    # Plots\n",
    "    fig, ax = plt.subplots(figsize=(12.5, 7.5))\n",
    "    for i in range(len(list_labels)):\n",
    "        ax = sns.lineplot(x=df_percentil_prop.pencentil[i * n_bins:n_bins * (i + 1) - 1],\n",
    "                          y=df_percentil_prop.goal_rate[i * n_bins:n_bins * (i + 1) - 1],\n",
    "                          label=f'{list_labels[i]}', color=palette_couleurs[i], legend=False, linewidth=3)\n",
    "\n",
    "    ax.set_xlim(left=105, right=-5)\n",
    "    ax.set_ylim(bottom=0, top=1)\n",
    "    ax.legend(fontsize=12)\n",
    "    ax.set_ylabel('But / (Tir + But)')\n",
    "    ax.set_xlabel('Percentile du modèle de probabilité de tir')\n",
    "    ax.set_title(f\"Taux de réussite des buts vs. Percentile du modèle de probabilité de tir\")\n",
    "    ax.set_xticks(np.arange(0, 101, 10))\n",
    "\n",
    "   \n",
    "    ax.yaxis.set_major_formatter(FuncFormatter(percentage_formatter)) # y-axis comme pourcentage\n",
    "    plot_filename = \"goal_success_rate.png\"\n",
    "    plt.savefig(plot_filename)\n",
    "    \n",
    "    plt.grid(color='white', linestyle='--', linewidth=0.8)\n",
    "    #wandb.init(project=\"IFT6758.2024-A\", id=\"Decision_Tree_Q6\", resume=\"allow\")\n",
    "    wandb.init(project=\"IFT6758.2024-A\", id=\"Decision_Tree_Q6\", resume=\"allow\")\n",
    "    wandb.log({\"Goal Success Rate\": wandb.Image(\"goal_success_rate.png\")})\n",
    "    plt.show()"
   ]
  },
  {
   "cell_type": "code",
   "execution_count": 27,
   "id": "88bf7652",
   "metadata": {},
   "outputs": [],
   "source": [
    "df_prob = pd.DataFrame({'IsGoal':y_test, 'proba':probs})\n",
    "df_prob['compteur_tir'] = 1"
   ]
  },
  {
   "cell_type": "code",
   "execution_count": 28,
   "id": "7ad2fb32",
   "metadata": {},
   "outputs": [
    {
     "data": {
      "text/html": [
       "<div>\n",
       "<style scoped>\n",
       "    .dataframe tbody tr th:only-of-type {\n",
       "        vertical-align: middle;\n",
       "    }\n",
       "\n",
       "    .dataframe tbody tr th {\n",
       "        vertical-align: top;\n",
       "    }\n",
       "\n",
       "    .dataframe thead th {\n",
       "        text-align: right;\n",
       "    }\n",
       "</style>\n",
       "<table border=\"1\" class=\"dataframe\">\n",
       "  <thead>\n",
       "    <tr style=\"text-align: right;\">\n",
       "      <th></th>\n",
       "      <th>IsGoal</th>\n",
       "      <th>proba</th>\n",
       "      <th>compteur_tir</th>\n",
       "    </tr>\n",
       "  </thead>\n",
       "  <tbody>\n",
       "    <tr>\n",
       "      <th>265439</th>\n",
       "      <td>0</td>\n",
       "      <td>0.000000</td>\n",
       "      <td>1</td>\n",
       "    </tr>\n",
       "    <tr>\n",
       "      <th>93501</th>\n",
       "      <td>0</td>\n",
       "      <td>0.010077</td>\n",
       "      <td>1</td>\n",
       "    </tr>\n",
       "    <tr>\n",
       "      <th>136724</th>\n",
       "      <td>0</td>\n",
       "      <td>0.033333</td>\n",
       "      <td>1</td>\n",
       "    </tr>\n",
       "    <tr>\n",
       "      <th>588721</th>\n",
       "      <td>0</td>\n",
       "      <td>0.143843</td>\n",
       "      <td>1</td>\n",
       "    </tr>\n",
       "    <tr>\n",
       "      <th>24740</th>\n",
       "      <td>0</td>\n",
       "      <td>0.027756</td>\n",
       "      <td>1</td>\n",
       "    </tr>\n",
       "    <tr>\n",
       "      <th>...</th>\n",
       "      <td>...</td>\n",
       "      <td>...</td>\n",
       "      <td>...</td>\n",
       "    </tr>\n",
       "    <tr>\n",
       "      <th>248419</th>\n",
       "      <td>0</td>\n",
       "      <td>0.007952</td>\n",
       "      <td>1</td>\n",
       "    </tr>\n",
       "    <tr>\n",
       "      <th>137087</th>\n",
       "      <td>0</td>\n",
       "      <td>0.000000</td>\n",
       "      <td>1</td>\n",
       "    </tr>\n",
       "    <tr>\n",
       "      <th>381850</th>\n",
       "      <td>0</td>\n",
       "      <td>0.032941</td>\n",
       "      <td>1</td>\n",
       "    </tr>\n",
       "    <tr>\n",
       "      <th>375589</th>\n",
       "      <td>0</td>\n",
       "      <td>0.046296</td>\n",
       "      <td>1</td>\n",
       "    </tr>\n",
       "    <tr>\n",
       "      <th>326441</th>\n",
       "      <td>0</td>\n",
       "      <td>0.184407</td>\n",
       "      <td>1</td>\n",
       "    </tr>\n",
       "  </tbody>\n",
       "</table>\n",
       "<p>176217 rows × 3 columns</p>\n",
       "</div>"
      ],
      "text/plain": [
       "        IsGoal     proba  compteur_tir\n",
       "265439       0  0.000000             1\n",
       "93501        0  0.010077             1\n",
       "136724       0  0.033333             1\n",
       "588721       0  0.143843             1\n",
       "24740        0  0.027756             1\n",
       "...        ...       ...           ...\n",
       "248419       0  0.007952             1\n",
       "137087       0  0.000000             1\n",
       "381850       0  0.032941             1\n",
       "375589       0  0.046296             1\n",
       "326441       0  0.184407             1\n",
       "\n",
       "[176217 rows x 3 columns]"
      ]
     },
     "execution_count": 28,
     "metadata": {},
     "output_type": "execute_result"
    }
   ],
   "source": [
    "df_prob"
   ]
  },
  {
   "cell_type": "code",
   "execution_count": 29,
   "id": "65510060",
   "metadata": {},
   "outputs": [
    {
     "name": "stderr",
     "output_type": "stream",
     "text": [
      "/Users/yassine/anaconda3/lib/python3.11/site-packages/seaborn/_oldcore.py:1119: FutureWarning: use_inf_as_na option is deprecated and will be removed in a future version. Convert inf values to NaN before operating instead.\n",
      "  with pd.option_context('mode.use_inf_as_na', True):\n",
      "/Users/yassine/anaconda3/lib/python3.11/site-packages/seaborn/_oldcore.py:1119: FutureWarning: use_inf_as_na option is deprecated and will be removed in a future version. Convert inf values to NaN before operating instead.\n",
      "  with pd.option_context('mode.use_inf_as_na', True):\n"
     ]
    },
    {
     "data": {
      "text/html": [
       "Tracking run with wandb version 0.18.7"
      ],
      "text/plain": [
       "<IPython.core.display.HTML object>"
      ]
     },
     "metadata": {},
     "output_type": "display_data"
    },
    {
     "data": {
      "text/html": [
       "Run data is saved locally in <code>/Users/yassine/Documents/IFT6758_M2/wandb/run-20241122_173036-Decision_Tree_Q6</code>"
      ],
      "text/plain": [
       "<IPython.core.display.HTML object>"
      ]
     },
     "metadata": {},
     "output_type": "display_data"
    },
    {
     "data": {
      "text/html": [
       "Resuming run <strong><a href='https://wandb.ai/hicham-mazouzi-university-of-montreal/IFT6758.2024-A/runs/Decision_Tree_Q6' target=\"_blank\">Decision_Tree_Q6</a></strong> to <a href='https://wandb.ai/hicham-mazouzi-university-of-montreal/IFT6758.2024-A' target=\"_blank\">Weights & Biases</a> (<a href='https://wandb.me/developer-guide' target=\"_blank\">docs</a>)<br/>"
      ],
      "text/plain": [
       "<IPython.core.display.HTML object>"
      ]
     },
     "metadata": {},
     "output_type": "display_data"
    },
    {
     "data": {
      "text/html": [
       " View project at <a href='https://wandb.ai/hicham-mazouzi-university-of-montreal/IFT6758.2024-A' target=\"_blank\">https://wandb.ai/hicham-mazouzi-university-of-montreal/IFT6758.2024-A</a>"
      ],
      "text/plain": [
       "<IPython.core.display.HTML object>"
      ]
     },
     "metadata": {},
     "output_type": "display_data"
    },
    {
     "data": {
      "text/html": [
       " View run at <a href='https://wandb.ai/hicham-mazouzi-university-of-montreal/IFT6758.2024-A/runs/Decision_Tree_Q6' target=\"_blank\">https://wandb.ai/hicham-mazouzi-university-of-montreal/IFT6758.2024-A/runs/Decision_Tree_Q6</a>"
      ],
      "text/plain": [
       "<IPython.core.display.HTML object>"
      ]
     },
     "metadata": {},
     "output_type": "display_data"
    },
    {
     "data": {
      "image/png": "[encoded data removed]",
      "text/plain": [
       "<Figure size 1250x750 with 1 Axes>"
      ]
     },
     "metadata": {},
     "output_type": "display_data"
    }
   ],
   "source": [
    "plot_taux_reussite_but(df_prob=df_prob, list_labels=['Modele : Arbre de decision'], n_bins=20, quant=5)"
   ]
  },
  {
   "cell_type": "code",
   "execution_count": 30,
   "id": "ee8f9997",
   "metadata": {},
   "outputs": [],
   "source": [
    "def percentage_formatter(x, pos):\n",
    "    return f'{x * 100:.0f}%'\n",
    "\n",
    "def plot_taux_reussite_cumulatif(df_prob=None, n_bins=20, quant=5, list_labels=None):\n",
    "    fig, ax = plt.subplots(figsize=(12.5, 7.5))\n",
    "    palette_couleurs = ['darkorange', 'green', 'navy', 'red', 'magenta']\n",
    "\n",
    "    compteur_but, pencentil, cum_goal_rate = [], [], []\n",
    "\n",
    "    df_prob = df_prob.copy()\n",
    "\n",
    "    cols = df_prob.columns[1:-1]\n",
    "\n",
    "    for col in cols:\n",
    "        temp, j = 0, 100\n",
    "        df_prob['percentile'] = df_prob[col].rank(pct=True)\n",
    "        quantile_list = np.linspace(0, 1, n_bins * quant + 1).round(4).tolist()\n",
    "        q = df_prob.quantile(quantile_list)\n",
    "        total = df_prob['IsGoal'].sum()\n",
    "\n",
    "        for j in np.arange((quant * n_bins), 0, -quant):\n",
    "            df_perc = df_prob[((df_prob[col] > q[col][(j - quant) / 100]) & (df_prob[col] <= q[col][j / 100]))]\n",
    "            compteur_but.append(df_perc.IsGoal.sum())\n",
    "            temp += df_perc.IsGoal.sum()\n",
    "            cum_goal_rate.append(temp / total)\n",
    "            pencentil.append(j)\n",
    "\n",
    "    for i in range(len(list_labels)):\n",
    "        ax = sns.lineplot(x=pencentil[i * n_bins:n_bins * (i + 1) - 1], y=cum_goal_rate[i * n_bins:n_bins * (i + 1) - 1],\n",
    "                          label=f'{list_labels[i]}', color=palette_couleurs[i], legend=False, linewidth=3)\n",
    "\n",
    "    sns.set()\n",
    "    ax.set_xlim(left=105, right=-5)\n",
    "    ax.set_ylim(bottom=0, top=max(cum_goal_rate) + 0.05)\n",
    "    ax.set_ylabel('Proportion de buts cumulés')\n",
    "    ax.set_xlabel('Percentile du modèle de probabilité de tir')\n",
    "    ax.set_title(f\"Taux de réussite cumulatif des buts vs. Percentile du modèle de probabilité de tir\")\n",
    "    ax.legend(fontsize=12)\n",
    "    plt.grid(color='white', linestyle='--', linewidth=0.8)\n",
    "\n",
    "    ax.set_xticks(np.arange(0, 101, 10))\n",
    "\n",
    "     \n",
    "    ax.yaxis.set_major_formatter(FuncFormatter(percentage_formatter)) # y-axis comme pourcentage\n",
    "    plot_filename = \"cumulative_goals.png\"\n",
    "    plt.savefig(plot_filename)\n",
    "    \n",
    "    plt.grid(color='white', linestyle='--', linewidth=0.8)\n",
    "    #wandb.init(project=\"decision_tree_classification\", id=\"results\", resume=\"allow\")\n",
    "    wandb.init(project=\"IFT6758.2024-A\", id=\"Decision_Tree_Q6\", resume=\"allow\")\n",
    "    wandb.log({\"Cumulative Goal\": wandb.Image(\"cumulative_goals.png\")})\n",
    "    plt.show()"
   ]
  },
  {
   "cell_type": "code",
   "execution_count": 31,
   "id": "dcd5a03e",
   "metadata": {},
   "outputs": [
    {
     "name": "stderr",
     "output_type": "stream",
     "text": [
      "/Users/yassine/anaconda3/lib/python3.11/site-packages/seaborn/_oldcore.py:1119: FutureWarning: use_inf_as_na option is deprecated and will be removed in a future version. Convert inf values to NaN before operating instead.\n",
      "  with pd.option_context('mode.use_inf_as_na', True):\n",
      "/Users/yassine/anaconda3/lib/python3.11/site-packages/seaborn/_oldcore.py:1119: FutureWarning: use_inf_as_na option is deprecated and will be removed in a future version. Convert inf values to NaN before operating instead.\n",
      "  with pd.option_context('mode.use_inf_as_na', True):\n"
     ]
    },
    {
     "data": {
      "text/html": [
       "Finishing last run (ID:Decision_Tree_Q6) before initializing another..."
      ],
      "text/plain": [
       "<IPython.core.display.HTML object>"
      ]
     },
     "metadata": {},
     "output_type": "display_data"
    },
    {
     "data": {
      "text/html": [
       " View run <strong style=\"color:#cdcd00\">Decision_Tree_Q6</strong> at: <a href='https://wandb.ai/hicham-mazouzi-university-of-montreal/IFT6758.2024-A/runs/Decision_Tree_Q6' target=\"_blank\">https://wandb.ai/hicham-mazouzi-university-of-montreal/IFT6758.2024-A/runs/Decision_Tree_Q6</a><br/> View project at: <a href='https://wandb.ai/hicham-mazouzi-university-of-montreal/IFT6758.2024-A' target=\"_blank\">https://wandb.ai/hicham-mazouzi-university-of-montreal/IFT6758.2024-A</a><br/>Synced 5 W&B file(s), 0 media file(s), 0 artifact file(s) and 1 other file(s)"
      ],
      "text/plain": [
       "<IPython.core.display.HTML object>"
      ]
     },
     "metadata": {},
     "output_type": "display_data"
    },
    {
     "data": {
      "text/html": [
       "Find logs at: <code>./wandb/run-20241122_173036-Decision_Tree_Q6/logs</code>"
      ],
      "text/plain": [
       "<IPython.core.display.HTML object>"
      ]
     },
     "metadata": {},
     "output_type": "display_data"
    },
    {
     "data": {
      "text/html": [
       "Successfully finished last run (ID:Decision_Tree_Q6). Initializing new run:<br/>"
      ],
      "text/plain": [
       "<IPython.core.display.HTML object>"
      ]
     },
     "metadata": {},
     "output_type": "display_data"
    },
    {
     "data": {
      "text/html": [
       "Tracking run with wandb version 0.18.7"
      ],
      "text/plain": [
       "<IPython.core.display.HTML object>"
      ]
     },
     "metadata": {},
     "output_type": "display_data"
    },
    {
     "data": {
      "text/html": [
       "Run data is saved locally in <code>/Users/yassine/Documents/IFT6758_M2/wandb/run-20241122_173043-Decision_Tree_Q6</code>"
      ],
      "text/plain": [
       "<IPython.core.display.HTML object>"
      ]
     },
     "metadata": {},
     "output_type": "display_data"
    },
    {
     "data": {
      "text/html": [
       "Resuming run <strong><a href='https://wandb.ai/hicham-mazouzi-university-of-montreal/IFT6758.2024-A/runs/Decision_Tree_Q6' target=\"_blank\">Decision_Tree_Q6</a></strong> to <a href='https://wandb.ai/hicham-mazouzi-university-of-montreal/IFT6758.2024-A' target=\"_blank\">Weights & Biases</a> (<a href='https://wandb.me/developer-guide' target=\"_blank\">docs</a>)<br/>"
      ],
      "text/plain": [
       "<IPython.core.display.HTML object>"
      ]
     },
     "metadata": {},
     "output_type": "display_data"
    },
    {
     "data": {
      "text/html": [
       " View project at <a href='https://wandb.ai/hicham-mazouzi-university-of-montreal/IFT6758.2024-A' target=\"_blank\">https://wandb.ai/hicham-mazouzi-university-of-montreal/IFT6758.2024-A</a>"
      ],
      "text/plain": [
       "<IPython.core.display.HTML object>"
      ]
     },
     "metadata": {},
     "output_type": "display_data"
    },
    {
     "data": {
      "text/html": [
       " View run at <a href='https://wandb.ai/hicham-mazouzi-university-of-montreal/IFT6758.2024-A/runs/Decision_Tree_Q6' target=\"_blank\">https://wandb.ai/hicham-mazouzi-university-of-montreal/IFT6758.2024-A/runs/Decision_Tree_Q6</a>"
      ],
      "text/plain": [
       "<IPython.core.display.HTML object>"
      ]
     },
     "metadata": {},
     "output_type": "display_data"
    },
    {
     "data": {
      "image/png": "[encoded data removed]",
      "text/plain": [
       "<Figure size 1250x750 with 1 Axes>"
      ]
     },
     "metadata": {},
     "output_type": "display_data"
    }
   ],
   "source": [
    "plot_taux_reussite_cumulatif(df_prob=df_prob, n_bins=20, quant=5, list_labels=['Modele : Arbre de decision'])"
   ]
  },
  {
   "cell_type": "code",
   "execution_count": 32,
   "id": "32b15e28",
   "metadata": {},
   "outputs": [
    {
     "data": {
      "image/png": "[encoded data removed]",
      "text/plain": [
       "<Figure size 1250x750 with 1 Axes>"
      ]
     },
     "metadata": {},
     "output_type": "display_data"
    }
   ],
   "source": [
    "fig, ax = plt.subplots(figsize=(12.5, 7.5))\n",
    "\n",
    "\n",
    "y_pred_vec = [probs]\n",
    "y_val = [y_test]\n",
    "model_names = ['Modele : Arbre de decision']\n",
    "\n",
    "for idx, y_pred in enumerate(y_pred_vec):\n",
    "    y_val_flat = np.ravel(y_val[0][:len(probs)]) \n",
    "    y_pred_flat = np.ravel(probs)\n",
    "    disp = CalibrationDisplay.from_predictions(y_val_flat, y_pred_flat, n_bins=10, label=model_names[idx], ax=ax)\n",
    "\n",
    "sns.set()\n",
    "ax.set_ylabel(\"Ratio de positifs\")\n",
    "ax.set_ylim([-0.05, 1.05])\n",
    "ax.set_title('courbe de fiabilité')\n",
    "ax.set_xlabel(\"Valeur moyenne prédite\")\n",
    "ax.set_ylabel(\"Ratio de positifs\")\n",
    "plt.legend(loc='best')\n",
    "plt.grid(color='white', linestyle='--', linewidth=0.8)\n",
    "plt.show()"
   ]
  },
  {
   "cell_type": "code",
   "execution_count": 33,
   "id": "21863cda",
   "metadata": {},
   "outputs": [
    {
     "data": {
      "text/html": [
       "Finishing last run (ID:Decision_Tree_Q6) before initializing another..."
      ],
      "text/plain": [
       "<IPython.core.display.HTML object>"
      ]
     },
     "metadata": {},
     "output_type": "display_data"
    },
    {
     "data": {
      "text/html": [
       " View run <strong style=\"color:#cdcd00\">Decision_Tree_Q6</strong> at: <a href='https://wandb.ai/hicham-mazouzi-university-of-montreal/IFT6758.2024-A/runs/Decision_Tree_Q6' target=\"_blank\">https://wandb.ai/hicham-mazouzi-university-of-montreal/IFT6758.2024-A/runs/Decision_Tree_Q6</a><br/> View project at: <a href='https://wandb.ai/hicham-mazouzi-university-of-montreal/IFT6758.2024-A' target=\"_blank\">https://wandb.ai/hicham-mazouzi-university-of-montreal/IFT6758.2024-A</a><br/>Synced 5 W&B file(s), 0 media file(s), 0 artifact file(s) and 1 other file(s)"
      ],
      "text/plain": [
       "<IPython.core.display.HTML object>"
      ]
     },
     "metadata": {},
     "output_type": "display_data"
    },
    {
     "data": {
      "text/html": [
       "Find logs at: <code>./wandb/run-20241122_173043-Decision_Tree_Q6/logs</code>"
      ],
      "text/plain": [
       "<IPython.core.display.HTML object>"
      ]
     },
     "metadata": {},
     "output_type": "display_data"
    },
    {
     "data": {
      "text/html": [
       "Successfully finished last run (ID:Decision_Tree_Q6). Initializing new run:<br/>"
      ],
      "text/plain": [
       "<IPython.core.display.HTML object>"
      ]
     },
     "metadata": {},
     "output_type": "display_data"
    },
    {
     "data": {
      "text/html": [
       "Tracking run with wandb version 0.18.7"
      ],
      "text/plain": [
       "<IPython.core.display.HTML object>"
      ]
     },
     "metadata": {},
     "output_type": "display_data"
    },
    {
     "data": {
      "text/html": [
       "Run data is saved locally in <code>/Users/yassine/Documents/IFT6758_M2/wandb/run-20241122_173051-Decision_Tree_Q6</code>"
      ],
      "text/plain": [
       "<IPython.core.display.HTML object>"
      ]
     },
     "metadata": {},
     "output_type": "display_data"
    },
    {
     "data": {
      "text/html": [
       "Resuming run <strong><a href='https://wandb.ai/hicham-mazouzi-university-of-montreal/IFT6758.2024-A/runs/Decision_Tree_Q6' target=\"_blank\">Decision_Tree_Q6</a></strong> to <a href='https://wandb.ai/hicham-mazouzi-university-of-montreal/IFT6758.2024-A' target=\"_blank\">Weights & Biases</a> (<a href='https://wandb.me/developer-guide' target=\"_blank\">docs</a>)<br/>"
      ],
      "text/plain": [
       "<IPython.core.display.HTML object>"
      ]
     },
     "metadata": {},
     "output_type": "display_data"
    },
    {
     "data": {
      "text/html": [
       " View project at <a href='https://wandb.ai/hicham-mazouzi-university-of-montreal/IFT6758.2024-A' target=\"_blank\">https://wandb.ai/hicham-mazouzi-university-of-montreal/IFT6758.2024-A</a>"
      ],
      "text/plain": [
       "<IPython.core.display.HTML object>"
      ]
     },
     "metadata": {},
     "output_type": "display_data"
    },
    {
     "data": {
      "text/html": [
       " View run at <a href='https://wandb.ai/hicham-mazouzi-university-of-montreal/IFT6758.2024-A/runs/Decision_Tree_Q6' target=\"_blank\">https://wandb.ai/hicham-mazouzi-university-of-montreal/IFT6758.2024-A/runs/Decision_Tree_Q6</a>"
      ],
      "text/plain": [
       "<IPython.core.display.HTML object>"
      ]
     },
     "metadata": {},
     "output_type": "display_data"
    },
    {
     "data": {
      "image/png": "[encoded data removed]",
      "text/plain": [
       "<Figure size 1250x750 with 1 Axes>"
      ]
     },
     "metadata": {},
     "output_type": "display_data"
    }
   ],
   "source": [
    "def plot_calibration(y_pred_vec, y_val):\n",
    "    fig, ax = plt.subplots(figsize=(12.5, 7.5))\n",
    "\n",
    "    for idx, y_pred in enumerate(y_pred_vec):\n",
    "        y_val_flat = np.ravel(y_val[idx][:len(y_pred)])  # Flatten and align lengths\n",
    "        y_pred_flat = np.ravel(y_pred)\n",
    "        CalibrationDisplay.from_predictions(y_val_flat, y_pred_flat, n_bins=10, label=model_names[idx], ax=ax)\n",
    "\n",
    "    sns.set()\n",
    "    ax.set_ylabel(\"Ratio de positifs\")\n",
    "    ax.set_ylim([-0.05, 1.05])\n",
    "    ax.set_title('Courbe de Fiabilité')\n",
    "    ax.set_xlabel(\"Valeur moyenne prédite\")\n",
    "    plt.legend(loc='best')\n",
    "    plt.grid(color='white', linestyle='--', linewidth=0.8)\n",
    "\n",
    "    # Save and log to Wandb\n",
    "    #wandb.init(project=\"decision_tree_classification\", id=\"results\", resume=\"allow\")\n",
    "    wandb.init(project=\"IFT6758.2024-A\", id=\"Decision_Tree_Q6\", resume=\"allow\")\n",
    "    plt.savefig(\"calibration_plot.png\")  # Save locally\n",
    "    wandb.log({\"Calibration Plot\": wandb.Image(\"calibration_plot.png\")})  # Log to Wandb\n",
    "    plt.show()\n",
    "\n",
    "# Call the function\n",
    "plot_calibration(y_pred_vec, y_val)"
   ]
  },
  {
   "cell_type": "code",
   "execution_count": 34,
   "id": "cb5c9d96",
   "metadata": {},
   "outputs": [
    {
     "data": {
      "text/html": [
       " View run <strong style=\"color:#cdcd00\">Decision_Tree_Q6</strong> at: <a href='https://wandb.ai/hicham-mazouzi-university-of-montreal/IFT6758.2024-A/runs/Decision_Tree_Q6' target=\"_blank\">https://wandb.ai/hicham-mazouzi-university-of-montreal/IFT6758.2024-A/runs/Decision_Tree_Q6</a><br/> View project at: <a href='https://wandb.ai/hicham-mazouzi-university-of-montreal/IFT6758.2024-A' target=\"_blank\">https://wandb.ai/hicham-mazouzi-university-of-montreal/IFT6758.2024-A</a><br/>Synced 5 W&B file(s), 0 media file(s), 0 artifact file(s) and 1 other file(s)"
      ],
      "text/plain": [
       "<IPython.core.display.HTML object>"
      ]
     },
     "metadata": {},
     "output_type": "display_data"
    },
    {
     "data": {
      "text/html": [
       "Find logs at: <code>./wandb/run-20241122_173051-Decision_Tree_Q6/logs</code>"
      ],
      "text/plain": [
       "<IPython.core.display.HTML object>"
      ]
     },
     "metadata": {},
     "output_type": "display_data"
    }
   ],
   "source": [
    "wandb.finish()"
   ]
  },
  {
   "cell_type": "code",
   "execution_count": null,
   "id": "a40ad1a9",
   "metadata": {},
   "outputs": [],
   "source": []
  }
 ],
 "metadata": {
  "kernelspec": {
   "display_name": "Python 3 (ipykernel)",
   "language": "python",
   "name": "python3"
  },
  "language_info": {
   "codemirror_mode": {
    "name": "ipython",
    "version": 3
   },
   "file_extension": ".py",
   "mimetype": "text/x-python",
   "name": "python",
   "nbconvert_exporter": "python",
   "pygments_lexer": "ipython3",
   "version": "3.11.5"
  }
 },
 "nbformat": 4,
 "nbformat_minor": 5
}
