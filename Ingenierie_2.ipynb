{
 "cells": [
  {
   "cell_type": "code",
   "execution_count": 1,
   "metadata": {},
   "outputs": [],
   "source": [
    "from Modules import data, Ingenierie_2\n",
    "import pandas as pd\n",
    "import numpy as np\n",
    "import math\n",
    "import os"
   ]
  },
  {
   "cell_type": "markdown",
   "metadata": {},
   "source": [
    "# Chargement des données et création du dataframe"
   ]
  },
  {
   "cell_type": "code",
   "execution_count": 2,
   "metadata": {},
   "outputs": [
    {
     "name": "stdout",
     "output_type": "stream",
     "text": [
      "Loading data for season 2016\n",
      "Data for season 2016 loaded successfully.\n",
      "Loading data for season 2017\n",
      "Data for season 2017 loaded successfully.\n",
      "Loading data for season 2018\n",
      "Data for season 2018 loaded successfully.\n",
      "Loading data for season 2019\n",
      "Data for season 2019 loaded successfully.\n",
      "Loading data for season 2020\n",
      "Data for season 2020 loaded successfully.\n"
     ]
    }
   ],
   "source": [
    "train_data=data.load_data(range(2016,2020))\n",
    "test_data = data.load_data(range(2020,2021))"
   ]
  },
  {
   "cell_type": "markdown",
   "metadata": {},
   "source": [
    "# Question 1"
   ]
  },
  {
   "cell_type": "code",
   "execution_count": 3,
   "metadata": {},
   "outputs": [
    {
     "name": "stderr",
     "output_type": "stream",
     "text": [
      "100%|██████████| 4/4 [00:11<00:00,  2.96s/it]\n"
     ]
    },
    {
     "data": {
      "text/html": [
       "<div>\n",
       "<style scoped>\n",
       "    .dataframe tbody tr th:only-of-type {\n",
       "        vertical-align: middle;\n",
       "    }\n",
       "\n",
       "    .dataframe tbody tr th {\n",
       "        vertical-align: top;\n",
       "    }\n",
       "\n",
       "    .dataframe thead th {\n",
       "        text-align: right;\n",
       "    }\n",
       "</style>\n",
       "<table border=\"1\" class=\"dataframe\">\n",
       "  <thead>\n",
       "    <tr style=\"text-align: right;\">\n",
       "      <th></th>\n",
       "      <th>game_id</th>\n",
       "      <th>game_seconds</th>\n",
       "      <th>game_period</th>\n",
       "      <th>x_coord</th>\n",
       "      <th>y_coord</th>\n",
       "      <th>shot_distance</th>\n",
       "      <th>shot_angle</th>\n",
       "      <th>shot_type</th>\n",
       "      <th>empty_net</th>\n",
       "    </tr>\n",
       "  </thead>\n",
       "  <tbody>\n",
       "    <tr>\n",
       "      <th>0</th>\n",
       "      <td>2016020001</td>\n",
       "      <td>63</td>\n",
       "      <td>1</td>\n",
       "      <td>-43.0</td>\n",
       "      <td>23.0</td>\n",
       "      <td>51.429563</td>\n",
       "      <td>26.565051</td>\n",
       "      <td>None</td>\n",
       "      <td>1</td>\n",
       "    </tr>\n",
       "    <tr>\n",
       "      <th>1</th>\n",
       "      <td>2016020001</td>\n",
       "      <td>70</td>\n",
       "      <td>1</td>\n",
       "      <td>-61.0</td>\n",
       "      <td>11.0</td>\n",
       "      <td>30.083218</td>\n",
       "      <td>21.447736</td>\n",
       "      <td>None</td>\n",
       "      <td>1</td>\n",
       "    </tr>\n",
       "    <tr>\n",
       "      <th>2</th>\n",
       "      <td>2016020001</td>\n",
       "      <td>71</td>\n",
       "      <td>1</td>\n",
       "      <td>-77.0</td>\n",
       "      <td>5.0</td>\n",
       "      <td>13.000000</td>\n",
       "      <td>22.619865</td>\n",
       "      <td>wrist</td>\n",
       "      <td>0</td>\n",
       "    </tr>\n",
       "    <tr>\n",
       "      <th>3</th>\n",
       "      <td>2016020001</td>\n",
       "      <td>125</td>\n",
       "      <td>1</td>\n",
       "      <td>56.0</td>\n",
       "      <td>-2.0</td>\n",
       "      <td>33.060551</td>\n",
       "      <td>3.468229</td>\n",
       "      <td>None</td>\n",
       "      <td>1</td>\n",
       "    </tr>\n",
       "    <tr>\n",
       "      <th>4</th>\n",
       "      <td>2016020001</td>\n",
       "      <td>134</td>\n",
       "      <td>1</td>\n",
       "      <td>52.0</td>\n",
       "      <td>9.0</td>\n",
       "      <td>38.078866</td>\n",
       "      <td>-13.671307</td>\n",
       "      <td>wrist</td>\n",
       "      <td>0</td>\n",
       "    </tr>\n",
       "  </tbody>\n",
       "</table>\n",
       "</div>"
      ],
      "text/plain": [
       "      game_id  game_seconds  game_period  x_coord  y_coord  shot_distance  \\\n",
       "0  2016020001            63            1    -43.0     23.0      51.429563   \n",
       "1  2016020001            70            1    -61.0     11.0      30.083218   \n",
       "2  2016020001            71            1    -77.0      5.0      13.000000   \n",
       "3  2016020001           125            1     56.0     -2.0      33.060551   \n",
       "4  2016020001           134            1     52.0      9.0      38.078866   \n",
       "\n",
       "   shot_angle shot_type  empty_net  \n",
       "0   26.565051      None          1  \n",
       "1   21.447736      None          1  \n",
       "2   22.619865     wrist          0  \n",
       "3    3.468229      None          1  \n",
       "4  -13.671307     wrist          0  "
      ]
     },
     "execution_count": 3,
     "metadata": {},
     "output_type": "execute_result"
    }
   ],
   "source": [
    "combined_shots_train = Ingenierie_2.process_basic_shot_data(train_data)\n",
    "combined_shots_train.head()"
   ]
  },
  {
   "cell_type": "markdown",
   "metadata": {},
   "source": [
    "# Question 2 - 4"
   ]
  },
  {
   "cell_type": "code",
   "execution_count": 4,
   "metadata": {},
   "outputs": [
    {
     "name": "stderr",
     "output_type": "stream",
     "text": [
      "100%|██████████| 4/4 [00:48<00:00, 12.16s/it]\n",
      "100%|██████████| 1/1 [00:07<00:00,  7.63s/it]\n"
     ]
    },
    {
     "data": {
      "text/html": [
       "<div>\n",
       "<style scoped>\n",
       "    .dataframe tbody tr th:only-of-type {\n",
       "        vertical-align: middle;\n",
       "    }\n",
       "\n",
       "    .dataframe tbody tr th {\n",
       "        vertical-align: top;\n",
       "    }\n",
       "\n",
       "    .dataframe thead th {\n",
       "        text-align: right;\n",
       "    }\n",
       "</style>\n",
       "<table border=\"1\" class=\"dataframe\">\n",
       "  <thead>\n",
       "    <tr style=\"text-align: right;\">\n",
       "      <th></th>\n",
       "      <th>game_id</th>\n",
       "      <th>game_seconds</th>\n",
       "      <th>game_period</th>\n",
       "      <th>x_coord</th>\n",
       "      <th>y_coord</th>\n",
       "      <th>shot_distance</th>\n",
       "      <th>shot_angle</th>\n",
       "      <th>shot_type</th>\n",
       "      <th>empty_net</th>\n",
       "      <th>last_event_type</th>\n",
       "      <th>...</th>\n",
       "      <th>distance_from_last_event</th>\n",
       "      <th>friendly_skaters</th>\n",
       "      <th>opposing_skaters</th>\n",
       "      <th>attacking_team_id</th>\n",
       "      <th>attacking_team_name</th>\n",
       "      <th>home_team</th>\n",
       "      <th>is_goal</th>\n",
       "      <th>rebound</th>\n",
       "      <th>shot_angle_change</th>\n",
       "      <th>speed</th>\n",
       "    </tr>\n",
       "  </thead>\n",
       "  <tbody>\n",
       "    <tr>\n",
       "      <th>0</th>\n",
       "      <td>2016020001</td>\n",
       "      <td>63</td>\n",
       "      <td>1</td>\n",
       "      <td>-43.0</td>\n",
       "      <td>23.0</td>\n",
       "      <td>51.429563</td>\n",
       "      <td>26.565051</td>\n",
       "      <td>None</td>\n",
       "      <td>1</td>\n",
       "      <td>takeaway</td>\n",
       "      <td>...</td>\n",
       "      <td>40.853396</td>\n",
       "      <td>5</td>\n",
       "      <td>5</td>\n",
       "      <td>10</td>\n",
       "      <td>Maple Leafs</td>\n",
       "      <td>Senators</td>\n",
       "      <td>0</td>\n",
       "      <td>False</td>\n",
       "      <td>0.000000</td>\n",
       "      <td>2.042670</td>\n",
       "    </tr>\n",
       "    <tr>\n",
       "      <th>1</th>\n",
       "      <td>2016020001</td>\n",
       "      <td>70</td>\n",
       "      <td>1</td>\n",
       "      <td>-61.0</td>\n",
       "      <td>11.0</td>\n",
       "      <td>30.083218</td>\n",
       "      <td>21.447736</td>\n",
       "      <td>None</td>\n",
       "      <td>1</td>\n",
       "      <td>blocked-shot</td>\n",
       "      <td>...</td>\n",
       "      <td>21.633308</td>\n",
       "      <td>5</td>\n",
       "      <td>5</td>\n",
       "      <td>10</td>\n",
       "      <td>Maple Leafs</td>\n",
       "      <td>Senators</td>\n",
       "      <td>0</td>\n",
       "      <td>False</td>\n",
       "      <td>0.000000</td>\n",
       "      <td>3.090473</td>\n",
       "    </tr>\n",
       "    <tr>\n",
       "      <th>2</th>\n",
       "      <td>2016020001</td>\n",
       "      <td>71</td>\n",
       "      <td>1</td>\n",
       "      <td>-77.0</td>\n",
       "      <td>5.0</td>\n",
       "      <td>13.000000</td>\n",
       "      <td>22.619865</td>\n",
       "      <td>wrist</td>\n",
       "      <td>0</td>\n",
       "      <td>blocked-shot</td>\n",
       "      <td>...</td>\n",
       "      <td>17.088007</td>\n",
       "      <td>5</td>\n",
       "      <td>5</td>\n",
       "      <td>10</td>\n",
       "      <td>Maple Leafs</td>\n",
       "      <td>Senators</td>\n",
       "      <td>0</td>\n",
       "      <td>False</td>\n",
       "      <td>0.000000</td>\n",
       "      <td>17.088007</td>\n",
       "    </tr>\n",
       "    <tr>\n",
       "      <th>3</th>\n",
       "      <td>2016020001</td>\n",
       "      <td>125</td>\n",
       "      <td>1</td>\n",
       "      <td>56.0</td>\n",
       "      <td>-2.0</td>\n",
       "      <td>33.060551</td>\n",
       "      <td>3.468229</td>\n",
       "      <td>None</td>\n",
       "      <td>1</td>\n",
       "      <td>shot-on-goal</td>\n",
       "      <td>...</td>\n",
       "      <td>133.184083</td>\n",
       "      <td>5</td>\n",
       "      <td>5</td>\n",
       "      <td>9</td>\n",
       "      <td>Senators</td>\n",
       "      <td>Senators</td>\n",
       "      <td>0</td>\n",
       "      <td>True</td>\n",
       "      <td>-19.151636</td>\n",
       "      <td>2.466372</td>\n",
       "    </tr>\n",
       "    <tr>\n",
       "      <th>4</th>\n",
       "      <td>2016020001</td>\n",
       "      <td>134</td>\n",
       "      <td>1</td>\n",
       "      <td>52.0</td>\n",
       "      <td>9.0</td>\n",
       "      <td>38.078866</td>\n",
       "      <td>-13.671307</td>\n",
       "      <td>wrist</td>\n",
       "      <td>0</td>\n",
       "      <td>blocked-shot</td>\n",
       "      <td>...</td>\n",
       "      <td>11.704700</td>\n",
       "      <td>5</td>\n",
       "      <td>5</td>\n",
       "      <td>9</td>\n",
       "      <td>Senators</td>\n",
       "      <td>Senators</td>\n",
       "      <td>0</td>\n",
       "      <td>False</td>\n",
       "      <td>0.000000</td>\n",
       "      <td>1.300522</td>\n",
       "    </tr>\n",
       "    <tr>\n",
       "      <th>5</th>\n",
       "      <td>2016020001</td>\n",
       "      <td>139</td>\n",
       "      <td>1</td>\n",
       "      <td>78.0</td>\n",
       "      <td>-1.0</td>\n",
       "      <td>11.045361</td>\n",
       "      <td>5.194429</td>\n",
       "      <td>None</td>\n",
       "      <td>1</td>\n",
       "      <td>missed-shot</td>\n",
       "      <td>...</td>\n",
       "      <td>27.856777</td>\n",
       "      <td>5</td>\n",
       "      <td>5</td>\n",
       "      <td>9</td>\n",
       "      <td>Senators</td>\n",
       "      <td>Senators</td>\n",
       "      <td>0</td>\n",
       "      <td>False</td>\n",
       "      <td>0.000000</td>\n",
       "      <td>5.571355</td>\n",
       "    </tr>\n",
       "    <tr>\n",
       "      <th>6</th>\n",
       "      <td>2016020001</td>\n",
       "      <td>173</td>\n",
       "      <td>1</td>\n",
       "      <td>86.0</td>\n",
       "      <td>13.0</td>\n",
       "      <td>13.341664</td>\n",
       "      <td>-77.005383</td>\n",
       "      <td>wrist</td>\n",
       "      <td>0</td>\n",
       "      <td>giveaway</td>\n",
       "      <td>...</td>\n",
       "      <td>36.715120</td>\n",
       "      <td>5</td>\n",
       "      <td>5</td>\n",
       "      <td>9</td>\n",
       "      <td>Senators</td>\n",
       "      <td>Senators</td>\n",
       "      <td>0</td>\n",
       "      <td>False</td>\n",
       "      <td>0.000000</td>\n",
       "      <td>7.343024</td>\n",
       "    </tr>\n",
       "    <tr>\n",
       "      <th>7</th>\n",
       "      <td>2016020001</td>\n",
       "      <td>216</td>\n",
       "      <td>1</td>\n",
       "      <td>-68.0</td>\n",
       "      <td>12.0</td>\n",
       "      <td>24.186773</td>\n",
       "      <td>29.744881</td>\n",
       "      <td>None</td>\n",
       "      <td>1</td>\n",
       "      <td>faceoff</td>\n",
       "      <td>...</td>\n",
       "      <td>88.684835</td>\n",
       "      <td>5</td>\n",
       "      <td>5</td>\n",
       "      <td>10</td>\n",
       "      <td>Maple Leafs</td>\n",
       "      <td>Senators</td>\n",
       "      <td>0</td>\n",
       "      <td>False</td>\n",
       "      <td>0.000000</td>\n",
       "      <td>4.667623</td>\n",
       "    </tr>\n",
       "    <tr>\n",
       "      <th>8</th>\n",
       "      <td>2016020001</td>\n",
       "      <td>223</td>\n",
       "      <td>1</td>\n",
       "      <td>-72.0</td>\n",
       "      <td>0.0</td>\n",
       "      <td>17.000000</td>\n",
       "      <td>0.000000</td>\n",
       "      <td>deflected</td>\n",
       "      <td>0</td>\n",
       "      <td>blocked-shot</td>\n",
       "      <td>...</td>\n",
       "      <td>12.649111</td>\n",
       "      <td>5</td>\n",
       "      <td>5</td>\n",
       "      <td>10</td>\n",
       "      <td>Maple Leafs</td>\n",
       "      <td>Senators</td>\n",
       "      <td>0</td>\n",
       "      <td>False</td>\n",
       "      <td>0.000000</td>\n",
       "      <td>1.807016</td>\n",
       "    </tr>\n",
       "    <tr>\n",
       "      <th>9</th>\n",
       "      <td>2016020001</td>\n",
       "      <td>241</td>\n",
       "      <td>1</td>\n",
       "      <td>23.0</td>\n",
       "      <td>-38.0</td>\n",
       "      <td>76.157731</td>\n",
       "      <td>29.931512</td>\n",
       "      <td>wrist</td>\n",
       "      <td>0</td>\n",
       "      <td>missed-shot</td>\n",
       "      <td>...</td>\n",
       "      <td>102.318131</td>\n",
       "      <td>5</td>\n",
       "      <td>5</td>\n",
       "      <td>9</td>\n",
       "      <td>Senators</td>\n",
       "      <td>Senators</td>\n",
       "      <td>0</td>\n",
       "      <td>False</td>\n",
       "      <td>0.000000</td>\n",
       "      <td>5.684341</td>\n",
       "    </tr>\n",
       "  </tbody>\n",
       "</table>\n",
       "<p>10 rows × 23 columns</p>\n",
       "</div>"
      ],
      "text/plain": [
       "      game_id  game_seconds  game_period  x_coord  y_coord  shot_distance  \\\n",
       "0  2016020001            63            1    -43.0     23.0      51.429563   \n",
       "1  2016020001            70            1    -61.0     11.0      30.083218   \n",
       "2  2016020001            71            1    -77.0      5.0      13.000000   \n",
       "3  2016020001           125            1     56.0     -2.0      33.060551   \n",
       "4  2016020001           134            1     52.0      9.0      38.078866   \n",
       "5  2016020001           139            1     78.0     -1.0      11.045361   \n",
       "6  2016020001           173            1     86.0     13.0      13.341664   \n",
       "7  2016020001           216            1    -68.0     12.0      24.186773   \n",
       "8  2016020001           223            1    -72.0      0.0      17.000000   \n",
       "9  2016020001           241            1     23.0    -38.0      76.157731   \n",
       "\n",
       "   shot_angle  shot_type  empty_net last_event_type  ...  \\\n",
       "0   26.565051       None          1        takeaway  ...   \n",
       "1   21.447736       None          1    blocked-shot  ...   \n",
       "2   22.619865      wrist          0    blocked-shot  ...   \n",
       "3    3.468229       None          1    shot-on-goal  ...   \n",
       "4  -13.671307      wrist          0    blocked-shot  ...   \n",
       "5    5.194429       None          1     missed-shot  ...   \n",
       "6  -77.005383      wrist          0        giveaway  ...   \n",
       "7   29.744881       None          1         faceoff  ...   \n",
       "8    0.000000  deflected          0    blocked-shot  ...   \n",
       "9   29.931512      wrist          0     missed-shot  ...   \n",
       "\n",
       "   distance_from_last_event  friendly_skaters  opposing_skaters  \\\n",
       "0                 40.853396                 5                 5   \n",
       "1                 21.633308                 5                 5   \n",
       "2                 17.088007                 5                 5   \n",
       "3                133.184083                 5                 5   \n",
       "4                 11.704700                 5                 5   \n",
       "5                 27.856777                 5                 5   \n",
       "6                 36.715120                 5                 5   \n",
       "7                 88.684835                 5                 5   \n",
       "8                 12.649111                 5                 5   \n",
       "9                102.318131                 5                 5   \n",
       "\n",
       "   attacking_team_id  attacking_team_name  home_team  is_goal rebound  \\\n",
       "0                 10          Maple Leafs   Senators        0   False   \n",
       "1                 10          Maple Leafs   Senators        0   False   \n",
       "2                 10          Maple Leafs   Senators        0   False   \n",
       "3                  9             Senators   Senators        0    True   \n",
       "4                  9             Senators   Senators        0   False   \n",
       "5                  9             Senators   Senators        0   False   \n",
       "6                  9             Senators   Senators        0   False   \n",
       "7                 10          Maple Leafs   Senators        0   False   \n",
       "8                 10          Maple Leafs   Senators        0   False   \n",
       "9                  9             Senators   Senators        0   False   \n",
       "\n",
       "  shot_angle_change      speed  \n",
       "0          0.000000   2.042670  \n",
       "1          0.000000   3.090473  \n",
       "2          0.000000  17.088007  \n",
       "3        -19.151636   2.466372  \n",
       "4          0.000000   1.300522  \n",
       "5          0.000000   5.571355  \n",
       "6          0.000000   7.343024  \n",
       "7          0.000000   4.667623  \n",
       "8          0.000000   1.807016  \n",
       "9          0.000000   5.684341  \n",
       "\n",
       "[10 rows x 23 columns]"
      ]
     },
     "execution_count": 4,
     "metadata": {},
     "output_type": "execute_result"
    }
   ],
   "source": [
    "train_data_enriched = Ingenierie_2.process_enriched_shot_data(train_data)\n",
    "test_data_enriched = Ingenierie_2.process_enriched_shot_data(test_data)\n",
    "train_data_enriched.head(10)"
   ]
  },
  {
   "cell_type": "markdown",
   "metadata": {},
   "source": [
    "Sauvegardez les jeux de donnees d'entrainement et de test dans un csv"
   ]
  },
  {
   "cell_type": "code",
   "execution_count": 5,
   "metadata": {},
   "outputs": [
    {
     "name": "stdout",
     "output_type": "stream",
     "text": [
      "Train data saved to: dataframe\\train_data_enriched.csv\n",
      "Test data saved to: dataframe\\test_data_enriched.csv\n"
     ]
    }
   ],
   "source": [
    "# Process and save train data\n",
    "train_data_csv_path = os.path.join(\"dataframe\", \"train_data_enriched.csv\")\n",
    "os.makedirs(\"dataframe\", exist_ok=True)  # Ensure the 'dataframe' folder exists\n",
    "train_data_enriched.to_csv(train_data_csv_path, index=False)\n",
    "print(f\"Train data saved to: {train_data_csv_path}\")\n",
    "\n",
    "# Process and save test data\n",
    "test_data_csv_path = os.path.join(\"dataframe\", \"test_data_enriched.csv\")\n",
    "test_data_enriched.to_csv(test_data_csv_path, index=False)\n",
    "print(f\"Test data saved to: {test_data_csv_path}\")"
   ]
  },
  {
   "cell_type": "markdown",
   "metadata": {},
   "source": [
    " ## Match Washington vs Winnipeg"
   ]
  },
  {
   "cell_type": "markdown",
   "metadata": {},
   "source": [
    "### Trouver la dataframe\n"
   ]
  },
  {
   "cell_type": "code",
   "execution_count": 7,
   "metadata": {},
   "outputs": [
    {
     "name": "stdout",
     "output_type": "stream",
     "text": [
      "DataFrame filtré :\n",
      "           game_id  game_seconds  game_period  x_coord  y_coord  \\\n",
      "275833  2017021065            31            1    -68.0     31.0   \n",
      "275834  2017021065            86            1     79.0      4.0   \n",
      "275835  2017021065           111            1    -50.0     36.0   \n",
      "275836  2017021065           115            1    -85.0    -25.0   \n",
      "275837  2017021065           124            1     73.0    -16.0   \n",
      "...            ...           ...          ...      ...      ...   \n",
      "275963  2017021065          3706            4     58.0     10.0   \n",
      "275964  2017021065          3734            4     60.0     23.0   \n",
      "275965  2017021065          3744            4     87.0     -9.0   \n",
      "275966  2017021065          3807            4     74.0      1.0   \n",
      "275967  2017021065          3851            4     74.0      1.0   \n",
      "\n",
      "        shot_distance  shot_angle shot_type  empty_net last_event_type  ...  \\\n",
      "275833      37.443290   55.885527      None          1             hit  ...   \n",
      "275834      10.770330  -21.801409      None          1         faceoff  ...   \n",
      "275835      53.075418   42.709390      snap          0             hit  ...   \n",
      "275836      25.317978  -80.909723     wrist          0    shot-on-goal  ...   \n",
      "275837      22.627417   45.000000  backhand          0        takeaway  ...   \n",
      "...               ...         ...       ...        ...             ...  ...   \n",
      "275963      32.572995  -17.878697      slap          0    shot-on-goal  ...   \n",
      "275964      37.013511  -38.418055      slap          0             hit  ...   \n",
      "275965       9.219544   77.471192  backhand          0         faceoff  ...   \n",
      "275966      15.033296   -3.814075     wrist          0             hit  ...   \n",
      "275967      15.033296   -3.814075     wrist          0         faceoff  ...   \n",
      "\n",
      "        distance_from_last_event  friendly_skaters  opposing_skaters  \\\n",
      "275833                 26.305893                 5                 5   \n",
      "275834                 20.591260                 5                 5   \n",
      "275835                122.004098                 5                 5   \n",
      "275836                 70.327804                 5                 5   \n",
      "275837                112.641023                 5                 5   \n",
      "...                          ...               ...               ...   \n",
      "275963                 22.203603                 4                 3   \n",
      "275964                132.913506                 4                 3   \n",
      "275965                 35.846897                 4                 4   \n",
      "275966                 21.400935                 4                 4   \n",
      "275967                 21.587033                 3                 3   \n",
      "\n",
      "        attacking_team_id  attacking_team_name  home_team  is_goal rebound  \\\n",
      "275833                 15             Capitals   Capitals        0   False   \n",
      "275834                 52                 Jets   Capitals        0   False   \n",
      "275835                 15             Capitals   Capitals        0   False   \n",
      "275836                 15             Capitals   Capitals        0    True   \n",
      "275837                 52                 Jets   Capitals        0   False   \n",
      "...                   ...                  ...        ...      ...     ...   \n",
      "275963                 15             Capitals   Capitals        0    True   \n",
      "275964                 15             Capitals   Capitals        0   False   \n",
      "275965                 15             Capitals   Capitals        0   False   \n",
      "275966                 15             Capitals   Capitals        0   False   \n",
      "275967                 15             Capitals   Capitals        1   False   \n",
      "\n",
      "       shot_angle_change       speed  \n",
      "275833          0.000000    1.878992  \n",
      "275834          0.000000    3.431877  \n",
      "275835          0.000000   11.091282  \n",
      "275836       -123.619113   17.581951  \n",
      "275837          0.000000  112.641023  \n",
      "...                  ...         ...  \n",
      "275963        -41.841186    2.018509  \n",
      "275964          0.000000    9.493822  \n",
      "275965          0.000000    3.982989  \n",
      "275966          0.000000   10.700467  \n",
      "275967          0.000000    0.502024  \n",
      "\n",
      "[135 rows x 23 columns]\n"
     ]
    }
   ],
   "source": [
    "game_id = 2017021065\n",
    "\n",
    "# Filtrer le DataFrame pour l'ID de jeu spécifique\n",
    "df_ws = train_data_enriched[train_data_enriched['game_id'] == game_id]\n",
    "\n",
    "# Vérifiez si le DataFrame filtré est vide\n",
    "if df_ws.empty:\n",
    "    print(f\"Aucune donnée trouvée pour game_id = {game_id}.\")\n",
    "else:\n",
    "    print(\"DataFrame filtré :\")\n",
    "    print(df_ws)\n"
   ]
  },
  {
   "cell_type": "markdown",
   "metadata": {},
   "source": [
    "### Passer le dataframe en csv\n"
   ]
  },
  {
   "cell_type": "code",
   "execution_count": 8,
   "metadata": {},
   "outputs": [],
   "source": [
    "# Sauvegarder en CSV localement pour vérifier\n",
    "df_ws.to_csv(\"wpg_v_wsh_2017021065.csv\", index=False)\n"
   ]
  },
  {
   "cell_type": "markdown",
   "metadata": {},
   "source": [
    "### Wandb"
   ]
  },
  {
   "cell_type": "code",
   "execution_count": 20,
   "metadata": {},
   "outputs": [
    {
     "name": "stderr",
     "output_type": "stream",
     "text": [
      "\u001b[34m\u001b[1mwandb\u001b[0m: Using wandb-core as the SDK backend.  Please refer to https://wandb.me/wandb-core for more information.\n",
      "\u001b[34m\u001b[1mwandb\u001b[0m: Currently logged in as: \u001b[33mvincent-neveu\u001b[0m (\u001b[33mhicham-mazouzi-university-of-montreal\u001b[0m). Use \u001b[1m`wandb login --relogin`\u001b[0m to force relogin\n"
     ]
    },
    {
     "data": {
      "application/vnd.jupyter.widget-view+json": {
       "model_id": "f63502db1e6043cbbb7b31f77e13f490",
       "version_major": 2,
       "version_minor": 0
      },
      "text/plain": [
       "VBox(children=(Label(value='Waiting for wandb.init()...\\r'), FloatProgress(value=0.011111111111111112, max=1.0…"
      ]
     },
     "metadata": {},
     "output_type": "display_data"
    },
    {
     "data": {
      "text/html": [
       "Tracking run with wandb version 0.18.6"
      ],
      "text/plain": [
       "<IPython.core.display.HTML object>"
      ]
     },
     "metadata": {},
     "output_type": "display_data"
    },
    {
     "data": {
      "text/html": [
       "Run data is saved locally in <code>c:\\Users\\vince\\OneDrive\\Documents\\GitHub\\IFT6358\\wandb\\run-20241120_152348-m8tkv3t8</code>"
      ],
      "text/plain": [
       "<IPython.core.display.HTML object>"
      ]
     },
     "metadata": {},
     "output_type": "display_data"
    },
    {
     "data": {
      "text/html": [
       "Syncing run <strong><a href='https://wandb.ai/hicham-mazouzi-university-of-montreal/IFT6758.2024-A/runs/m8tkv3t8' target=\"_blank\">Winnipeg vs Washington</a></strong> to <a href='https://wandb.ai/hicham-mazouzi-university-of-montreal/IFT6758.2024-A' target=\"_blank\">Weights & Biases</a> (<a href='https://wandb.me/developer-guide' target=\"_blank\">docs</a>)<br/>"
      ],
      "text/plain": [
       "<IPython.core.display.HTML object>"
      ]
     },
     "metadata": {},
     "output_type": "display_data"
    },
    {
     "data": {
      "text/html": [
       " View project at <a href='https://wandb.ai/hicham-mazouzi-university-of-montreal/IFT6758.2024-A' target=\"_blank\">https://wandb.ai/hicham-mazouzi-university-of-montreal/IFT6758.2024-A</a>"
      ],
      "text/plain": [
       "<IPython.core.display.HTML object>"
      ]
     },
     "metadata": {},
     "output_type": "display_data"
    },
    {
     "data": {
      "text/html": [
       " View run at <a href='https://wandb.ai/hicham-mazouzi-university-of-montreal/IFT6758.2024-A/runs/m8tkv3t8' target=\"_blank\">https://wandb.ai/hicham-mazouzi-university-of-montreal/IFT6758.2024-A/runs/m8tkv3t8</a>"
      ],
      "text/plain": [
       "<IPython.core.display.HTML object>"
      ]
     },
     "metadata": {},
     "output_type": "display_data"
    },
    {
     "data": {
      "application/vnd.jupyter.widget-view+json": {
       "model_id": "da04f90a1fac4860a2ccc5a5a253328a",
       "version_major": 2,
       "version_minor": 0
      },
      "text/plain": [
       "VBox(children=(Label(value='0.033 MB of 0.033 MB uploaded\\r'), FloatProgress(value=1.0, max=1.0)))"
      ]
     },
     "metadata": {},
     "output_type": "display_data"
    },
    {
     "data": {
      "text/html": [
       " View run <strong style=\"color:#cdcd00\">Winnipeg vs Washington</strong> at: <a href='https://wandb.ai/hicham-mazouzi-university-of-montreal/IFT6758.2024-A/runs/m8tkv3t8' target=\"_blank\">https://wandb.ai/hicham-mazouzi-university-of-montreal/IFT6758.2024-A/runs/m8tkv3t8</a><br/> View project at: <a href='https://wandb.ai/hicham-mazouzi-university-of-montreal/IFT6758.2024-A' target=\"_blank\">https://wandb.ai/hicham-mazouzi-university-of-montreal/IFT6758.2024-A</a><br/>Synced 4 W&B file(s), 0 media file(s), 5 artifact file(s) and 0 other file(s)"
      ],
      "text/plain": [
       "<IPython.core.display.HTML object>"
      ]
     },
     "metadata": {},
     "output_type": "display_data"
    },
    {
     "data": {
      "text/html": [
       "Find logs at: <code>.\\wandb\\run-20241120_152348-m8tkv3t8\\logs</code>"
      ],
      "text/plain": [
       "<IPython.core.display.HTML object>"
      ]
     },
     "metadata": {},
     "output_type": "display_data"
    }
   ],
   "source": [
    "import wandb\n",
    "\n",
    "# Initialiser le projet WandB\n",
    "run = wandb.init(project=\"IFT6758.2024-A\", name=\"Winnipeg vs Washington\")\n",
    "\n",
    "# Créer un artefact WandB pour les données\n",
    "artifact = wandb.Artifact(\n",
    "    \"wpg_v_wsh_2017021065\",  # Nom unique de l'artefact\n",
    "    type=\"dataset\"  # Type d'artefact\n",
    ")\n",
    "\n",
    "# Ajouter les données au tableau WandB\n",
    "my_table = wandb.Table(dataframe=df_ws)  # Utilisation de df_ws comme DataFrame\n",
    "artifact.add(my_table, \"df_ws\")  # Nom interne pour identifier les données\n",
    "\n",
    "# Enregistrer l'artefact\n",
    "run.log_artifact(artifact)\n",
    "\n",
    "# Terminer la session WandB\n",
    "run.finish()\n"
   ]
  },
  {
   "cell_type": "markdown",
   "metadata": {},
   "source": [
    "# Entrainement d'un modele"
   ]
  },
  {
   "cell_type": "code",
   "execution_count": 11,
   "metadata": {},
   "outputs": [
    {
     "name": "stdout",
     "output_type": "stream",
     "text": [
      "game_id                       int64\n",
      "game_seconds                  int64\n",
      "game_period                   int64\n",
      "x_coord                     float64\n",
      "y_coord                     float64\n",
      "shot_distance               float64\n",
      "shot_angle                  float64\n",
      "shot_type                     int32\n",
      "empty_net                     int64\n",
      "last_event_type               int32\n",
      "last_event_x                float64\n",
      "last_event_y                float64\n",
      "time_since_last_event         int64\n",
      "distance_from_last_event    float64\n",
      "friendly_skaters              int64\n",
      "opposing_skaters              int64\n",
      "attacking_team_id             int64\n",
      "attacking_team_name           int32\n",
      "home_team                     int32\n",
      "is_goal                       int64\n",
      "rebound                        bool\n",
      "shot_angle_change           float64\n",
      "speed                       float64\n",
      "dtype: object\n"
     ]
    }
   ],
   "source": [
    "from sklearn.preprocessing import LabelEncoder\n",
    "\n",
    "# Liste des colonnes catégorielles\n",
    "categorical_columns = ['shot_type', 'last_event_type', 'attacking_team_name', 'home_team']\n",
    "\n",
    "# Appliquer LabelEncoder à chaque colonne\n",
    "label_encoder = LabelEncoder()\n",
    "\n",
    "for col in categorical_columns:\n",
    "    train_data_enriched[col] = label_encoder.fit_transform(train_data_enriched[col].astype(str))\n",
    "\n",
    "# Vérifier les types après l'encodage\n",
    "print(train_data_enriched.dtypes)\n"
   ]
  },
  {
   "cell_type": "code",
   "execution_count": 16,
   "metadata": {},
   "outputs": [
    {
     "name": "stdout",
     "output_type": "stream",
     "text": [
      "game_id                       int64\n",
      "game_seconds                  int64\n",
      "game_period                   int64\n",
      "x_coord                     float64\n",
      "y_coord                     float64\n",
      "shot_distance               float64\n",
      "shot_angle                  float64\n",
      "shot_type                     int64\n",
      "empty_net                     int64\n",
      "last_event_type               int64\n",
      "last_event_x                float64\n",
      "last_event_y                float64\n",
      "time_since_last_event         int64\n",
      "distance_from_last_event    float64\n",
      "friendly_skaters              int64\n",
      "opposing_skaters              int64\n",
      "attacking_team_id             int64\n",
      "attacking_team_name           int64\n",
      "home_team                     int64\n",
      "is_goal                       int64\n",
      "rebound                       int32\n",
      "shot_angle_change           float64\n",
      "speed                       float64\n",
      "dtype: object\n"
     ]
    }
   ],
   "source": [
    "import pandas as pd\n",
    "import torch\n",
    "from sklearn.preprocessing import LabelEncoder\n",
    "from torch.utils.data import DataLoader, TensorDataset\n",
    "\n",
    "# Assurer que toutes les colonnes sont de type numérique\n",
    "# Convertir les colonnes booléennes en int (True -> 1, False -> 0)\n",
    "train_data_enriched['rebound'] = train_data_enriched['rebound'].astype(int)\n",
    "\n",
    "# Remplir les NaN avec 0 dans toutes les colonnes\n",
    "train_data_enriched = train_data_enriched.fillna(0)\n",
    "\n",
    "# Vérifier les types après conversion\n",
    "print(train_data_enriched.dtypes)\n",
    "\n",
    "# Définir la colonne cible\n",
    "target_column = 'is_goal'\n",
    "\n",
    "# Convertir les features (X) et la cible (y) en tensors\n",
    "X_train = torch.tensor(train_data_enriched.drop(target_column, axis=1).values, dtype=torch.float32)  # Features\n",
    "y_train = torch.tensor(train_data_enriched[target_column].values, dtype=torch.long)  # Target\n",
    "\n",
    "# Créer un TensorDataset avec les données\n",
    "train_dataset = TensorDataset(X_train, y_train)\n",
    "\n",
    "# Créer un DataLoader pour faciliter l'entraînement\n",
    "train_loader = DataLoader(train_dataset, batch_size=32, shuffle=True)\n"
   ]
  },
  {
   "cell_type": "markdown",
   "metadata": {},
   "source": [
    "### Definition du modele"
   ]
  },
  {
   "cell_type": "code",
   "execution_count": 17,
   "metadata": {},
   "outputs": [],
   "source": [
    "import torch.nn as nn\n",
    "import torch.optim as optim\n",
    "\n",
    "class SimpleNN(nn.Module):\n",
    "    def __init__(self, input_size):\n",
    "        super(SimpleNN, self).__init__()\n",
    "        # Définir une architecture simple de réseau de neurones\n",
    "        self.fc1 = nn.Linear(input_size, 128)  # Première couche : entrée -> 128 neurones\n",
    "        self.fc2 = nn.Linear(128, 64)  # Deuxième couche : 128 -> 64 neurones\n",
    "        self.fc3 = nn.Linear(64, 32)  # Troisième couche : 64 -> 32 neurones\n",
    "        self.fc4 = nn.Linear(32, 1)  # Dernière couche : 32 -> 1 neurone (prédiction de is_goal)\n",
    "        self.sigmoid = nn.Sigmoid()  # Activation sigmoïde pour la sortie (probabilité)\n",
    "\n",
    "    def forward(self, x):\n",
    "        x = torch.relu(self.fc1(x))  # Activation ReLU après la première couche\n",
    "        x = torch.relu(self.fc2(x))  # Activation ReLU après la deuxième couche\n",
    "        x = torch.relu(self.fc3(x))  # Activation ReLU après la troisième couche\n",
    "        x = self.sigmoid(self.fc4(x))  # Sortie avec sigmoïde\n",
    "        return x\n",
    "\n",
    "# Initialiser le modèle\n",
    "model = SimpleNN(input_size=X_train.shape[1])\n"
   ]
  },
  {
   "cell_type": "markdown",
   "metadata": {},
   "source": [
    "### Fonction de perte et optimiseur"
   ]
  },
  {
   "cell_type": "code",
   "execution_count": 18,
   "metadata": {},
   "outputs": [],
   "source": [
    "# Fonction de perte (Binary Cross-Entropy avec Logits)\n",
    "criterion = nn.BCEWithLogitsLoss()\n",
    "\n",
    "# Optimiseur (Adam avec un taux d'apprentissage de 0.001)\n",
    "optimizer = optim.Adam(model.parameters(), lr=0.001)\n"
   ]
  },
  {
   "cell_type": "markdown",
   "metadata": {},
   "source": [
    "### Boucle d'entrainement"
   ]
  },
  {
   "cell_type": "code",
   "execution_count": 19,
   "metadata": {},
   "outputs": [
    {
     "name": "stdout",
     "output_type": "stream",
     "text": [
      "Epoch [1/10], Loss: 1.2619, Accuracy: 5.14%\n",
      "Epoch [2/10], Loss: 1.2619, Accuracy: 5.14%\n",
      "Epoch [3/10], Loss: 1.2619, Accuracy: 5.14%\n",
      "Epoch [4/10], Loss: 1.2619, Accuracy: 5.14%\n",
      "Epoch [5/10], Loss: 1.2619, Accuracy: 5.14%\n",
      "Epoch [6/10], Loss: 1.2619, Accuracy: 5.14%\n",
      "Epoch [7/10], Loss: 1.2619, Accuracy: 5.14%\n",
      "Epoch [8/10], Loss: 1.2619, Accuracy: 5.14%\n",
      "Epoch [9/10], Loss: 1.2619, Accuracy: 5.14%\n",
      "Epoch [10/10], Loss: 1.2619, Accuracy: 5.14%\n"
     ]
    }
   ],
   "source": [
    "num_epochs = 10  # Nombre d'époques d'entraînement\n",
    "\n",
    "# Boucle d'entraînement\n",
    "for epoch in range(num_epochs):\n",
    "    model.train()  # Passer le modèle en mode entraînement\n",
    "    running_loss = 0.0\n",
    "    correct = 0\n",
    "    total = 0\n",
    "    \n",
    "    for batch_idx, (inputs, targets) in enumerate(train_loader):\n",
    "        # Initialiser les gradients à 0\n",
    "        optimizer.zero_grad()\n",
    "\n",
    "        # Passer les données dans le modèle\n",
    "        outputs = model(inputs)\n",
    "\n",
    "        # Calcul de la perte\n",
    "        loss = criterion(outputs.squeeze(), targets.float())  # La sortie est une probabilité, donc la convertir en float\n",
    "\n",
    "        # Calcul des gradients\n",
    "        loss.backward()\n",
    "\n",
    "        # Mise à jour des poids\n",
    "        optimizer.step()\n",
    "\n",
    "        # Calcul des statistiques (perte, précision)\n",
    "        running_loss += loss.item()\n",
    "\n",
    "        # Prédiction (comparaison avec 0.5 comme seuil de probabilité)\n",
    "        predicted = (outputs.squeeze() > 0.5).float()\n",
    "        correct += (predicted == targets).sum().item()\n",
    "        total += targets.size(0)\n",
    "\n",
    "    # Calcul de la perte moyenne et de la précision pour l'époque\n",
    "    avg_loss = running_loss / len(train_loader)\n",
    "    accuracy = 100 * correct / total\n",
    "    print(f'Epoch [{epoch+1}/{num_epochs}], Loss: {avg_loss:.4f}, Accuracy: {accuracy:.2f}%')\n"
   ]
  },
  {
   "cell_type": "markdown",
   "metadata": {},
   "source": [
    "### Enrengistrement du modele avec wandb"
   ]
  },
  {
   "cell_type": "code",
   "execution_count": null,
   "metadata": {},
   "outputs": [],
   "source": [
    "import wandb\n",
    "\n",
    "# Initialiser l'entraînement sur wandb\n",
    "wandb.init(project=\"IFT6758.2024-A\", name=\"Winnipeg vs Washington Training\")\n",
    "\n",
    "# Entraînement avec suivi dans wandb\n",
    "for epoch in range(num_epochs):\n",
    "    model.train()\n",
    "    running_loss = 0.0\n",
    "    correct = 0\n",
    "    total = 0\n",
    "\n",
    "    for batch_idx, (inputs, targets) in enumerate(train_loader):\n",
    "        optimizer.zero_grad()\n",
    "        outputs = model(inputs)\n",
    "        loss = criterion(outputs.squeeze(), targets.float())\n",
    "        loss.backward()\n",
    "        optimizer.step()\n",
    "\n",
    "        running_loss += loss.item()\n",
    "\n",
    "        predicted = (outputs.squeeze() > 0.5).float()\n",
    "        correct += (predicted == targets).sum().item()\n",
    "        total += targets.size(0)\n",
    "\n",
    "    avg_loss = running_loss / len(train_loader)\n",
    "    accuracy = 100 * correct / total\n",
    "    print(f'Epoch [{epoch+1}/{num_epochs}], Loss: {avg_loss:.4f}, Accuracy: {accuracy:.2f}%')\n",
    "\n",
    "    # Loguer les métriques sur wandb\n",
    "    wandb.log({\"epoch\": epoch+1, \"loss\": avg_loss, \"accuracy\": accuracy})\n",
    "\n",
    "# Sauvegarder le modèle dans wandb à la fin de l'entraînement\n",
    "wandb.save('model.pth')\n"
   ]
  }
 ],
 "metadata": {
  "kernelspec": {
   "display_name": "Python 3",
   "language": "python",
   "name": "python3"
  },
  "language_info": {
   "codemirror_mode": {
    "name": "ipython",
    "version": 3
   },
   "file_extension": ".py",
   "mimetype": "text/x-python",
   "name": "python",
   "nbconvert_exporter": "python",
   "pygments_lexer": "ipython3",
   "version": "3.10.0"
  }
 },
 "nbformat": 4,
 "nbformat_minor": 2
}
