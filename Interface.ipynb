{
 "cells": [
  {
   "cell_type": "code",
   "execution_count": 3,
   "id": "7a91a59a-f79c-491b-8f61-bbaec3582121",
   "metadata": {},
   "outputs": [],
   "source": [
    "\n",
    "from Modules import widget,step_3, data"
   ]
  },
  {
   "cell_type": "code",
   "execution_count": 5,
   "id": "f627066f",
   "metadata": {},
   "outputs": [],
   "source": [
    "%load_ext autoreload\n",
    "%autoreload 2\n"
   ]
  },
  {
   "cell_type": "markdown",
   "id": "3006c130",
   "metadata": {},
   "source": [
    "1. Acquisition de données (25 %)"
   ]
  },
  {
   "cell_type": "code",
   "execution_count": null,
   "id": "09d27cc6",
   "metadata": {},
   "outputs": [],
   "source": [
    "year_range = [2016, 2024]  \n",
    "data.get_data(year_range)\n"
   ]
  },
  {
   "cell_type": "code",
   "execution_count": null,
   "id": "9619d313",
   "metadata": {},
   "outputs": [],
   "source": [
    "#load all the data\n",
    "year_list = [2016, 2017, 2018] \n",
    "all_data=data.load_data(year_list)"
   ]
  },
  {
   "cell_type": "markdown",
   "id": "165ca301",
   "metadata": {},
   "source": [
    "2. Outil de débogage interactif (10%)"
   ]
  },
  {
   "cell_type": "code",
   "execution_count": null,
   "id": "717e5644-3142-4355-ae4b-5fd71de30cc8",
   "metadata": {},
   "outputs": [],
   "source": [
    "widget.widget([2016,2017])"
   ]
  },
  {
   "cell_type": "markdown",
   "id": "67b831e1",
   "metadata": {},
   "source": [
    "Etape 3:"
   ]
  },
  {
   "cell_type": "code",
   "execution_count": null,
   "id": "280e90c5-97bc-4f80-8d92-3f45bf3057a5",
   "metadata": {},
   "outputs": [],
   "source": [
    "step_3.create_dataframes(year_list, data.load_data(year_list))"
   ]
  },
  {
   "cell_type": "code",
   "execution_count": 14,
   "id": "7f73ba12-90b9-40c1-a15b-8b13cba277ea",
   "metadata": {},
   "outputs": [],
   "source": [
    "years_to_load = [2016, 2017]  \n",
    "dataframes = step_3.load_dataframes(years_to_load)\n"
   ]
  },
  {
   "cell_type": "code",
   "execution_count": null,
   "id": "e91203fb-d25c-4e3e-a452-c847e13b17ee",
   "metadata": {},
   "outputs": [],
   "source": [
    "for year, df in dataframes.items():\n",
    "    print(f'DataFrame pour l\\'année {year}:')\n",
    "    print(df.tail())"
   ]
  }
 ],
 "metadata": {
  "kernelspec": {
   "display_name": ".venv",
   "language": "python",
   "name": "python3"
  },
  "language_info": {
   "codemirror_mode": {
    "name": "ipython",
    "version": 3
   },
   "file_extension": ".py",
   "mimetype": "text/x-python",
   "name": "python",
   "nbconvert_exporter": "python",
   "pygments_lexer": "ipython3",
   "version": "3.10.0"
  }
 },
 "nbformat": 4,
 "nbformat_minor": 5
}
