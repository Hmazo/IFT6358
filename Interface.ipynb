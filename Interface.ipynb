{
 "cells": [
  {
   "cell_type": "code",
   "execution_count": 1,
   "id": "7a91a59a-f79c-491b-8f61-bbaec3582121",
   "metadata": {},
   "outputs": [],
   "source": [
    "\n",
    "from Modules import advanced_visualisation, widget,data_cleaning, data, simple_visualisation\n",
    "import warnings\n",
    "\n",
    "warnings.filterwarnings('ignore')"
   ]
  },
  {
   "cell_type": "code",
   "execution_count": 2,
   "id": "f627066f",
   "metadata": {},
   "outputs": [],
   "source": [
    "%load_ext autoreload\n",
    "%autoreload 2\n"
   ]
  },
  {
   "cell_type": "markdown",
   "id": "3006c130",
   "metadata": {},
   "source": [
    "1. Acquisition de données (25 %)"
   ]
  },
  {
   "cell_type": "code",
   "execution_count": null,
   "id": "09d27cc6",
   "metadata": {},
   "outputs": [],
   "source": [
    "year_range = [2016, 2024]  \n",
    "data.get_data(year_range)\n"
   ]
  },
  {
   "cell_type": "code",
   "execution_count": null,
   "id": "9619d313",
   "metadata": {},
   "outputs": [],
   "source": [
    "\n",
    "year_list = range(2016,2023)\n",
    "all_data=data.load_data(year_list)"
   ]
  },
  {
   "cell_type": "markdown",
   "id": "165ca301",
   "metadata": {},
   "source": [
    "2. Outil de débogage interactif (10%)"
   ]
  },
  {
   "cell_type": "code",
   "execution_count": null,
   "id": "717e5644-3142-4355-ae4b-5fd71de30cc8",
   "metadata": {},
   "outputs": [],
   "source": [
    "widget.widget([2016,2017])"
   ]
  },
  {
   "cell_type": "markdown",
   "id": "67b831e1",
   "metadata": {},
   "source": [
    "3. Nettoyer les donnees (10%)"
   ]
  },
  {
   "cell_type": "markdown",
   "id": "cd3ac99d",
   "metadata": {},
   "source": [
    "On utilise la fonction create_dataframes pour Créer des DataFrames pour les jeux et les sauvegarde en fichiers CSV"
   ]
  },
  {
   "cell_type": "code",
   "execution_count": null,
   "id": "280e90c5-97bc-4f80-8d92-3f45bf3057a5",
   "metadata": {},
   "outputs": [],
   "source": [
    "year_list = range(2016,2017)\n",
    "data_cleaning.create_dataframes(year_list, data.load_data(year_list))"
   ]
  },
  {
   "cell_type": "markdown",
   "id": "8a32c114",
   "metadata": {},
   "source": [
    "Ainsi l'on peut load les dataframes de chaque saison dans une liste"
   ]
  },
  {
   "cell_type": "code",
   "execution_count": 2,
   "id": "7f73ba12-90b9-40c1-a15b-8b13cba277ea",
   "metadata": {},
   "outputs": [],
   "source": [
    "years_to_load = range(2016,2023)\n",
    "dataframes = data_cleaning.load_dataframes(years_to_load)\n",
    "\n",
    "#must execute this cell to run below"
   ]
  },
  {
   "cell_type": "code",
   "execution_count": 4,
   "id": "f6ff261f",
   "metadata": {},
   "outputs": [
    {
     "data": {
      "text/html": [
       "<div>\n",
       "<style scoped>\n",
       "    .dataframe tbody tr th:only-of-type {\n",
       "        vertical-align: middle;\n",
       "    }\n",
       "\n",
       "    .dataframe tbody tr th {\n",
       "        vertical-align: top;\n",
       "    }\n",
       "\n",
       "    .dataframe thead th {\n",
       "        text-align: right;\n",
       "    }\n",
       "</style>\n",
       "<table border=\"1\" class=\"dataframe\">\n",
       "  <thead>\n",
       "    <tr style=\"text-align: right;\">\n",
       "      <th></th>\n",
       "      <th>ID</th>\n",
       "      <th>Sort Order</th>\n",
       "      <th>Time</th>\n",
       "      <th>Period</th>\n",
       "      <th>Event ID</th>\n",
       "      <th>Team</th>\n",
       "      <th>Type</th>\n",
       "      <th>Coordinates</th>\n",
       "      <th>Shooter ID</th>\n",
       "      <th>Goalie ID</th>\n",
       "      <th>Shot Type</th>\n",
       "      <th>Empty Net</th>\n",
       "      <th>Force Type</th>\n",
       "      <th>Home</th>\n",
       "    </tr>\n",
       "  </thead>\n",
       "  <tbody>\n",
       "    <tr>\n",
       "      <th>0</th>\n",
       "      <td>2016020001</td>\n",
       "      <td>16</td>\n",
       "      <td>01:11</td>\n",
       "      <td>1</td>\n",
       "      <td>8</td>\n",
       "      <td>Maple Leafs</td>\n",
       "      <td>shot-on-goal</td>\n",
       "      <td>(-77, 5)</td>\n",
       "      <td>Mitch</td>\n",
       "      <td>Craig</td>\n",
       "      <td>wrist</td>\n",
       "      <td>False</td>\n",
       "      <td>Even Strength</td>\n",
       "      <td>False</td>\n",
       "    </tr>\n",
       "    <tr>\n",
       "      <th>1</th>\n",
       "      <td>2016020001</td>\n",
       "      <td>38</td>\n",
       "      <td>02:53</td>\n",
       "      <td>1</td>\n",
       "      <td>11</td>\n",
       "      <td>Senators</td>\n",
       "      <td>shot-on-goal</td>\n",
       "      <td>(86, 13)</td>\n",
       "      <td>Chris</td>\n",
       "      <td>Frederik</td>\n",
       "      <td>wrist</td>\n",
       "      <td>False</td>\n",
       "      <td>Even Strength</td>\n",
       "      <td>True</td>\n",
       "    </tr>\n",
       "    <tr>\n",
       "      <th>2</th>\n",
       "      <td>2016020001</td>\n",
       "      <td>53</td>\n",
       "      <td>04:01</td>\n",
       "      <td>1</td>\n",
       "      <td>15</td>\n",
       "      <td>Senators</td>\n",
       "      <td>shot-on-goal</td>\n",
       "      <td>(23, -38)</td>\n",
       "      <td>Cody</td>\n",
       "      <td>Frederik</td>\n",
       "      <td>wrist</td>\n",
       "      <td>False</td>\n",
       "      <td>Even Strength</td>\n",
       "      <td>True</td>\n",
       "    </tr>\n",
       "    <tr>\n",
       "      <th>3</th>\n",
       "      <td>2016020001</td>\n",
       "      <td>60</td>\n",
       "      <td>04:46</td>\n",
       "      <td>1</td>\n",
       "      <td>16</td>\n",
       "      <td>Senators</td>\n",
       "      <td>shot-on-goal</td>\n",
       "      <td>(33, -15)</td>\n",
       "      <td>Erik</td>\n",
       "      <td>Frederik</td>\n",
       "      <td>slap</td>\n",
       "      <td>False</td>\n",
       "      <td>Even Strength</td>\n",
       "      <td>True</td>\n",
       "    </tr>\n",
       "    <tr>\n",
       "      <th>4</th>\n",
       "      <td>2016020001</td>\n",
       "      <td>86</td>\n",
       "      <td>06:46</td>\n",
       "      <td>1</td>\n",
       "      <td>24</td>\n",
       "      <td>Maple Leafs</td>\n",
       "      <td>shot-on-goal</td>\n",
       "      <td>(-34, 28)</td>\n",
       "      <td>Martin</td>\n",
       "      <td>Craig</td>\n",
       "      <td>wrist</td>\n",
       "      <td>False</td>\n",
       "      <td>Even Strength</td>\n",
       "      <td>False</td>\n",
       "    </tr>\n",
       "    <tr>\n",
       "      <th>5</th>\n",
       "      <td>2016020001</td>\n",
       "      <td>92</td>\n",
       "      <td>07:30</td>\n",
       "      <td>1</td>\n",
       "      <td>25</td>\n",
       "      <td>Maple Leafs</td>\n",
       "      <td>shot-on-goal</td>\n",
       "      <td>(-33, -17)</td>\n",
       "      <td>Mitch</td>\n",
       "      <td>Craig</td>\n",
       "      <td>wrist</td>\n",
       "      <td>False</td>\n",
       "      <td>Even Strength</td>\n",
       "      <td>False</td>\n",
       "    </tr>\n",
       "    <tr>\n",
       "      <th>6</th>\n",
       "      <td>2016020001</td>\n",
       "      <td>98</td>\n",
       "      <td>08:21</td>\n",
       "      <td>1</td>\n",
       "      <td>27</td>\n",
       "      <td>Maple Leafs</td>\n",
       "      <td>goal</td>\n",
       "      <td>(-70, 1)</td>\n",
       "      <td>Auston</td>\n",
       "      <td>Craig</td>\n",
       "      <td>wrist</td>\n",
       "      <td>False</td>\n",
       "      <td>Even Strength</td>\n",
       "      <td>False</td>\n",
       "    </tr>\n",
       "    <tr>\n",
       "      <th>7</th>\n",
       "      <td>2016020001</td>\n",
       "      <td>103</td>\n",
       "      <td>08:29</td>\n",
       "      <td>1</td>\n",
       "      <td>29</td>\n",
       "      <td>Maple Leafs</td>\n",
       "      <td>shot-on-goal</td>\n",
       "      <td>(-45, -36)</td>\n",
       "      <td>Matt</td>\n",
       "      <td>Craig</td>\n",
       "      <td>wrist</td>\n",
       "      <td>False</td>\n",
       "      <td>Even Strength</td>\n",
       "      <td>False</td>\n",
       "    </tr>\n",
       "    <tr>\n",
       "      <th>8</th>\n",
       "      <td>2016020001</td>\n",
       "      <td>108</td>\n",
       "      <td>09:00</td>\n",
       "      <td>1</td>\n",
       "      <td>31</td>\n",
       "      <td>Senators</td>\n",
       "      <td>shot-on-goal</td>\n",
       "      <td>(33, -18)</td>\n",
       "      <td>Erik</td>\n",
       "      <td>Frederik</td>\n",
       "      <td>slap</td>\n",
       "      <td>False</td>\n",
       "      <td>Even Strength</td>\n",
       "      <td>True</td>\n",
       "    </tr>\n",
       "    <tr>\n",
       "      <th>9</th>\n",
       "      <td>2016020001</td>\n",
       "      <td>129</td>\n",
       "      <td>10:16</td>\n",
       "      <td>1</td>\n",
       "      <td>36</td>\n",
       "      <td>Senators</td>\n",
       "      <td>shot-on-goal</td>\n",
       "      <td>(34, 20)</td>\n",
       "      <td>Erik</td>\n",
       "      <td>Frederik</td>\n",
       "      <td>wrist</td>\n",
       "      <td>False</td>\n",
       "      <td>Even Strength</td>\n",
       "      <td>True</td>\n",
       "    </tr>\n",
       "  </tbody>\n",
       "</table>\n",
       "</div>"
      ],
      "text/plain": [
       "           ID  Sort Order   Time  Period  Event ID         Team          Type  \\\n",
       "0  2016020001          16  01:11       1         8  Maple Leafs  shot-on-goal   \n",
       "1  2016020001          38  02:53       1        11     Senators  shot-on-goal   \n",
       "2  2016020001          53  04:01       1        15     Senators  shot-on-goal   \n",
       "3  2016020001          60  04:46       1        16     Senators  shot-on-goal   \n",
       "4  2016020001          86  06:46       1        24  Maple Leafs  shot-on-goal   \n",
       "5  2016020001          92  07:30       1        25  Maple Leafs  shot-on-goal   \n",
       "6  2016020001          98  08:21       1        27  Maple Leafs          goal   \n",
       "7  2016020001         103  08:29       1        29  Maple Leafs  shot-on-goal   \n",
       "8  2016020001         108  09:00       1        31     Senators  shot-on-goal   \n",
       "9  2016020001         129  10:16       1        36     Senators  shot-on-goal   \n",
       "\n",
       "  Coordinates Shooter ID Goalie ID Shot Type  Empty Net     Force Type   Home  \n",
       "0    (-77, 5)      Mitch     Craig     wrist      False  Even Strength  False  \n",
       "1    (86, 13)      Chris  Frederik     wrist      False  Even Strength   True  \n",
       "2   (23, -38)       Cody  Frederik     wrist      False  Even Strength   True  \n",
       "3   (33, -15)       Erik  Frederik      slap      False  Even Strength   True  \n",
       "4   (-34, 28)     Martin     Craig     wrist      False  Even Strength  False  \n",
       "5  (-33, -17)      Mitch     Craig     wrist      False  Even Strength  False  \n",
       "6    (-70, 1)     Auston     Craig     wrist      False  Even Strength  False  \n",
       "7  (-45, -36)       Matt     Craig     wrist      False  Even Strength  False  \n",
       "8   (33, -18)       Erik  Frederik      slap      False  Even Strength   True  \n",
       "9    (34, 20)       Erik  Frederik     wrist      False  Even Strength   True  "
      ]
     },
     "execution_count": 4,
     "metadata": {},
     "output_type": "execute_result"
    }
   ],
   "source": [
    "dataframes[2016].head(10)"
   ]
  },
  {
   "cell_type": "markdown",
   "id": "9504c0cd",
   "metadata": {},
   "source": [
    "4. Visualisations Simples (25%)"
   ]
  },
  {
   "cell_type": "markdown",
   "id": "1f219cd3",
   "metadata": {},
   "source": [
    "Graphique comparant les types de tirs de toutes les équipes dans une saison (Saison 2020-2021 par exemple)"
   ]
  },
  {
   "cell_type": "code",
   "execution_count": null,
   "id": "6dc05d20",
   "metadata": {},
   "outputs": [],
   "source": [
    "simple_visualisation.shotsComparaison(dataframes, 2020)"
   ]
  },
  {
   "cell_type": "markdown",
   "id": "7b79d7fc",
   "metadata": {},
   "source": [
    "Pour chaque saison entre 2018-19 et 2020-21, un graphique montrant la relation entre la distance à laquelle un tir a été effectué et la chance qu'il s'agisse d'un but et un autre utilise un graphique en ligne pour montrer la tendance de la probabilité de but en fonction des distances regroupées, offrant une vue plus lissée de l'évolution de la probabilité en fonction de la distance."
   ]
  },
  {
   "cell_type": "code",
   "execution_count": null,
   "id": "ecbc4a5c",
   "metadata": {},
   "outputs": [],
   "source": [
    "#Saison 2018\n",
    "simple_visualisation.distancegoal_relationship(dataframes, 2018)\n",
    "simple_visualisation.distancegoal_relationship_binned(dataframes, 2018)\n",
    "\n",
    "#Saison 2019\n",
    "simple_visualisation.distancegoal_relationship(dataframes, 2019)\n",
    "simple_visualisation.distancegoal_relationship_binned(dataframes, 2019)\n",
    "\n",
    "#Saison 2020\n",
    "simple_visualisation.distancegoal_relationship(dataframes, 2020)\n",
    "simple_visualisation.distancegoal_relationship_binned(dataframes, 2020)"
   ]
  },
  {
   "cell_type": "markdown",
   "id": "05f77bf8",
   "metadata": {},
   "source": [
    "Graphique qui montre le pourcentage de buts en fonction à la fois de la distance par rapport au filet et de la catégorie de types de tirs. Visualise la relation entre la distance du tir, le type de tir, et la probabilité de but en créant une heatmap."
   ]
  },
  {
   "cell_type": "code",
   "execution_count": null,
   "id": "5eef69ba",
   "metadata": {},
   "outputs": [],
   "source": [
    "simple_visualisation.distance_goalpercentage(dataframes, 2018)"
   ]
  },
  {
   "cell_type": "markdown",
   "id": "d09c30ec",
   "metadata": {},
   "source": [
    "5. Visualisations avancées:(30 %)\n"
   ]
  },
  {
   "cell_type": "code",
   "execution_count": 3,
   "id": "9ef5b727",
   "metadata": {},
   "outputs": [
    {
     "data": {
      "application/vnd.jupyter.widget-view+json": {
       "model_id": "43a8a3e053594048885f3c2e4c1b9a67",
       "version_major": 2,
       "version_minor": 0
      },
      "text/plain": [
       "interactive(children=(Dropdown(description='Select Year', options=(2016,), value=2016), Output()), _dom_classe…"
      ]
     },
     "metadata": {},
     "output_type": "display_data"
    }
   ],
   "source": [
    "advanced_visualisation.widget(dataframes)"
   ]
  }
 ],
 "metadata": {
  "kernelspec": {
   "display_name": "Python 3 (ipykernel)",
   "language": "python",
   "name": "python3"
  },
  "language_info": {
   "codemirror_mode": {
    "name": "ipython",
    "version": 3
   },
   "file_extension": ".py",
   "mimetype": "text/x-python",
   "name": "python",
   "nbconvert_exporter": "python",
   "pygments_lexer": "ipython3",
   "version": "3.10.0"
  }
 },
 "nbformat": 4,
 "nbformat_minor": 5
}
