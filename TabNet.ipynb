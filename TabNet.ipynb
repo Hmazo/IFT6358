{
 "cells": [
  {
   "cell_type": "code",
   "execution_count": 1,
   "metadata": {},
   "outputs": [],
   "source": [
    "import pandas as pd\n",
    "import numpy as np\n",
    "from sklearn.model_selection import train_test_split\n",
    "from pytorch_tabnet.tab_model import TabNetClassifier\n",
    "from sklearn.metrics import roc_curve, auc, classification_report\n",
    "import matplotlib.pyplot as plt\n",
    "import wandb\n",
    "from sklearn.preprocessing import MinMaxScaler\n",
    "import torch\n",
    "from Modules import plots"
   ]
  },
  {
   "cell_type": "code",
   "execution_count": 2,
   "metadata": {},
   "outputs": [],
   "source": [
    "file_path = \"dataframe/train_data_enriched.csv\"  \n",
    "df = pd.read_csv(file_path)\n",
    "\n",
    "# Identify numerical and categorical features\n",
    "numerical_features = ['game_seconds', 'game_period', 'x_coord', 'y_coord', \n",
    "                      'shot_distance', 'shot_angle', 'distance_from_last_event', \n",
    "                      'friendly_skaters', 'opposing_skaters', 'shot_angle_change', 'speed']\n",
    "categorical_features = [\n",
    "    'shot_type', 'empty_net', 'last_event_type', 'rebound', \n",
    "    'attacking_team_name', 'home_team'\n",
    "]\n",
    "\n",
    "# Handle missing values\n",
    "df[numerical_features] = df[numerical_features].fillna(df[numerical_features].median())\n",
    "df[categorical_features] = df[categorical_features].fillna('unknown')\n",
    "\n",
    "# Encode categorical features using One-Hot Encoding\n",
    "df_encoded = pd.get_dummies(df[categorical_features], drop_first=True)\n",
    "\n",
    "# Combine numerical and encoded categorical features\n",
    "X = pd.concat([df[numerical_features], df_encoded], axis=1)\n",
    "y = df['is_goal']\n",
    "\n",
    "# Ensure target variable has no missing values\n",
    "y = y.fillna(0)\n",
    "\n",
    "# Split data into training, validation, and test sets\n",
    "X_train, X_temp, y_train, y_temp = train_test_split(X, y, test_size=0.3, random_state=42)\n",
    "X_val, X_test, y_val, y_test = train_test_split(X_temp, y_temp, test_size=0.5, random_state=42)\n",
    "\n",
    "scaler = MinMaxScaler()\n",
    "X_train = scaler.fit_transform(X_train)\n",
    "X_val= scaler.transform(X_val)\n",
    "X_test = scaler.transform(X_test)\n",
    "# Convert data to NumPy arrays for TabNet\n",
    "\n",
    "y_train_np = y_train.values\n",
    "y_val_np = y_val.values\n",
    "y_test_np = y_test.values\n"
   ]
  },
  {
   "cell_type": "code",
   "execution_count": 3,
   "metadata": {},
   "outputs": [
    {
     "name": "stderr",
     "output_type": "stream",
     "text": [
      "wandb: Using wandb-core as the SDK backend.  Please refer to https://wandb.me/wandb-core for more information.\n",
      "wandb: Currently logged in as: hicham-mazouzi (hicham-mazouzi-university-of-montreal). Use `wandb login --relogin` to force relogin\n"
     ]
    },
    {
     "data": {
      "text/html": [
       "Tracking run with wandb version 0.18.7"
      ],
      "text/plain": [
       "<IPython.core.display.HTML object>"
      ]
     },
     "metadata": {},
     "output_type": "display_data"
    },
    {
     "data": {
      "text/html": [
       "Run data is saved locally in <code>c:\\Users\\hicha\\OneDrive\\Bureau\\IFT6358\\wandb\\run-20241122_172750-wggkliw9</code>"
      ],
      "text/plain": [
       "<IPython.core.display.HTML object>"
      ]
     },
     "metadata": {},
     "output_type": "display_data"
    },
    {
     "data": {
      "text/html": [
       "Syncing run <strong><a href='https://wandb.ai/hicham-mazouzi-university-of-montreal/IFT6758.2024-A/runs/wggkliw9' target=\"_blank\">TabNet Question 6</a></strong> to <a href='https://wandb.ai/hicham-mazouzi-university-of-montreal/IFT6758.2024-A' target=\"_blank\">Weights & Biases</a> (<a href='https://wandb.me/developer-guide' target=\"_blank\">docs</a>)<br/>"
      ],
      "text/plain": [
       "<IPython.core.display.HTML object>"
      ]
     },
     "metadata": {},
     "output_type": "display_data"
    },
    {
     "data": {
      "text/html": [
       " View project at <a href='https://wandb.ai/hicham-mazouzi-university-of-montreal/IFT6758.2024-A' target=\"_blank\">https://wandb.ai/hicham-mazouzi-university-of-montreal/IFT6758.2024-A</a>"
      ],
      "text/plain": [
       "<IPython.core.display.HTML object>"
      ]
     },
     "metadata": {},
     "output_type": "display_data"
    },
    {
     "data": {
      "text/html": [
       " View run at <a href='https://wandb.ai/hicham-mazouzi-university-of-montreal/IFT6758.2024-A/runs/wggkliw9' target=\"_blank\">https://wandb.ai/hicham-mazouzi-university-of-montreal/IFT6758.2024-A/runs/wggkliw9</a>"
      ],
      "text/plain": [
       "<IPython.core.display.HTML object>"
      ]
     },
     "metadata": {},
     "output_type": "display_data"
    },
    {
     "data": {
      "text/html": [
       "<button onClick=\"this.nextSibling.style.display='block';this.style.display='none';\">Display W&B run</button><iframe src='https://wandb.ai/hicham-mazouzi-university-of-montreal/IFT6758.2024-A/runs/wggkliw9?jupyter=true' style='border:none;width:100%;height:420px;display:none;'></iframe>"
      ],
      "text/plain": [
       "<wandb.sdk.wandb_run.Run at 0x26a977d2a70>"
      ]
     },
     "execution_count": 3,
     "metadata": {},
     "output_type": "execute_result"
    }
   ],
   "source": [
    "wandb.init(\n",
    "    project=\"IFT6758.2024-A\",\n",
    "    name=\"TabNet Question 6\",\n",
    "    notes=\"Modele tabnet pour la question 6\"\n",
    ")\n"
   ]
  },
  {
   "cell_type": "code",
   "execution_count": 5,
   "metadata": {},
   "outputs": [
    {
     "name": "stderr",
     "output_type": "stream",
     "text": [
      "c:\\Users\\hicha\\AppData\\Local\\Programs\\Python\\Python310\\lib\\site-packages\\pytorch_tabnet\\abstract_model.py:82: UserWarning: Device used : cpu\n",
      "  warnings.warn(f\"Device used : {self.device}\")\n"
     ]
    },
    {
     "name": "stdout",
     "output_type": "stream",
     "text": [
      "epoch 0  | loss: 0.17642 | validation_auc: 0.8156  | validation_accuracy: 0.95014 | validation_logloss: 0.16577 |  0:01:08s\n",
      "epoch 1  | loss: 0.16737 | validation_auc: 0.82583 | validation_accuracy: 0.9503  | validation_logloss: 0.16377 |  0:02:16s\n",
      "epoch 2  | loss: 0.1658  | validation_auc: 0.82686 | validation_accuracy: 0.95008 | validation_logloss: 0.16263 |  0:03:25s\n",
      "epoch 3  | loss: 0.16513 | validation_auc: 0.82706 | validation_accuracy: 0.95032 | validation_logloss: 0.16228 |  0:04:35s\n",
      "epoch 4  | loss: 0.16471 | validation_auc: 0.82809 | validation_accuracy: 0.95026 | validation_logloss: 0.16212 |  0:05:59s\n",
      "epoch 5  | loss: 0.16436 | validation_auc: 0.82936 | validation_accuracy: 0.95022 | validation_logloss: 0.16273 |  0:07:23s\n",
      "epoch 6  | loss: 0.16447 | validation_auc: 0.82977 | validation_accuracy: 0.95023 | validation_logloss: 0.16248 |  0:08:47s\n",
      "epoch 7  | loss: 0.16383 | validation_auc: 0.82726 | validation_accuracy: 0.95021 | validation_logloss: 0.16617 |  0:10:07s\n",
      "epoch 8  | loss: 0.16376 | validation_auc: 0.82858 | validation_accuracy: 0.95027 | validation_logloss: 0.16247 |  0:11:32s\n",
      "epoch 9  | loss: 0.16383 | validation_auc: 0.83118 | validation_accuracy: 0.95001 | validation_logloss: 0.16134 |  0:12:47s\n",
      "epoch 10 | loss: 0.1628  | validation_auc: 0.83243 | validation_accuracy: 0.94929 | validation_logloss: 0.16146 |  0:13:58s\n",
      "epoch 11 | loss: 0.16295 | validation_auc: 0.83283 | validation_accuracy: 0.95009 | validation_logloss: 0.16869 |  0:15:09s\n",
      "epoch 12 | loss: 0.1624  | validation_auc: 0.83227 | validation_accuracy: 0.94968 | validation_logloss: 0.16111 |  0:16:21s\n",
      "epoch 13 | loss: 0.16241 | validation_auc: 0.83379 | validation_accuracy: 0.94973 | validation_logloss: 0.1604  |  0:17:33s\n",
      "epoch 14 | loss: 0.16207 | validation_auc: 0.83333 | validation_accuracy: 0.94978 | validation_logloss: 0.16154 |  0:18:44s\n",
      "epoch 15 | loss: 0.1621  | validation_auc: 0.83011 | validation_accuracy: 0.94929 | validation_logloss: 0.16334 |  0:19:55s\n",
      "epoch 16 | loss: 0.16214 | validation_auc: 0.83181 | validation_accuracy: 0.9503  | validation_logloss: 0.16489 |  0:21:07s\n",
      "epoch 17 | loss: 0.16131 | validation_auc: 0.83306 | validation_accuracy: 0.95031 | validation_logloss: 0.16071 |  0:22:19s\n",
      "epoch 18 | loss: 0.1614  | validation_auc: 0.83327 | validation_accuracy: 0.95032 | validation_logloss: 0.16092 |  0:23:32s\n",
      "\n",
      "Early stopping occurred at epoch 18 with best_epoch = 13 and best_validation_logloss = 0.1604\n"
     ]
    },
    {
     "name": "stderr",
     "output_type": "stream",
     "text": [
      "c:\\Users\\hicha\\AppData\\Local\\Programs\\Python\\Python310\\lib\\site-packages\\pytorch_tabnet\\callbacks.py:172: UserWarning: Best weights from best epoch are automatically used!\n",
      "  warnings.warn(wrn_msg)\n"
     ]
    }
   ],
   "source": [
    "# Define and train the TabNet classifier\n",
    "tabnet_clf = TabNetClassifier(\n",
    "    optimizer_params=dict(lr=2e-2),\n",
    "    scheduler_params={\"step_size\":10, \"gamma\":0.9},\n",
    "    scheduler_fn=torch.optim.lr_scheduler.StepLR,\n",
    "    mask_type=\"sparsemax\"  # \"entmax\" can also be used\n",
    ")\n",
    "\n",
    "tabnet_clf.fit(\n",
    "    X_train=X_train, y_train=y_train_np,\n",
    "    eval_set=[(X_val, y_val_np)],\n",
    "    eval_name=[\"validation\"],\n",
    "    eval_metric=[\"auc\", \"accuracy\", \"logloss\"],  # Add multiple metrics here\n",
    "    max_epochs=50,\n",
    "    patience=5,\n",
    "    batch_size=256,\n",
    "    virtual_batch_size=128,\n",
    "    num_workers=0,\n",
    "    drop_last=False,\n",
    ")\n",
    "\n",
    "\n"
   ]
  },
  {
   "cell_type": "code",
   "execution_count": 9,
   "metadata": {},
   "outputs": [],
   "source": [
    "# Log metrics to Wandb dynamically\n",
    "for epoch in range(len(tabnet_clf.history['loss'])):\n",
    "    wandb.log({\n",
    "        \"epoch\": epoch + 1,  # Epoch index starts at 1\n",
    "        \"train_loss\": tabnet_clf.history['loss'][epoch],\n",
    "        \"learning_rate\": tabnet_clf.history['lr'][epoch],\n",
    "        \"validation_auc\": tabnet_clf.history['validation_auc'][epoch],\n",
    "        \"validation_accuracy\": tabnet_clf.history['validation_accuracy'][epoch],\n",
    "        \"validation_logloss\": tabnet_clf.history['validation_logloss'][epoch],\n",
    "    })\n",
    "\n",
    "\n",
    "# Log the best validation AUC for reference\n",
    "wandb.log({\"best_validation_auc\": tabnet_clf.best_cost})"
   ]
  },
  {
   "cell_type": "code",
   "execution_count": 10,
   "metadata": {},
   "outputs": [],
   "source": [
    "# Generate predictions\n",
    "y_pred_proba = tabnet_clf.predict_proba(X_test)[:, 1]\n",
    "\n",
    "# Compute ROC data\n",
    "roc_data_tabnet = plots.generate_roc_auc_data(y_test, y_pred_proba)\n",
    "\n",
    "# Generate data for other plots\n",
    "goal_rate_x, goal_rate_y = plots.generate_goal_rate_data(y_test, y_pred_proba)\n",
    "cumulative_x, cumulative_y = plots.generate_cumulative_goal_data(y_test, y_pred_proba)\n",
    "calibration_prob_pred, calibration_prob_true = plots.generate_calibration_data(y_test, y_pred_proba)\n"
   ]
  },
  {
   "cell_type": "code",
   "execution_count": 11,
   "metadata": {},
   "outputs": [
    {
     "data": {
      "text/plain": [
       "<Figure size 1200x800 with 0 Axes>"
      ]
     },
     "metadata": {},
     "output_type": "display_data"
    }
   ],
   "source": [
    "# Plot ROC/AUC\n",
    "plots.plot_roc_auc([roc_data_tabnet], ['XGBoost '],\"roc_tabnet.png\")\n",
    "\n",
    "# Plot Goal Rate vs Percentile\n",
    "plots.plot_goal_rate([(goal_rate_x, goal_rate_y)], ['XGBoost'],\"goal_rate_tabnet.png\")\n",
    "\n",
    "# Plot Cumulative Goals vs Percentile\n",
    "plots.plot_cumulative_goals([(cumulative_x, cumulative_y)], ['XGBoost'],\"cumulative_goals_tabnet.png\")\n",
    "\n",
    "# Plot Calibration Curve\n",
    "plots.plot_calibration([y_val], [y_pred_proba], ['XGBoost'],\"calibration_tabnet.png\")"
   ]
  },
  {
   "cell_type": "code",
   "execution_count": null,
   "metadata": {},
   "outputs": [
    {
     "name": "stdout",
     "output_type": "stream",
     "text": [
      "Successfully saved model at Models/tabnet.zip\n"
     ]
    },
    {
     "data": {
      "application/vnd.jupyter.widget-view+json": {
       "model_id": "a7fd2c40303c41c687d525b050c5add2",
       "version_major": 2,
       "version_minor": 0
      },
      "text/plain": [
       "VBox(children=(Label(value='0.253 MB of 0.253 MB uploaded\\r'), FloatProgress(value=1.0, max=1.0)))"
      ]
     },
     "metadata": {},
     "output_type": "display_data"
    },
    {
     "data": {
      "text/html": [
       "\n",
       "    <style>\n",
       "        .wandb-row {\n",
       "            display: flex;\n",
       "            flex-direction: row;\n",
       "            flex-wrap: wrap;\n",
       "            justify-content: flex-start;\n",
       "            width: 100%;\n",
       "        }\n",
       "        .wandb-col {\n",
       "            display: flex;\n",
       "            flex-direction: column;\n",
       "            flex-basis: 100%;\n",
       "            flex: 1;\n",
       "            padding: 10px;\n",
       "        }\n",
       "    </style>\n",
       "<div class=\"wandb-row\"><div class=\"wandb-col\"><h3>Run history:</h3><br/><table class=\"wandb\"><tr><td>best_validation_auc</td><td>▁</td></tr><tr><td>epoch</td><td>▁▁▂▂▃▃▃▄▄▅▅▅▆▆▆▇▇██</td></tr><tr><td>learning_rate</td><td>██████████▁▁▁▁▁▁▁▁▁</td></tr><tr><td>train_loss</td><td>█▄▃▃▃▂▂▂▂▂▂▂▂▂▁▁▁▁▁</td></tr><tr><td>validation_accuracy</td><td>▇█▆██▇▇▇█▆▁▆▄▄▄▁███</td></tr><tr><td>validation_auc</td><td>▁▅▅▅▆▆▆▅▆▇▇█▇██▇▇██</td></tr><tr><td>validation_logloss</td><td>▆▄▃▃▂▃▃▆▃▂▂█▂▁▂▃▅▁▁</td></tr></table><br/></div><div class=\"wandb-col\"><h3>Run summary:</h3><br/><table class=\"wandb\"><tr><td>best_validation_auc</td><td>0.1604</td></tr><tr><td>epoch</td><td>19</td></tr><tr><td>learning_rate</td><td>0.018</td></tr><tr><td>train_loss</td><td>0.1614</td></tr><tr><td>validation_accuracy</td><td>0.95032</td></tr><tr><td>validation_auc</td><td>0.83327</td></tr><tr><td>validation_logloss</td><td>0.16092</td></tr></table><br/></div></div>"
      ],
      "text/plain": [
       "<IPython.core.display.HTML object>"
      ]
     },
     "metadata": {},
     "output_type": "display_data"
    },
    {
     "data": {
      "text/html": [
       " View run <strong style=\"color:#cdcd00\">TabNet Question 6</strong> at: <a href='https://wandb.ai/hicham-mazouzi-university-of-montreal/IFT6758.2024-A/runs/wggkliw9' target=\"_blank\">https://wandb.ai/hicham-mazouzi-university-of-montreal/IFT6758.2024-A/runs/wggkliw9</a><br/> View project at: <a href='https://wandb.ai/hicham-mazouzi-university-of-montreal/IFT6758.2024-A' target=\"_blank\">https://wandb.ai/hicham-mazouzi-university-of-montreal/IFT6758.2024-A</a><br/>Synced 4 W&B file(s), 0 media file(s), 5 artifact file(s) and 4 other file(s)"
      ],
      "text/plain": [
       "<IPython.core.display.HTML object>"
      ]
     },
     "metadata": {},
     "output_type": "display_data"
    },
    {
     "data": {
      "text/html": [
       "Find logs at: <code>.\\wandb\\run-20241122_172750-wggkliw9\\logs</code>"
      ],
      "text/plain": [
       "<IPython.core.display.HTML object>"
      ]
     },
     "metadata": {},
     "output_type": "display_data"
    }
   ],
   "source": [
    "\n",
    "# Log the image to W&B\n",
    "wandb.log({\"roc_curve\": wandb.Image(\"roc_tabnet.png\", caption=\"ROC Curve for Tabnet\")})\n",
    "wandb.log({\"goal_rate\": wandb.Image(\"goal_rate_tabnet.png\", caption=\"Goal Rate Curve for Tabnet\")})\n",
    "wandb.log({\"cumulative_goals\": wandb.Image(\"cumulative_goals_tabnet.png\", caption=\"Cumulative Goald Curve for Tabnet\")})\n",
    "wandb.log({\"calibration\": wandb.Image(\"calibration_tabnet.png\", caption=\"Calibration Curve for Tabnet\")})\n",
    "\n",
    "tabnet_clf.save_model(\"Models/tabnet\")  # Saves as Models/tabnet.zip\n",
    "best_model_path = \"Models/tabnet.zip\"\n",
    "\n",
    "# Log the model as a Wandb artifact\n",
    "artifact = wandb.Artifact(\n",
    "    name=\"TabNet_Q6\",\n",
    "    type=\"model\",\n",
    "    description=\" TabNet model \"\n",
    ")\n",
    "artifact.add_file(best_model_path)\n",
    "wandb.log_artifact(artifact)\n",
    "\n",
    "# Finish the Wandb run\n",
    "wandb.finish()\n"
   ]
  }
 ],
 "metadata": {
  "kernelspec": {
   "display_name": "Python 3",
   "language": "python",
   "name": "python3"
  },
  "language_info": {
   "codemirror_mode": {
    "name": "ipython",
    "version": 3
   },
   "file_extension": ".py",
   "mimetype": "text/x-python",
   "name": "python",
   "nbconvert_exporter": "python",
   "pygments_lexer": "ipython3",
   "version": "3.10.0"
  }
 },
 "nbformat": 4,
 "nbformat_minor": 2
}
