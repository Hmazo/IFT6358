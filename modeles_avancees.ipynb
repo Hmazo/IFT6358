{
 "cells": [
  {
   "cell_type": "code",
   "execution_count": 27,
   "metadata": {},
   "outputs": [],
   "source": [
    "from xgboost import XGBClassifier\n",
    "import pandas as pd\n",
    "import numpy as np\n",
    "from sklearn.model_selection import train_test_split, GridSearchCV\n",
    "import matplotlib.pyplot as plt\n",
    "import seaborn as sns\n",
    "from sklearn.metrics import roc_curve, auc\n",
    "from sklearn.calibration import calibration_curve, CalibrationDisplay\n",
    "from sklearn.feature_selection import SelectKBest, f_classif, RFE\n",
    "import shap\n",
    "from Modules import plots\n",
    "from sklearn.metrics import accuracy_score, precision_score, recall_score\n",
    "import wandb\n",
    "\n",
    "import warnings\n",
    "warnings.filterwarnings(\"ignore\")\n"
   ]
  },
  {
   "cell_type": "code",
   "execution_count": 2,
   "metadata": {},
   "outputs": [],
   "source": [
    "file_path = \"dataframe/train_data_enriched.csv\"  \n",
    "df = pd.read_csv(file_path)"
   ]
  },
  {
   "cell_type": "code",
   "execution_count": null,
   "metadata": {},
   "outputs": [],
   "source": [
    "\n",
    "df = df.dropna()\n",
    "\n",
    "\n",
    "colonnes_utiles = [\n",
    "    'shot_distance', 'shot_angle', 'is_goal', \n",
    "]\n",
    "df1 = df[colonnes_utiles]\n"
   ]
  },
  {
   "cell_type": "code",
   "execution_count": 5,
   "metadata": {},
   "outputs": [
    {
     "name": "stdout",
     "output_type": "stream",
     "text": [
      "Train set: (351956, 2), Validation set: (87989, 2)\n"
     ]
    }
   ],
   "source": [
    "\n",
    "X = df1.drop('is_goal', axis=1)  \n",
    "y = df1['is_goal']              \n",
    "\n",
    "# Diviser les données\n",
    "X_train, X_val, y_train, y_val = train_test_split(X, y, test_size=0.2, random_state=42)\n",
    "\n",
    "# Vérifiez les dimensions\n",
    "print(f\"Train set: {X_train.shape}, Validation set: {X_val.shape}\")\n"
   ]
  },
  {
   "cell_type": "code",
   "execution_count": 6,
   "metadata": {},
   "outputs": [
    {
     "name": "stderr",
     "output_type": "stream",
     "text": [
      "c:\\Users\\hicha\\AppData\\Local\\Programs\\Python\\Python310\\lib\\site-packages\\xgboost\\core.py:158: UserWarning: [16:06:50] WARNING: C:\\buildkite-agent\\builds\\buildkite-windows-cpu-autoscaling-group-i-0ed59c031377d09b8-1\\xgboost\\xgboost-ci-windows\\src\\learner.cc:740: \n",
      "Parameters: { \"use_label_encoder\" } are not used.\n",
      "\n",
      "  warnings.warn(smsg, UserWarning)\n"
     ]
    },
    {
     "data": {
      "text/html": [
       "<style>#sk-container-id-1 {\n",
       "  /* Definition of color scheme common for light and dark mode */\n",
       "  --sklearn-color-text: black;\n",
       "  --sklearn-color-line: gray;\n",
       "  /* Definition of color scheme for unfitted estimators */\n",
       "  --sklearn-color-unfitted-level-0: #fff5e6;\n",
       "  --sklearn-color-unfitted-level-1: #f6e4d2;\n",
       "  --sklearn-color-unfitted-level-2: #ffe0b3;\n",
       "  --sklearn-color-unfitted-level-3: chocolate;\n",
       "  /* Definition of color scheme for fitted estimators */\n",
       "  --sklearn-color-fitted-level-0: #f0f8ff;\n",
       "  --sklearn-color-fitted-level-1: #d4ebff;\n",
       "  --sklearn-color-fitted-level-2: #b3dbfd;\n",
       "  --sklearn-color-fitted-level-3: cornflowerblue;\n",
       "\n",
       "  /* Specific color for light theme */\n",
       "  --sklearn-color-text-on-default-background: var(--sg-text-color, var(--theme-code-foreground, var(--jp-content-font-color1, black)));\n",
       "  --sklearn-color-background: var(--sg-background-color, var(--theme-background, var(--jp-layout-color0, white)));\n",
       "  --sklearn-color-border-box: var(--sg-text-color, var(--theme-code-foreground, var(--jp-content-font-color1, black)));\n",
       "  --sklearn-color-icon: #696969;\n",
       "\n",
       "  @media (prefers-color-scheme: dark) {\n",
       "    /* Redefinition of color scheme for dark theme */\n",
       "    --sklearn-color-text-on-default-background: var(--sg-text-color, var(--theme-code-foreground, var(--jp-content-font-color1, white)));\n",
       "    --sklearn-color-background: var(--sg-background-color, var(--theme-background, var(--jp-layout-color0, #111)));\n",
       "    --sklearn-color-border-box: var(--sg-text-color, var(--theme-code-foreground, var(--jp-content-font-color1, white)));\n",
       "    --sklearn-color-icon: #878787;\n",
       "  }\n",
       "}\n",
       "\n",
       "#sk-container-id-1 {\n",
       "  color: var(--sklearn-color-text);\n",
       "}\n",
       "\n",
       "#sk-container-id-1 pre {\n",
       "  padding: 0;\n",
       "}\n",
       "\n",
       "#sk-container-id-1 input.sk-hidden--visually {\n",
       "  border: 0;\n",
       "  clip: rect(1px 1px 1px 1px);\n",
       "  clip: rect(1px, 1px, 1px, 1px);\n",
       "  height: 1px;\n",
       "  margin: -1px;\n",
       "  overflow: hidden;\n",
       "  padding: 0;\n",
       "  position: absolute;\n",
       "  width: 1px;\n",
       "}\n",
       "\n",
       "#sk-container-id-1 div.sk-dashed-wrapped {\n",
       "  border: 1px dashed var(--sklearn-color-line);\n",
       "  margin: 0 0.4em 0.5em 0.4em;\n",
       "  box-sizing: border-box;\n",
       "  padding-bottom: 0.4em;\n",
       "  background-color: var(--sklearn-color-background);\n",
       "}\n",
       "\n",
       "#sk-container-id-1 div.sk-container {\n",
       "  /* jupyter's `normalize.less` sets `[hidden] { display: none; }`\n",
       "     but bootstrap.min.css set `[hidden] { display: none !important; }`\n",
       "     so we also need the `!important` here to be able to override the\n",
       "     default hidden behavior on the sphinx rendered scikit-learn.org.\n",
       "     See: https://github.com/scikit-learn/scikit-learn/issues/21755 */\n",
       "  display: inline-block !important;\n",
       "  position: relative;\n",
       "}\n",
       "\n",
       "#sk-container-id-1 div.sk-text-repr-fallback {\n",
       "  display: none;\n",
       "}\n",
       "\n",
       "div.sk-parallel-item,\n",
       "div.sk-serial,\n",
       "div.sk-item {\n",
       "  /* draw centered vertical line to link estimators */\n",
       "  background-image: linear-gradient(var(--sklearn-color-text-on-default-background), var(--sklearn-color-text-on-default-background));\n",
       "  background-size: 2px 100%;\n",
       "  background-repeat: no-repeat;\n",
       "  background-position: center center;\n",
       "}\n",
       "\n",
       "/* Parallel-specific style estimator block */\n",
       "\n",
       "#sk-container-id-1 div.sk-parallel-item::after {\n",
       "  content: \"\";\n",
       "  width: 100%;\n",
       "  border-bottom: 2px solid var(--sklearn-color-text-on-default-background);\n",
       "  flex-grow: 1;\n",
       "}\n",
       "\n",
       "#sk-container-id-1 div.sk-parallel {\n",
       "  display: flex;\n",
       "  align-items: stretch;\n",
       "  justify-content: center;\n",
       "  background-color: var(--sklearn-color-background);\n",
       "  position: relative;\n",
       "}\n",
       "\n",
       "#sk-container-id-1 div.sk-parallel-item {\n",
       "  display: flex;\n",
       "  flex-direction: column;\n",
       "}\n",
       "\n",
       "#sk-container-id-1 div.sk-parallel-item:first-child::after {\n",
       "  align-self: flex-end;\n",
       "  width: 50%;\n",
       "}\n",
       "\n",
       "#sk-container-id-1 div.sk-parallel-item:last-child::after {\n",
       "  align-self: flex-start;\n",
       "  width: 50%;\n",
       "}\n",
       "\n",
       "#sk-container-id-1 div.sk-parallel-item:only-child::after {\n",
       "  width: 0;\n",
       "}\n",
       "\n",
       "/* Serial-specific style estimator block */\n",
       "\n",
       "#sk-container-id-1 div.sk-serial {\n",
       "  display: flex;\n",
       "  flex-direction: column;\n",
       "  align-items: center;\n",
       "  background-color: var(--sklearn-color-background);\n",
       "  padding-right: 1em;\n",
       "  padding-left: 1em;\n",
       "}\n",
       "\n",
       "\n",
       "/* Toggleable style: style used for estimator/Pipeline/ColumnTransformer box that is\n",
       "clickable and can be expanded/collapsed.\n",
       "- Pipeline and ColumnTransformer use this feature and define the default style\n",
       "- Estimators will overwrite some part of the style using the `sk-estimator` class\n",
       "*/\n",
       "\n",
       "/* Pipeline and ColumnTransformer style (default) */\n",
       "\n",
       "#sk-container-id-1 div.sk-toggleable {\n",
       "  /* Default theme specific background. It is overwritten whether we have a\n",
       "  specific estimator or a Pipeline/ColumnTransformer */\n",
       "  background-color: var(--sklearn-color-background);\n",
       "}\n",
       "\n",
       "/* Toggleable label */\n",
       "#sk-container-id-1 label.sk-toggleable__label {\n",
       "  cursor: pointer;\n",
       "  display: block;\n",
       "  width: 100%;\n",
       "  margin-bottom: 0;\n",
       "  padding: 0.5em;\n",
       "  box-sizing: border-box;\n",
       "  text-align: center;\n",
       "}\n",
       "\n",
       "#sk-container-id-1 label.sk-toggleable__label-arrow:before {\n",
       "  /* Arrow on the left of the label */\n",
       "  content: \"▸\";\n",
       "  float: left;\n",
       "  margin-right: 0.25em;\n",
       "  color: var(--sklearn-color-icon);\n",
       "}\n",
       "\n",
       "#sk-container-id-1 label.sk-toggleable__label-arrow:hover:before {\n",
       "  color: var(--sklearn-color-text);\n",
       "}\n",
       "\n",
       "/* Toggleable content - dropdown */\n",
       "\n",
       "#sk-container-id-1 div.sk-toggleable__content {\n",
       "  max-height: 0;\n",
       "  max-width: 0;\n",
       "  overflow: hidden;\n",
       "  text-align: left;\n",
       "  /* unfitted */\n",
       "  background-color: var(--sklearn-color-unfitted-level-0);\n",
       "}\n",
       "\n",
       "#sk-container-id-1 div.sk-toggleable__content.fitted {\n",
       "  /* fitted */\n",
       "  background-color: var(--sklearn-color-fitted-level-0);\n",
       "}\n",
       "\n",
       "#sk-container-id-1 div.sk-toggleable__content pre {\n",
       "  margin: 0.2em;\n",
       "  border-radius: 0.25em;\n",
       "  color: var(--sklearn-color-text);\n",
       "  /* unfitted */\n",
       "  background-color: var(--sklearn-color-unfitted-level-0);\n",
       "}\n",
       "\n",
       "#sk-container-id-1 div.sk-toggleable__content.fitted pre {\n",
       "  /* unfitted */\n",
       "  background-color: var(--sklearn-color-fitted-level-0);\n",
       "}\n",
       "\n",
       "#sk-container-id-1 input.sk-toggleable__control:checked~div.sk-toggleable__content {\n",
       "  /* Expand drop-down */\n",
       "  max-height: 200px;\n",
       "  max-width: 100%;\n",
       "  overflow: auto;\n",
       "}\n",
       "\n",
       "#sk-container-id-1 input.sk-toggleable__control:checked~label.sk-toggleable__label-arrow:before {\n",
       "  content: \"▾\";\n",
       "}\n",
       "\n",
       "/* Pipeline/ColumnTransformer-specific style */\n",
       "\n",
       "#sk-container-id-1 div.sk-label input.sk-toggleable__control:checked~label.sk-toggleable__label {\n",
       "  color: var(--sklearn-color-text);\n",
       "  background-color: var(--sklearn-color-unfitted-level-2);\n",
       "}\n",
       "\n",
       "#sk-container-id-1 div.sk-label.fitted input.sk-toggleable__control:checked~label.sk-toggleable__label {\n",
       "  background-color: var(--sklearn-color-fitted-level-2);\n",
       "}\n",
       "\n",
       "/* Estimator-specific style */\n",
       "\n",
       "/* Colorize estimator box */\n",
       "#sk-container-id-1 div.sk-estimator input.sk-toggleable__control:checked~label.sk-toggleable__label {\n",
       "  /* unfitted */\n",
       "  background-color: var(--sklearn-color-unfitted-level-2);\n",
       "}\n",
       "\n",
       "#sk-container-id-1 div.sk-estimator.fitted input.sk-toggleable__control:checked~label.sk-toggleable__label {\n",
       "  /* fitted */\n",
       "  background-color: var(--sklearn-color-fitted-level-2);\n",
       "}\n",
       "\n",
       "#sk-container-id-1 div.sk-label label.sk-toggleable__label,\n",
       "#sk-container-id-1 div.sk-label label {\n",
       "  /* The background is the default theme color */\n",
       "  color: var(--sklearn-color-text-on-default-background);\n",
       "}\n",
       "\n",
       "/* On hover, darken the color of the background */\n",
       "#sk-container-id-1 div.sk-label:hover label.sk-toggleable__label {\n",
       "  color: var(--sklearn-color-text);\n",
       "  background-color: var(--sklearn-color-unfitted-level-2);\n",
       "}\n",
       "\n",
       "/* Label box, darken color on hover, fitted */\n",
       "#sk-container-id-1 div.sk-label.fitted:hover label.sk-toggleable__label.fitted {\n",
       "  color: var(--sklearn-color-text);\n",
       "  background-color: var(--sklearn-color-fitted-level-2);\n",
       "}\n",
       "\n",
       "/* Estimator label */\n",
       "\n",
       "#sk-container-id-1 div.sk-label label {\n",
       "  font-family: monospace;\n",
       "  font-weight: bold;\n",
       "  display: inline-block;\n",
       "  line-height: 1.2em;\n",
       "}\n",
       "\n",
       "#sk-container-id-1 div.sk-label-container {\n",
       "  text-align: center;\n",
       "}\n",
       "\n",
       "/* Estimator-specific */\n",
       "#sk-container-id-1 div.sk-estimator {\n",
       "  font-family: monospace;\n",
       "  border: 1px dotted var(--sklearn-color-border-box);\n",
       "  border-radius: 0.25em;\n",
       "  box-sizing: border-box;\n",
       "  margin-bottom: 0.5em;\n",
       "  /* unfitted */\n",
       "  background-color: var(--sklearn-color-unfitted-level-0);\n",
       "}\n",
       "\n",
       "#sk-container-id-1 div.sk-estimator.fitted {\n",
       "  /* fitted */\n",
       "  background-color: var(--sklearn-color-fitted-level-0);\n",
       "}\n",
       "\n",
       "/* on hover */\n",
       "#sk-container-id-1 div.sk-estimator:hover {\n",
       "  /* unfitted */\n",
       "  background-color: var(--sklearn-color-unfitted-level-2);\n",
       "}\n",
       "\n",
       "#sk-container-id-1 div.sk-estimator.fitted:hover {\n",
       "  /* fitted */\n",
       "  background-color: var(--sklearn-color-fitted-level-2);\n",
       "}\n",
       "\n",
       "/* Specification for estimator info (e.g. \"i\" and \"?\") */\n",
       "\n",
       "/* Common style for \"i\" and \"?\" */\n",
       "\n",
       ".sk-estimator-doc-link,\n",
       "a:link.sk-estimator-doc-link,\n",
       "a:visited.sk-estimator-doc-link {\n",
       "  float: right;\n",
       "  font-size: smaller;\n",
       "  line-height: 1em;\n",
       "  font-family: monospace;\n",
       "  background-color: var(--sklearn-color-background);\n",
       "  border-radius: 1em;\n",
       "  height: 1em;\n",
       "  width: 1em;\n",
       "  text-decoration: none !important;\n",
       "  margin-left: 1ex;\n",
       "  /* unfitted */\n",
       "  border: var(--sklearn-color-unfitted-level-1) 1pt solid;\n",
       "  color: var(--sklearn-color-unfitted-level-1);\n",
       "}\n",
       "\n",
       ".sk-estimator-doc-link.fitted,\n",
       "a:link.sk-estimator-doc-link.fitted,\n",
       "a:visited.sk-estimator-doc-link.fitted {\n",
       "  /* fitted */\n",
       "  border: var(--sklearn-color-fitted-level-1) 1pt solid;\n",
       "  color: var(--sklearn-color-fitted-level-1);\n",
       "}\n",
       "\n",
       "/* On hover */\n",
       "div.sk-estimator:hover .sk-estimator-doc-link:hover,\n",
       ".sk-estimator-doc-link:hover,\n",
       "div.sk-label-container:hover .sk-estimator-doc-link:hover,\n",
       ".sk-estimator-doc-link:hover {\n",
       "  /* unfitted */\n",
       "  background-color: var(--sklearn-color-unfitted-level-3);\n",
       "  color: var(--sklearn-color-background);\n",
       "  text-decoration: none;\n",
       "}\n",
       "\n",
       "div.sk-estimator.fitted:hover .sk-estimator-doc-link.fitted:hover,\n",
       ".sk-estimator-doc-link.fitted:hover,\n",
       "div.sk-label-container:hover .sk-estimator-doc-link.fitted:hover,\n",
       ".sk-estimator-doc-link.fitted:hover {\n",
       "  /* fitted */\n",
       "  background-color: var(--sklearn-color-fitted-level-3);\n",
       "  color: var(--sklearn-color-background);\n",
       "  text-decoration: none;\n",
       "}\n",
       "\n",
       "/* Span, style for the box shown on hovering the info icon */\n",
       ".sk-estimator-doc-link span {\n",
       "  display: none;\n",
       "  z-index: 9999;\n",
       "  position: relative;\n",
       "  font-weight: normal;\n",
       "  right: .2ex;\n",
       "  padding: .5ex;\n",
       "  margin: .5ex;\n",
       "  width: min-content;\n",
       "  min-width: 20ex;\n",
       "  max-width: 50ex;\n",
       "  color: var(--sklearn-color-text);\n",
       "  box-shadow: 2pt 2pt 4pt #999;\n",
       "  /* unfitted */\n",
       "  background: var(--sklearn-color-unfitted-level-0);\n",
       "  border: .5pt solid var(--sklearn-color-unfitted-level-3);\n",
       "}\n",
       "\n",
       ".sk-estimator-doc-link.fitted span {\n",
       "  /* fitted */\n",
       "  background: var(--sklearn-color-fitted-level-0);\n",
       "  border: var(--sklearn-color-fitted-level-3);\n",
       "}\n",
       "\n",
       ".sk-estimator-doc-link:hover span {\n",
       "  display: block;\n",
       "}\n",
       "\n",
       "/* \"?\"-specific style due to the `<a>` HTML tag */\n",
       "\n",
       "#sk-container-id-1 a.estimator_doc_link {\n",
       "  float: right;\n",
       "  font-size: 1rem;\n",
       "  line-height: 1em;\n",
       "  font-family: monospace;\n",
       "  background-color: var(--sklearn-color-background);\n",
       "  border-radius: 1rem;\n",
       "  height: 1rem;\n",
       "  width: 1rem;\n",
       "  text-decoration: none;\n",
       "  /* unfitted */\n",
       "  color: var(--sklearn-color-unfitted-level-1);\n",
       "  border: var(--sklearn-color-unfitted-level-1) 1pt solid;\n",
       "}\n",
       "\n",
       "#sk-container-id-1 a.estimator_doc_link.fitted {\n",
       "  /* fitted */\n",
       "  border: var(--sklearn-color-fitted-level-1) 1pt solid;\n",
       "  color: var(--sklearn-color-fitted-level-1);\n",
       "}\n",
       "\n",
       "/* On hover */\n",
       "#sk-container-id-1 a.estimator_doc_link:hover {\n",
       "  /* unfitted */\n",
       "  background-color: var(--sklearn-color-unfitted-level-3);\n",
       "  color: var(--sklearn-color-background);\n",
       "  text-decoration: none;\n",
       "}\n",
       "\n",
       "#sk-container-id-1 a.estimator_doc_link.fitted:hover {\n",
       "  /* fitted */\n",
       "  background-color: var(--sklearn-color-fitted-level-3);\n",
       "}\n",
       "</style><div id=\"sk-container-id-1\" class=\"sk-top-container\"><div class=\"sk-text-repr-fallback\"><pre>XGBClassifier(base_score=None, booster=None, callbacks=None,\n",
       "              colsample_bylevel=None, colsample_bynode=None,\n",
       "              colsample_bytree=None, device=None, early_stopping_rounds=None,\n",
       "              enable_categorical=False, eval_metric=&#x27;logloss&#x27;,\n",
       "              feature_types=None, gamma=None, grow_policy=None,\n",
       "              importance_type=None, interaction_constraints=None,\n",
       "              learning_rate=None, max_bin=None, max_cat_threshold=None,\n",
       "              max_cat_to_onehot=None, max_delta_step=None, max_depth=None,\n",
       "              max_leaves=None, min_child_weight=None, missing=nan,\n",
       "              monotone_constraints=None, multi_strategy=None, n_estimators=None,\n",
       "              n_jobs=None, num_parallel_tree=None, random_state=42, ...)</pre><b>In a Jupyter environment, please rerun this cell to show the HTML representation or trust the notebook. <br />On GitHub, the HTML representation is unable to render, please try loading this page with nbviewer.org.</b></div><div class=\"sk-container\" hidden><div class=\"sk-item\"><div class=\"sk-estimator fitted sk-toggleable\"><input class=\"sk-toggleable__control sk-hidden--visually\" id=\"sk-estimator-id-1\" type=\"checkbox\" checked><label for=\"sk-estimator-id-1\" class=\"sk-toggleable__label fitted sk-toggleable__label-arrow fitted\">&nbsp;XGBClassifier<span class=\"sk-estimator-doc-link fitted\">i<span>Fitted</span></span></label><div class=\"sk-toggleable__content fitted\"><pre>XGBClassifier(base_score=None, booster=None, callbacks=None,\n",
       "              colsample_bylevel=None, colsample_bynode=None,\n",
       "              colsample_bytree=None, device=None, early_stopping_rounds=None,\n",
       "              enable_categorical=False, eval_metric=&#x27;logloss&#x27;,\n",
       "              feature_types=None, gamma=None, grow_policy=None,\n",
       "              importance_type=None, interaction_constraints=None,\n",
       "              learning_rate=None, max_bin=None, max_cat_threshold=None,\n",
       "              max_cat_to_onehot=None, max_delta_step=None, max_depth=None,\n",
       "              max_leaves=None, min_child_weight=None, missing=nan,\n",
       "              monotone_constraints=None, multi_strategy=None, n_estimators=None,\n",
       "              n_jobs=None, num_parallel_tree=None, random_state=42, ...)</pre></div> </div></div></div></div>"
      ],
      "text/plain": [
       "XGBClassifier(base_score=None, booster=None, callbacks=None,\n",
       "              colsample_bylevel=None, colsample_bynode=None,\n",
       "              colsample_bytree=None, device=None, early_stopping_rounds=None,\n",
       "              enable_categorical=False, eval_metric='logloss',\n",
       "              feature_types=None, gamma=None, grow_policy=None,\n",
       "              importance_type=None, interaction_constraints=None,\n",
       "              learning_rate=None, max_bin=None, max_cat_threshold=None,\n",
       "              max_cat_to_onehot=None, max_delta_step=None, max_depth=None,\n",
       "              max_leaves=None, min_child_weight=None, missing=nan,\n",
       "              monotone_constraints=None, multi_strategy=None, n_estimators=None,\n",
       "              n_jobs=None, num_parallel_tree=None, random_state=42, ...)"
      ]
     },
     "execution_count": 6,
     "metadata": {},
     "output_type": "execute_result"
    }
   ],
   "source": [
    "# Train an XGBoost model\n",
    "model_xgb = XGBClassifier(use_label_encoder=False, eval_metric='logloss', random_state=42)\n",
    "model_xgb.fit(X_train, y_train)\n",
    "\n"
   ]
  },
  {
   "cell_type": "code",
   "execution_count": 7,
   "metadata": {},
   "outputs": [],
   "source": [
    "\n",
    "# Generate predictions\n",
    "y_pred_proba = model_xgb.predict_proba(X_val)[:, 1]\n",
    "roc_data_xgb = plots.generate_roc_auc_data(y_val, y_pred_proba)\n",
    "goal_rate_x, goal_rate_y = plots.generate_goal_rate_data(y_val, y_pred_proba)\n",
    "cumulative_x, cumulative_y = plots.generate_cumulative_goal_data(y_val, y_pred_proba)\n",
    "calibration_prob_pred, calibration_prob_true = plots.generate_calibration_data(y_val, y_pred_proba)"
   ]
  },
  {
   "cell_type": "code",
   "execution_count": 8,
   "metadata": {},
   "outputs": [],
   "source": [
    "# Generate predictions\n",
    "y_pred_proba = model_xgb.predict_proba(X_val)[:, 1]  # Probabilities\n",
    "y_pred = (y_pred_proba >= 0.5).astype(int)           \n",
    "\n",
    "# Calculate ROC/AUC and other plots\n",
    "roc_data_xgb = plots.generate_roc_auc_data(y_val, y_pred_proba)\n",
    "goal_rate_x, goal_rate_y = plots.generate_goal_rate_data(y_val, y_pred_proba)\n",
    "cumulative_x, cumulative_y = plots.generate_cumulative_goal_data(y_val, y_pred_proba)\n",
    "calibration_prob_pred, calibration_prob_true = plots.generate_calibration_data(y_val, y_pred_proba)\n",
    "\n",
    "# Calculate metrics\n",
    "accuracy = accuracy_score(y_val, y_pred)"
   ]
  },
  {
   "cell_type": "code",
   "execution_count": 9,
   "metadata": {},
   "outputs": [
    {
     "data": {
      "text/plain": [
       "<Figure size 1200x800 with 0 Axes>"
      ]
     },
     "metadata": {},
     "output_type": "display_data"
    }
   ],
   "source": [
    "# Plot ROC/AUC\n",
    "plots.plot_roc_auc([roc_data_xgb], ['XGBoost'],\"roc_5_1.png\")\n",
    "\n",
    "# Plot Goal Rate vs Percentile\n",
    "plots.plot_goal_rate([(goal_rate_x, goal_rate_y)], ['XGBoost'],\"goal_rate_5_1.png\")\n",
    "\n",
    "# Plot Cumulative Goals vs Percentile\n",
    "plots.plot_cumulative_goals([(cumulative_x, cumulative_y)], ['XGBoost'],\"cumulative_goals_5_1.png\")\n",
    "\n",
    "# Plot Calibration Curve\n",
    "plots.plot_calibration([y_val], [y_pred_proba], ['XGBoost'],\"calibration_5_1.png\")\n"
   ]
  },
  {
   "cell_type": "code",
   "execution_count": 12,
   "metadata": {},
   "outputs": [
    {
     "name": "stderr",
     "output_type": "stream",
     "text": [
      "wandb: Using wandb-core as the SDK backend.  Please refer to https://wandb.me/wandb-core for more information.\n",
      "wandb: Currently logged in as: hicham-mazouzi (hicham-mazouzi-university-of-montreal). Use `wandb login --relogin` to force relogin\n"
     ]
    },
    {
     "data": {
      "text/html": [
       "Tracking run with wandb version 0.18.7"
      ],
      "text/plain": [
       "<IPython.core.display.HTML object>"
      ]
     },
     "metadata": {},
     "output_type": "display_data"
    },
    {
     "data": {
      "text/html": [
       "Run data is saved locally in <code>c:\\Users\\hicha\\OneDrive\\Bureau\\IFT6358\\wandb\\run-20241122_160745-yyfpheei</code>"
      ],
      "text/plain": [
       "<IPython.core.display.HTML object>"
      ]
     },
     "metadata": {},
     "output_type": "display_data"
    },
    {
     "data": {
      "text/html": [
       "Syncing run <strong><a href='https://wandb.ai/hicham-mazouzi-university-of-montreal/IFT6758.2024-A/runs/yyfpheei' target=\"_blank\">Baseline_XGBoost_Q5_1</a></strong> to <a href='https://wandb.ai/hicham-mazouzi-university-of-montreal/IFT6758.2024-A' target=\"_blank\">Weights & Biases</a> (<a href='https://wandb.me/developer-guide' target=\"_blank\">docs</a>)<br/>"
      ],
      "text/plain": [
       "<IPython.core.display.HTML object>"
      ]
     },
     "metadata": {},
     "output_type": "display_data"
    },
    {
     "data": {
      "text/html": [
       " View project at <a href='https://wandb.ai/hicham-mazouzi-university-of-montreal/IFT6758.2024-A' target=\"_blank\">https://wandb.ai/hicham-mazouzi-university-of-montreal/IFT6758.2024-A</a>"
      ],
      "text/plain": [
       "<IPython.core.display.HTML object>"
      ]
     },
     "metadata": {},
     "output_type": "display_data"
    },
    {
     "data": {
      "text/html": [
       " View run at <a href='https://wandb.ai/hicham-mazouzi-university-of-montreal/IFT6758.2024-A/runs/yyfpheei' target=\"_blank\">https://wandb.ai/hicham-mazouzi-university-of-montreal/IFT6758.2024-A/runs/yyfpheei</a>"
      ],
      "text/plain": [
       "<IPython.core.display.HTML object>"
      ]
     },
     "metadata": {},
     "output_type": "display_data"
    },
    {
     "data": {
      "text/html": [
       "\n",
       "    <style>\n",
       "        .wandb-row {\n",
       "            display: flex;\n",
       "            flex-direction: row;\n",
       "            flex-wrap: wrap;\n",
       "            justify-content: flex-start;\n",
       "            width: 100%;\n",
       "        }\n",
       "        .wandb-col {\n",
       "            display: flex;\n",
       "            flex-direction: column;\n",
       "            flex-basis: 100%;\n",
       "            flex: 1;\n",
       "            padding: 10px;\n",
       "        }\n",
       "    </style>\n",
       "<div class=\"wandb-row\"><div class=\"wandb-col\"><h3>Run history:</h3><br/><table class=\"wandb\"><tr><td>accuracy</td><td>▁</td></tr><tr><td>roc_auc</td><td>▁</td></tr></table><br/></div><div class=\"wandb-col\"><h3>Run summary:</h3><br/><table class=\"wandb\"><tr><td>accuracy</td><td>0.92888</td></tr><tr><td>roc_auc</td><td>0.71523</td></tr></table><br/></div></div>"
      ],
      "text/plain": [
       "<IPython.core.display.HTML object>"
      ]
     },
     "metadata": {},
     "output_type": "display_data"
    },
    {
     "data": {
      "text/html": [
       " View run <strong style=\"color:#cdcd00\">Baseline_XGBoost_Q5_1</strong> at: <a href='https://wandb.ai/hicham-mazouzi-university-of-montreal/IFT6758.2024-A/runs/yyfpheei' target=\"_blank\">https://wandb.ai/hicham-mazouzi-university-of-montreal/IFT6758.2024-A/runs/yyfpheei</a><br/> View project at: <a href='https://wandb.ai/hicham-mazouzi-university-of-montreal/IFT6758.2024-A' target=\"_blank\">https://wandb.ai/hicham-mazouzi-university-of-montreal/IFT6758.2024-A</a><br/>Synced 5 W&B file(s), 0 media file(s), 0 artifact file(s) and 4 other file(s)"
      ],
      "text/plain": [
       "<IPython.core.display.HTML object>"
      ]
     },
     "metadata": {},
     "output_type": "display_data"
    },
    {
     "data": {
      "text/html": [
       "Find logs at: <code>.\\wandb\\run-20241122_160745-yyfpheei\\logs</code>"
      ],
      "text/plain": [
       "<IPython.core.display.HTML object>"
      ]
     },
     "metadata": {},
     "output_type": "display_data"
    }
   ],
   "source": [
    "wandb.init(\n",
    "    project=\"IFT6758.2024-A\",\n",
    "    name=\"Baseline_XGBoost_Q5_1\",\n",
    "    notes=\"Classificateur XGBoost en utilisant les caractéristiques de distance et d' angle\"\n",
    ")\n",
    "wandb.log({\n",
    "    \"accuracy\": accuracy,  \n",
    "    \"roc_auc\": roc_data_xgb['roc_auc'],\n",
    "})\n",
    "# Log the image to W&B\n",
    "wandb.log({\"roc_curve_5_1\": wandb.Image(\"roc_5_1.png\", caption=\"ROC Curve for  5.1\")})\n",
    "wandb.log({\"goal_rate_5_1\": wandb.Image(\"goal_rate_5_1.png\", caption=\"Goal Rate Curve for  5.1\")})\n",
    "wandb.log({\"cumulative_goals_5_1\": wandb.Image(\"cumulative_goals_5_1.png\", caption=\"Cumulative Goald Curve for  5.1\")})\n",
    "wandb.log({\"calibration_5_1\": wandb.Image(\"calibration_5_1.png\", caption=\"Calibration Curve for  5.1\")})\n",
    "# Finish the run\n",
    "wandb.finish()"
   ]
  },
  {
   "cell_type": "markdown",
   "metadata": {},
   "source": [
    "Question 2"
   ]
  },
  {
   "cell_type": "code",
   "execution_count": 13,
   "metadata": {},
   "outputs": [],
   "source": [
    "# Identify numerical and categorical features\n",
    "numerical_features = ['game_seconds', 'game_period', 'x_coord', 'y_coord', \n",
    "                      'shot_distance', 'shot_angle', 'distance_from_last_event', \n",
    "                      'friendly_skaters', 'opposing_skaters', 'shot_angle_change', 'speed']\n",
    "\n",
    "categorical_features = [\n",
    "    'shot_type', 'empty_net', 'last_event_type', 'rebound', \n",
    "    'attacking_team_name', 'home_team'\n",
    "]\n",
    "\n",
    "# Handle missing values\n",
    "df[numerical_features] = df[numerical_features].fillna(df[numerical_features].median())\n",
    "df[categorical_features] = df[categorical_features].fillna('unknown')\n",
    "\n",
    "# Encode categorical features using One-Hot Encoding\n",
    "df_encoded = pd.get_dummies(df[categorical_features], drop_first=True)\n",
    "\n",
    "# Combine numerical and encoded categorical features\n",
    "X = pd.concat([df[numerical_features], df_encoded], axis=1)\n",
    "y = df['is_goal']\n",
    "\n",
    "# Ensure target variable has no missing values\n",
    "y = y.fillna(0)\n",
    "\n",
    "\n",
    "# Diviser les données\n",
    "X_train, X_val, y_train, y_val = train_test_split(X, y, test_size=0.2, random_state=42)\n"
   ]
  },
  {
   "cell_type": "code",
   "execution_count": null,
   "metadata": {},
   "outputs": [
    {
     "name": "stdout",
     "output_type": "stream",
     "text": [
      "Fitting 5 folds for each of 1 candidates, totalling 5 fits\n"
     ]
    },
    {
     "name": "stderr",
     "output_type": "stream",
     "text": [
      "c:\\Users\\hicha\\AppData\\Local\\Programs\\Python\\Python310\\lib\\site-packages\\xgboost\\core.py:158: UserWarning: [16:11:02] WARNING: C:\\buildkite-agent\\builds\\buildkite-windows-cpu-autoscaling-group-i-0ed59c031377d09b8-1\\xgboost\\xgboost-ci-windows\\src\\learner.cc:740: \n",
      "Parameters: { \"use_label_encoder\" } are not used.\n",
      "\n",
      "  warnings.warn(smsg, UserWarning)\n"
     ]
    },
    {
     "name": "stdout",
     "output_type": "stream",
     "text": [
      "Best Hyperparamet ers: {'learning_rate': 0.1, 'max_depth': 7, 'n_estimators': 150, 'subsample': 1.0}\n"
     ]
    }
   ],
   "source": [
    "# Define the XGBoost model\n",
    "xgb = XGBClassifier(use_label_encoder=False, eval_metric='logloss', random_state=42)\n",
    "\n",
    "# Define the hyperparameter grid\n",
    "param_grid = {\n",
    "    'n_estimators': [ 150,200,250,300],\n",
    "    'learning_rate': [0.01, 0.1 ,0.15,0.015],\n",
    "    'max_depth': [ 7,10,15],\n",
    "    'subsample': [0.9,0.7, 1.0]\n",
    "}\n",
    "\n",
    "# Perform Grid Search with Cross-Validation\n",
    "grid_search = GridSearchCV(\n",
    "    estimator=xgb, \n",
    "    param_grid=param_grid, \n",
    "    scoring='roc_auc', \n",
    "    cv=5, \n",
    "    verbose=1, \n",
    "    n_jobs=-1\n",
    ")\n",
    "\n",
    "# Fit the grid search to the training data\n",
    "grid_search.fit(X_train, y_train)\n",
    "\n",
    "# Retrieve the best model\n",
    "best_xgb = grid_search.best_estimator_\n",
    "print(\"Best Hyperparamet ers:\", grid_search.best_params_)\n"
   ]
  },
  {
   "cell_type": "code",
   "execution_count": 16,
   "metadata": {},
   "outputs": [],
   "source": [
    "# Generate predictions\n",
    "y_pred_proba = best_xgb.predict_proba(X_val)[:, 1]\n",
    "roc_data_xgb = plots.generate_roc_auc_data(y_val, y_pred_proba)\n",
    "goal_rate_x, goal_rate_y = plots.generate_goal_rate_data(y_val, y_pred_proba)\n",
    "cumulative_x, cumulative_y = plots.generate_cumulative_goal_data(y_val, y_pred_proba)\n",
    "calibration_prob_pred, calibration_prob_true = plots.generate_calibration_data(y_val, y_pred_proba)\n",
    "\n",
    "accuracy = accuracy_score(y_val, y_pred)\n",
    "\n"
   ]
  },
  {
   "cell_type": "code",
   "execution_count": 17,
   "metadata": {},
   "outputs": [
    {
     "data": {
      "text/plain": [
       "<Figure size 1200x800 with 0 Axes>"
      ]
     },
     "metadata": {},
     "output_type": "display_data"
    }
   ],
   "source": [
    "# Plot ROC/AUC\n",
    "plots.plot_roc_auc([roc_data_xgb], ['XGBoost '],\"roc_5_2.png\")\n",
    "\n",
    "# Plot Goal Rate vs Percentile\n",
    "plots.plot_goal_rate([(goal_rate_x, goal_rate_y)], ['XGBoost'],\"goal_rate_5_2.png\")\n",
    "\n",
    "# Plot Cumulative Goals vs Percentile\n",
    "plots.plot_cumulative_goals([(cumulative_x, cumulative_y)], ['XGBoost'],\"cumulative_goals_5_2.png\")\n",
    "\n",
    "# Plot Calibration Curve\n",
    "plots.plot_calibration([y_val], [y_pred_proba], ['XGBoost'],\"calibration_5_2.png\")"
   ]
  },
  {
   "cell_type": "code",
   "execution_count": 33,
   "metadata": {},
   "outputs": [
    {
     "data": {
      "text/html": [
       "Tracking run with wandb version 0.18.7"
      ],
      "text/plain": [
       "<IPython.core.display.HTML object>"
      ]
     },
     "metadata": {},
     "output_type": "display_data"
    },
    {
     "data": {
      "text/html": [
       "Run data is saved locally in <code>c:\\Users\\hicha\\OneDrive\\Bureau\\IFT6358\\wandb\\run-20241122_170756-9och09d4</code>"
      ],
      "text/plain": [
       "<IPython.core.display.HTML object>"
      ]
     },
     "metadata": {},
     "output_type": "display_data"
    },
    {
     "data": {
      "text/html": [
       "Syncing run <strong><a href='https://wandb.ai/hicham-mazouzi-university-of-montreal/IFT6758.2024-A/runs/9och09d4' target=\"_blank\">Best_XGBoost_Q5_2</a></strong> to <a href='https://wandb.ai/hicham-mazouzi-university-of-montreal/IFT6758.2024-A' target=\"_blank\">Weights & Biases</a> (<a href='https://wandb.me/developer-guide' target=\"_blank\">docs</a>)<br/>"
      ],
      "text/plain": [
       "<IPython.core.display.HTML object>"
      ]
     },
     "metadata": {},
     "output_type": "display_data"
    },
    {
     "data": {
      "text/html": [
       " View project at <a href='https://wandb.ai/hicham-mazouzi-university-of-montreal/IFT6758.2024-A' target=\"_blank\">https://wandb.ai/hicham-mazouzi-university-of-montreal/IFT6758.2024-A</a>"
      ],
      "text/plain": [
       "<IPython.core.display.HTML object>"
      ]
     },
     "metadata": {},
     "output_type": "display_data"
    },
    {
     "data": {
      "text/html": [
       " View run at <a href='https://wandb.ai/hicham-mazouzi-university-of-montreal/IFT6758.2024-A/runs/9och09d4' target=\"_blank\">https://wandb.ai/hicham-mazouzi-university-of-montreal/IFT6758.2024-A/runs/9och09d4</a>"
      ],
      "text/plain": [
       "<IPython.core.display.HTML object>"
      ]
     },
     "metadata": {},
     "output_type": "display_data"
    },
    {
     "data": {
      "text/html": [
       "\n",
       "    <style>\n",
       "        .wandb-row {\n",
       "            display: flex;\n",
       "            flex-direction: row;\n",
       "            flex-wrap: wrap;\n",
       "            justify-content: flex-start;\n",
       "            width: 100%;\n",
       "        }\n",
       "        .wandb-col {\n",
       "            display: flex;\n",
       "            flex-direction: column;\n",
       "            flex-basis: 100%;\n",
       "            flex: 1;\n",
       "            padding: 10px;\n",
       "        }\n",
       "    </style>\n",
       "<div class=\"wandb-row\"><div class=\"wandb-col\"><h3>Run history:</h3><br/><table class=\"wandb\"><tr><td>accuracy</td><td>▁</td></tr><tr><td>roc_auc</td><td>▁</td></tr></table><br/></div><div class=\"wandb-col\"><h3>Run summary:</h3><br/><table class=\"wandb\"><tr><td>accuracy</td><td>0.92888</td></tr><tr><td>roc_auc</td><td>0.78284</td></tr></table><br/></div></div>"
      ],
      "text/plain": [
       "<IPython.core.display.HTML object>"
      ]
     },
     "metadata": {},
     "output_type": "display_data"
    },
    {
     "data": {
      "text/html": [
       " View run <strong style=\"color:#cdcd00\">Best_XGBoost_Q5_2</strong> at: <a href='https://wandb.ai/hicham-mazouzi-university-of-montreal/IFT6758.2024-A/runs/9och09d4' target=\"_blank\">https://wandb.ai/hicham-mazouzi-university-of-montreal/IFT6758.2024-A/runs/9och09d4</a><br/> View project at: <a href='https://wandb.ai/hicham-mazouzi-university-of-montreal/IFT6758.2024-A' target=\"_blank\">https://wandb.ai/hicham-mazouzi-university-of-montreal/IFT6758.2024-A</a><br/>Synced 5 W&B file(s), 0 media file(s), 2 artifact file(s) and 4 other file(s)"
      ],
      "text/plain": [
       "<IPython.core.display.HTML object>"
      ]
     },
     "metadata": {},
     "output_type": "display_data"
    },
    {
     "data": {
      "text/html": [
       "Find logs at: <code>.\\wandb\\run-20241122_170756-9och09d4\\logs</code>"
      ],
      "text/plain": [
       "<IPython.core.display.HTML object>"
      ]
     },
     "metadata": {},
     "output_type": "display_data"
    }
   ],
   "source": [
    "hyperparameters = {\n",
    "    \"n_estimators\": 150,\n",
    "    \"learning_rate\": 0.1,\n",
    "    \"max_depth\": 7,\n",
    "    \"subsample\": 0.8\n",
    "}\n",
    "wandb.init(\n",
    "    project=\"IFT6758.2024-A\",\n",
    "    name=\"Best_XGBoost_Q5_2\",\n",
    "    notes=\"Meilleur XGBoost trouve avec la validation croisee en utilisant tout l'ensemble de donnees\",\n",
    "    config=hyperparameters\n",
    ")\n",
    "wandb.log({\n",
    "    \"accuracy\": accuracy,  \n",
    "    \"roc_auc\": roc_data_xgb['roc_auc'],\n",
    "})\n",
    "# Log the image to W&B\n",
    "wandb.log({\"roc_curve_5_2\": wandb.Image(\"roc_5_2.png\", caption=\"ROC Curve for  5.2\")})\n",
    "wandb.log({\"goal_rate_5_2\": wandb.Image(\"goal_rate_5_2.png\", caption=\"Goal Rate Curve for  5.2\")})\n",
    "wandb.log({\"cumulative_goals_5_2\": wandb.Image(\"cumulative_goals_5_2.png\", caption=\"Cumulative Goald Curve for  5.2\")})\n",
    "wandb.log({\"calibration_5_2\": wandb.Image(\"calibration_5_2.png\", caption=\"Calibration Curve for  5.2\")})\n",
    "\n",
    "best_model_path = \"Models/best_xgboost_q5_2.json\"\n",
    "best_xgb.save_model(best_model_path)\n",
    "\n",
    "# Log the model artifact\n",
    "artifact = wandb.Artifact(\n",
    "    name=\"Best_XGBoost_Q5_2\",\n",
    "    type=\"model\",\n",
    "    description=\"Baseline XGBoost model using shot_distance and shot_angle.\"\n",
    ")\n",
    "artifact.add_file(best_model_path)\n",
    "wandb.log_artifact(artifact)\n",
    "\n",
    "# Finish the run\n",
    "wandb.finish()"
   ]
  },
  {
   "cell_type": "markdown",
   "metadata": {},
   "source": [
    "**Q3. Selection de caracteristique**"
   ]
  },
  {
   "cell_type": "code",
   "execution_count": null,
   "metadata": {},
   "outputs": [
    {
     "name": "stdout",
     "output_type": "stream",
     "text": [
      "Features selected by SelectKBest: ['game_seconds', 'game_period', 'shot_distance', 'friendly_skaters', 'opposing_skaters', 'speed', 'empty_net', 'rebound', 'shot_type_deflected', 'shot_type_slap', 'shot_type_snap', 'shot_type_tip-in', 'last_event_type_faceoff', 'last_event_type_goal', 'last_event_type_hit', 'last_event_type_missed-shot', 'last_event_type_shot-on-goal', 'last_event_type_takeaway', 'attacking_team_name_Lightning', 'home_team_Ducks']\n"
     ]
    }
   ],
   "source": [
    "# Select top k features using ANOVA F-statistics\n",
    "k_best_selector = SelectKBest(score_func=f_classif, k=20)\n",
    "X_train_kbest = k_best_selector.fit_transform(X_train, y_train)\n",
    "X_val_kbest = k_best_selector.transform(X_val)\n",
    "\n",
    "\n",
    "selected_features_kbest = X_train.columns[k_best_selector.get_support()]\n",
    "print(\"Features selected by SelectKBest:\", list(selected_features_kbest))\n"
   ]
  },
  {
   "cell_type": "code",
   "execution_count": null,
   "metadata": {},
   "outputs": [
    {
     "name": "stdout",
     "output_type": "stream",
     "text": [
      "Features selected by RFE: ['game_period', 'y_coord', 'shot_distance', 'shot_angle', 'distance_from_last_event', 'friendly_skaters', 'opposing_skaters', 'shot_angle_change', 'speed', 'empty_net', 'rebound', 'shot_type_deflected', 'shot_type_slap', 'shot_type_snap', 'shot_type_tip-in', 'shot_type_wrap-around', 'shot_type_wrist', 'last_event_type_faceoff', 'last_event_type_goal', 'last_event_type_hit', 'last_event_type_missed-shot', 'last_event_type_penalty', 'attacking_team_name_Flyers', 'attacking_team_name_Islanders', 'attacking_team_name_Lightning', 'attacking_team_name_Penguins', 'home_team_Bruins', 'home_team_Canucks', 'home_team_Ducks', 'home_team_Flyers', 'home_team_Islanders', 'home_team_Jets', 'home_team_Lightning', 'home_team_Maple Leafs', 'home_team_Panthers', 'home_team_Penguins', 'home_team_Rangers', 'home_team_Senators', 'home_team_Stars', 'home_team_Wild']\n"
     ]
    }
   ],
   "source": [
    "# Recursive Feature Elimination with XGBoost\n",
    "rfe_selector = RFE(estimator=XGBClassifier(use_label_encoder=False, eval_metric='logloss'), n_features_to_select=40)\n",
    "rfe_selector.fit(X_train, y_train)\n",
    "\n",
    "# Transform the datasets\n",
    "X_train_rfe = X_train.loc[:, rfe_selector.get_support()]\n",
    "X_val_rfe = X_val.loc[:, rfe_selector.get_support()]\n",
    "\n",
    "\n",
    "selected_features_rfe = X_train_rfe.columns\n",
    "print(\"Features selected by RFE:\", list(selected_features_rfe))\n"
   ]
  },
  {
   "cell_type": "code",
   "execution_count": null,
   "metadata": {},
   "outputs": [
    {
     "name": "stdout",
     "output_type": "stream",
     "text": [
      "game_seconds            int64\n",
      "game_period             int64\n",
      "x_coord               float64\n",
      "y_coord               float64\n",
      "shot_distance         float64\n",
      "                       ...   \n",
      "home_team_Sabres        int64\n",
      "home_team_Senators      int64\n",
      "home_team_Sharks        int64\n",
      "home_team_Stars         int64\n",
      "home_team_Wild          int64\n",
      "Length: 87, dtype: object\n"
     ]
    }
   ],
   "source": [
    "\n",
    "bool_columns = X_train.select_dtypes(include=['bool']).columns\n",
    "\n",
    "X_train[bool_columns] = X_train[bool_columns].astype(int)\n",
    "X_val[bool_columns] = X_val[bool_columns].astype(int)\n",
    " "
   ]
  },
  {
   "cell_type": "code",
   "execution_count": null,
   "metadata": {},
   "outputs": [
    {
     "name": "stderr",
     "output_type": "stream",
     "text": [
      "c:\\Users\\hicha\\AppData\\Local\\Programs\\Python\\Python310\\lib\\site-packages\\xgboost\\core.py:158: UserWarning: [16:18:14] WARNING: C:\\buildkite-agent\\builds\\buildkite-windows-cpu-autoscaling-group-i-0ed59c031377d09b8-1\\xgboost\\xgboost-ci-windows\\src\\learner.cc:740: \n",
      "Parameters: { \"use_label_encoder\" } are not used.\n",
      "\n",
      "  warnings.warn(smsg, UserWarning)\n",
      "100%|===================| 351758/351956 [14:54<00:00]        "
     ]
    },
    {
     "data": {
      "image/png": "[encoded data removed]",
      "text/plain": [
       "<Figure size 800x950 with 2 Axes>"
      ]
     },
     "metadata": {},
     "output_type": "display_data"
    },
    {
     "name": "stdout",
     "output_type": "stream",
     "text": [
      "Features selected by SHAP: ['shot_distance', 'y_coord', 'speed', 'opposing_skaters', 'shot_type_slap', 'shot_angle', 'distance_from_last_event', 'shot_type_wrist', 'shot_type_snap', 'game_seconds']\n"
     ]
    }
   ],
   "source": [
    "# Train an XGBoost model for SHAP analysis\n",
    "shap_model = XGBClassifier(use_label_encoder=False, eval_metric='logloss')\n",
    "shap_model.fit(X_train, y_train)\n",
    "\n",
    "# Compute SHAP values\n",
    "explainer = shap.Explainer(shap_model, X_train)\n",
    "shap_values = explainer(X_train)\n",
    "  \n",
    "# Visualize feature importance\n",
    "shap.summary_plot(shap_values, X_train)\n",
    "\n",
    "\n",
    "shap_importance = np.abs(shap_values.values).mean(axis=0)\n",
    "top_shap_indices = np.argsort(shap_importance)[::-1][:10]\n",
    "selected_features_shap = X_train.columns[top_shap_indices]\n",
    "X_train_shap = X_train[selected_features_shap]\n",
    "X_val_shap = X_val[selected_features_shap]\n",
    "\n",
    "print(\"Features selected by SHAP:\", list(selected_features_shap))\n"
   ]
  },
  {
   "cell_type": "code",
   "execution_count": 37,
   "metadata": {},
   "outputs": [
    {
     "name": "stdout",
     "output_type": "stream",
     "text": [
      "AUC for SelectKBest: 0.757\n",
      "Accuracy for SelectKBest: 0.930\n",
      "\n",
      "AUC for RFE: 0.780\n",
      "Accuracy for RFE: 0.931\n",
      "\n",
      "AUC for SHAP: 0.768\n",
      "Accuracy for SHAP: 0.930\n",
      "\n"
     ]
    }
   ],
   "source": [
    "from sklearn.metrics import accuracy_score\n",
    "\n",
    "def train_and_evaluate(X_train_reduced, X_val_reduced, y_train, y_val, label):\n",
    "    # Train the model\n",
    "    model = XGBClassifier(use_label_encoder=False, eval_metric='logloss', random_state=42)\n",
    "    model.fit(X_train_reduced, y_train)\n",
    "\n",
    "    # Generate predictions\n",
    "    y_pred_proba = model.predict_proba(X_val_reduced)[:, 1]\n",
    "    y_pred = model.predict(X_val_reduced)  # Predict classes for accuracy\n",
    "\n",
    "    # Generate data for ROC/AUC\n",
    "    roc_data = plots.generate_roc_auc_data(y_val, y_pred_proba)\n",
    "\n",
    "    # Calculate accuracy\n",
    "    accuracy = accuracy_score(y_val, y_pred)\n",
    "\n",
    "    # Print AUC and Accuracy\n",
    "    print(f\"AUC for {label}: {roc_data['roc_auc']:.3f}\")\n",
    "    print(f\"Accuracy for {label}: {accuracy:.3f}\\n\")\n",
    "    \n",
    "    return model, roc_data, y_pred_proba, accuracy\n",
    "\n",
    "# Train and evaluate models\n",
    "model_kbest, roc_kbest, y_pred_kbest, acc_kbest = train_and_evaluate(X_train_kbest, X_val_kbest, y_train, y_val, \"SelectKBest\")\n",
    "model_rfe, roc_rfe, y_pred_rfe, acc_rfe = train_and_evaluate(X_train_rfe, X_val_rfe, y_train, y_val, \"RFE\")\n",
    "model_shap, roc_shap, y_pred_shap, acc_shap = train_and_evaluate(X_train_shap, X_val_shap, y_train, y_val, \"SHAP\")\n",
    "\n"
   ]
  },
  {
   "cell_type": "code",
   "execution_count": 38,
   "metadata": {},
   "outputs": [],
   "source": [
    "# Generate predictions for the best RFE model\n",
    "y_pred_proba_rfe = model_rfe.predict_proba(X_val_rfe)[:, 1]  \n",
    "y_pred_rfe = (y_pred_proba_rfe >= 0.5).astype(int)          \n",
    "\n",
    "# Generate data for the 4 plots\n",
    "roc_data_rfe = plots.generate_roc_auc_data(y_val, y_pred_proba_rfe)\n",
    "goal_rate_x_rfe, goal_rate_y_rfe = plots.generate_goal_rate_data(y_val, y_pred_proba_rfe)\n",
    "cumulative_x_rfe, cumulative_y_rfe = plots.generate_cumulative_goal_data(y_val, y_pred_proba_rfe)\n",
    "calibration_prob_pred_rfe, calibration_prob_true_rfe = plots.generate_calibration_data(y_val, y_pred_proba_rfe)\n",
    "\n",
    "\n",
    "accuracy_rfe = accuracy_score(y_val, y_pred_rfe)\n",
    "\n"
   ]
  },
  {
   "cell_type": "code",
   "execution_count": 39,
   "metadata": {},
   "outputs": [
    {
     "data": {
      "text/plain": [
       "<Figure size 1200x800 with 0 Axes>"
      ]
     },
     "metadata": {},
     "output_type": "display_data"
    }
   ],
   "source": [
    "# Plot ROC/AUC\n",
    "plots.plot_roc_auc([roc_data_xgb], ['XGBoost '],\"roc_5_3.png\")\n",
    "\n",
    "# Plot Goal Rate vs Percentile\n",
    "plots.plot_goal_rate([(goal_rate_x, goal_rate_y)], ['XGBoost'],\"goal_rate_5_3.png\")\n",
    "\n",
    "# Plot Cumulative Goals vs Percentile\n",
    "plots.plot_cumulative_goals([(cumulative_x, cumulative_y)], ['XGBoost'],\"cumulative_goals_5_3.png\")\n",
    "\n",
    "# Plot Calibration Curve\n",
    "plots.plot_calibration([y_val], [y_pred_proba], ['XGBoost'],\"calibration_5_3.png\")"
   ]
  },
  {
   "cell_type": "code",
   "execution_count": 40,
   "metadata": {},
   "outputs": [
    {
     "data": {
      "text/html": [
       "Tracking run with wandb version 0.18.7"
      ],
      "text/plain": [
       "<IPython.core.display.HTML object>"
      ]
     },
     "metadata": {},
     "output_type": "display_data"
    },
    {
     "data": {
      "text/html": [
       "Run data is saved locally in <code>c:\\Users\\hicha\\OneDrive\\Bureau\\IFT6358\\wandb\\run-20241122_171810-v89xurl9</code>"
      ],
      "text/plain": [
       "<IPython.core.display.HTML object>"
      ]
     },
     "metadata": {},
     "output_type": "display_data"
    },
    {
     "data": {
      "text/html": [
       "Syncing run <strong><a href='https://wandb.ai/hicham-mazouzi-university-of-montreal/IFT6758.2024-A/runs/v89xurl9' target=\"_blank\">Best_Features_XGBoost_Q5_3</a></strong> to <a href='https://wandb.ai/hicham-mazouzi-university-of-montreal/IFT6758.2024-A' target=\"_blank\">Weights & Biases</a> (<a href='https://wandb.me/developer-guide' target=\"_blank\">docs</a>)<br/>"
      ],
      "text/plain": [
       "<IPython.core.display.HTML object>"
      ]
     },
     "metadata": {},
     "output_type": "display_data"
    },
    {
     "data": {
      "text/html": [
       " View project at <a href='https://wandb.ai/hicham-mazouzi-university-of-montreal/IFT6758.2024-A' target=\"_blank\">https://wandb.ai/hicham-mazouzi-university-of-montreal/IFT6758.2024-A</a>"
      ],
      "text/plain": [
       "<IPython.core.display.HTML object>"
      ]
     },
     "metadata": {},
     "output_type": "display_data"
    },
    {
     "data": {
      "text/html": [
       " View run at <a href='https://wandb.ai/hicham-mazouzi-university-of-montreal/IFT6758.2024-A/runs/v89xurl9' target=\"_blank\">https://wandb.ai/hicham-mazouzi-university-of-montreal/IFT6758.2024-A/runs/v89xurl9</a>"
      ],
      "text/plain": [
       "<IPython.core.display.HTML object>"
      ]
     },
     "metadata": {},
     "output_type": "display_data"
    },
    {
     "data": {
      "application/vnd.jupyter.widget-view+json": {
       "model_id": "c022f2f3d3064dde83d17ea6132cd130",
       "version_major": 2,
       "version_minor": 0
      },
      "text/plain": [
       "VBox(children=(Label(value='0.795 MB of 0.795 MB uploaded\\r'), FloatProgress(value=1.0, max=1.0)))"
      ]
     },
     "metadata": {},
     "output_type": "display_data"
    },
    {
     "data": {
      "text/html": [
       "\n",
       "    <style>\n",
       "        .wandb-row {\n",
       "            display: flex;\n",
       "            flex-direction: row;\n",
       "            flex-wrap: wrap;\n",
       "            justify-content: flex-start;\n",
       "            width: 100%;\n",
       "        }\n",
       "        .wandb-col {\n",
       "            display: flex;\n",
       "            flex-direction: column;\n",
       "            flex-basis: 100%;\n",
       "            flex: 1;\n",
       "            padding: 10px;\n",
       "        }\n",
       "    </style>\n",
       "<div class=\"wandb-row\"><div class=\"wandb-col\"><h3>Run history:</h3><br/><table class=\"wandb\"><tr><td>accuracy</td><td>▁</td></tr><tr><td>roc_auc</td><td>▁</td></tr></table><br/></div><div class=\"wandb-col\"><h3>Run summary:</h3><br/><table class=\"wandb\"><tr><td>accuracy</td><td>0.93059</td></tr><tr><td>roc_auc</td><td>0.77999</td></tr></table><br/></div></div>"
      ],
      "text/plain": [
       "<IPython.core.display.HTML object>"
      ]
     },
     "metadata": {},
     "output_type": "display_data"
    },
    {
     "data": {
      "text/html": [
       " View run <strong style=\"color:#cdcd00\">Best_Features_XGBoost_Q5_3</strong> at: <a href='https://wandb.ai/hicham-mazouzi-university-of-montreal/IFT6758.2024-A/runs/v89xurl9' target=\"_blank\">https://wandb.ai/hicham-mazouzi-university-of-montreal/IFT6758.2024-A/runs/v89xurl9</a><br/> View project at: <a href='https://wandb.ai/hicham-mazouzi-university-of-montreal/IFT6758.2024-A' target=\"_blank\">https://wandb.ai/hicham-mazouzi-university-of-montreal/IFT6758.2024-A</a><br/>Synced 5 W&B file(s), 0 media file(s), 4 artifact file(s) and 4 other file(s)"
      ],
      "text/plain": [
       "<IPython.core.display.HTML object>"
      ]
     },
     "metadata": {},
     "output_type": "display_data"
    },
    {
     "data": {
      "text/html": [
       "Find logs at: <code>.\\wandb\\run-20241122_171810-v89xurl9\\logs</code>"
      ],
      "text/plain": [
       "<IPython.core.display.HTML object>"
      ]
     },
     "metadata": {},
     "output_type": "display_data"
    }
   ],
   "source": [
    "wandb.init(\n",
    "    project=\"IFT6758.2024-A\",\n",
    "    name=\"Best_Features_XGBoost_Q5_3\",\n",
    "    notes=\"Modele XGBoost avec le meilleur ensemble de caracteristiques trouvees\"\n",
    ")\n",
    "wandb.log({\n",
    "    \"accuracy\": accuracy_rfe,  \n",
    "    \"roc_auc\": roc_data_rfe['roc_auc'],\n",
    "})\n",
    "# Log the image to W&B\n",
    "wandb.log({\"roc_curve_5_3\": wandb.Image(\"roc_5_3.png\", caption=\"ROC Curve for  5.3\")})\n",
    "wandb.log({\"goal_rate_5_3\": wandb.Image(\"goal_rate_5_3.png\", caption=\"Goal Rate Curve for  5.3\")})\n",
    "wandb.log({\"cumulative_goals_5_3\": wandb.Image(\"cumulative_goals_5_3.png\", caption=\"Cumulative Goald Curve for  5.3\")})\n",
    "wandb.log({\"calibration_5_3\": wandb.Image(\"calibration_5_3.png\", caption=\"Calibration Curve for  5.3\")})\n",
    "\n",
    "best_model_path = \"Models/features_xgboost_q5_3.json\"\n",
    "model_rfe.save_model(best_model_path)\n",
    "\n",
    "# Log the model artifact\n",
    "artifact = wandb.Artifact(\n",
    "    name=\"Feature_XGBoost_Q5_3\",\n",
    "    type=\"model\",\n",
    "    description=\" XGBoost avec le meilleur ensemble de caracteristiques trouvees\"\n",
    ")\n",
    "artifact.add_file(best_model_path)\n",
    "wandb.log_artifact(artifact)\n",
    "\n",
    "# Finish the run\n",
    "wandb.finish()"
   ]
  }
 ],
 "metadata": {
  "kernelspec": {
   "display_name": "Python 3",
   "language": "python",
   "name": "python3"
  },
  "language_info": {
   "codemirror_mode": {
    "name": "ipython",
    "version": 3
   },
   "file_extension": ".py",
   "mimetype": "text/x-python",
   "name": "python",
   "nbconvert_exporter": "python",
   "pygments_lexer": "ipython3",
   "version": "3.10.0"
  }
 },
 "nbformat": 4,
 "nbformat_minor": 2
}
